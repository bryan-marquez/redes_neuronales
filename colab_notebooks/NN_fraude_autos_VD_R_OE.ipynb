{
  "nbformat": 4,
  "nbformat_minor": 0,
  "metadata": {
    "colab": {
      "provenance": [],
      "toc_visible": true,
      "authorship_tag": "ABX9TyNf9jB/klUKQozeM3O5MiLX"
    },
    "kernelspec": {
      "name": "ir",
      "display_name": "R"
    },
    "language_info": {
      "name": "R"
    }
  },
  "cells": [
    {
      "cell_type": "markdown",
      "source": [
        "# Análisis de Datos de Fraude en Seguros de Auto / Redes Neuronales / R"
      ],
      "metadata": {
        "id": "hP26NvdelyJr"
      }
    },
    {
      "cell_type": "markdown",
      "source": [
        "# 2 Procesamiento de los Datos"
      ],
      "metadata": {
        "id": "bJVBG-GxmFL0"
      }
    },
    {
      "cell_type": "markdown",
      "source": [
        "# 2.1 Carga de librerías"
      ],
      "metadata": {
        "id": "fO0GKa08mSv8"
      }
    },
    {
      "cell_type": "code",
      "source": [
        "# Instalamos Keras y Tensorflow\n",
        "\n",
        "install.packages(\"keras\")"
      ],
      "metadata": {
        "colab": {
          "base_uri": "https://localhost:8080/"
        },
        "id": "vML4O5LKhyQs",
        "outputId": "c239f615-0888-42ec-91c1-3a2a53e2075c"
      },
      "execution_count": null,
      "outputs": [
        {
          "output_type": "stream",
          "name": "stderr",
          "text": [
            "Installing package into ‘/usr/local/lib/R/site-library’\n",
            "(as ‘lib’ is unspecified)\n",
            "\n",
            "also installing the dependencies ‘Rcpp’, ‘RcppTOML’, ‘here’, ‘png’, ‘config’, ‘tfautograph’, ‘reticulate’, ‘tensorflow’, ‘tfruns’, ‘zeallot’\n",
            "\n",
            "\n"
          ]
        }
      ]
    },
    {
      "cell_type": "code",
      "source": [
        "install.packages(\"caret\")"
      ],
      "metadata": {
        "colab": {
          "base_uri": "https://localhost:8080/"
        },
        "id": "q2OkO5Sapq2I",
        "outputId": "911ab0f7-d43a-4a39-88bf-495a72737f2c"
      },
      "execution_count": null,
      "outputs": [
        {
          "output_type": "stream",
          "name": "stderr",
          "text": [
            "Installing package into ‘/usr/local/lib/R/site-library’\n",
            "(as ‘lib’ is unspecified)\n",
            "\n",
            "also installing the dependencies ‘listenv’, ‘parallelly’, ‘future’, ‘globals’, ‘future.apply’, ‘numDeriv’, ‘progressr’, ‘SQUAREM’, ‘lava’, ‘prodlim’, ‘proxy’, ‘iterators’, ‘gower’, ‘hardhat’, ‘ipred’, ‘timeDate’, ‘e1071’, ‘foreach’, ‘ModelMetrics’, ‘plyr’, ‘pROC’, ‘recipes’, ‘reshape2’\n",
            "\n",
            "\n"
          ]
        }
      ]
    },
    {
      "cell_type": "code",
      "source": [
        "install.packages(\"RANN\")"
      ],
      "metadata": {
        "colab": {
          "base_uri": "https://localhost:8080/"
        },
        "id": "EcE4O6wnrKS3",
        "outputId": "dc8e8ec1-0a1c-49d6-e338-217083161cbc"
      },
      "execution_count": null,
      "outputs": [
        {
          "output_type": "stream",
          "name": "stderr",
          "text": [
            "Installing package into ‘/usr/local/lib/R/site-library’\n",
            "(as ‘lib’ is unspecified)\n",
            "\n"
          ]
        }
      ]
    },
    {
      "cell_type": "code",
      "source": [
        "install.packages(\"performanceEstimation\")"
      ],
      "metadata": {
        "colab": {
          "base_uri": "https://localhost:8080/"
        },
        "id": "ea2TRp-Wt_kc",
        "outputId": "ceb370a2-cef2-4741-a77e-6f45a05cad20"
      },
      "execution_count": null,
      "outputs": [
        {
          "output_type": "stream",
          "name": "stderr",
          "text": [
            "Installing package into ‘/usr/local/lib/R/site-library’\n",
            "(as ‘lib’ is unspecified)\n",
            "\n",
            "also installing the dependencies ‘BBmisc’, ‘checkmate’, ‘parallelMap’\n",
            "\n",
            "\n"
          ]
        }
      ]
    },
    {
      "cell_type": "code",
      "source": [
        "# Cargamos las liberías a utilizar\n",
        "\n",
        "library(dplyr)\n",
        "library(keras)\n",
        "library(caret)\n",
        "library(RANN)\n",
        "library(performanceEstimation)"
      ],
      "metadata": {
        "id": "Ny712ftbhn4u",
        "colab": {
          "base_uri": "https://localhost:8080/"
        },
        "outputId": "763d5675-511e-44a2-deff-72b52bd9b52d"
      },
      "execution_count": null,
      "outputs": [
        {
          "output_type": "stream",
          "name": "stderr",
          "text": [
            "Loading required package: ggplot2\n",
            "\n",
            "Loading required package: lattice\n",
            "\n",
            "Warning message in system(\"timedatectl\", intern = TRUE):\n",
            "“running command 'timedatectl' had status 1”\n"
          ]
        }
      ]
    },
    {
      "cell_type": "markdown",
      "source": [
        "# 2.2 Carga de Datos"
      ],
      "metadata": {
        "id": "PCa8VV1am6eC"
      }
    },
    {
      "cell_type": "code",
      "source": [
        "# Cargamos los datos\n",
        "archivo <- \"/content/sample_data/Dataset.csv\"\n",
        "car_fraud <- read.csv(archivo)\n",
        "head(car_fraud)"
      ],
      "metadata": {
        "colab": {
          "base_uri": "https://localhost:8080/",
          "height": 306
        },
        "id": "UqhZUeRBj4s2",
        "outputId": "378e9db6-5bad-4255-c01b-cab53bdca650"
      },
      "execution_count": null,
      "outputs": [
        {
          "output_type": "display_data",
          "data": {
            "text/html": [
              "<table class=\"dataframe\">\n",
              "<caption>A data.frame: 6 × 34</caption>\n",
              "<thead>\n",
              "\t<tr><th></th><th scope=col>Month</th><th scope=col>WeekOfMonth</th><th scope=col>DayOfWeek</th><th scope=col>Make</th><th scope=col>AccidentArea</th><th scope=col>DayOfWeekClaimed</th><th scope=col>MonthClaimed</th><th scope=col>WeekOfMonthClaimed</th><th scope=col>Sex</th><th scope=col>MaritalStatus</th><th scope=col>⋯</th><th scope=col>AgeOfPolicyHolder</th><th scope=col>PoliceReportFiled</th><th scope=col>WitnessPresent</th><th scope=col>AgentType</th><th scope=col>NumberOfSuppliments</th><th scope=col>AddressChange_Claim</th><th scope=col>NumberOfCars</th><th scope=col>Year</th><th scope=col>BasePolicy</th><th scope=col>ClaimSize</th></tr>\n",
              "\t<tr><th></th><th scope=col>&lt;chr&gt;</th><th scope=col>&lt;int&gt;</th><th scope=col>&lt;chr&gt;</th><th scope=col>&lt;chr&gt;</th><th scope=col>&lt;chr&gt;</th><th scope=col>&lt;chr&gt;</th><th scope=col>&lt;chr&gt;</th><th scope=col>&lt;int&gt;</th><th scope=col>&lt;chr&gt;</th><th scope=col>&lt;chr&gt;</th><th scope=col>⋯</th><th scope=col>&lt;chr&gt;</th><th scope=col>&lt;chr&gt;</th><th scope=col>&lt;chr&gt;</th><th scope=col>&lt;chr&gt;</th><th scope=col>&lt;chr&gt;</th><th scope=col>&lt;chr&gt;</th><th scope=col>&lt;chr&gt;</th><th scope=col>&lt;int&gt;</th><th scope=col>&lt;chr&gt;</th><th scope=col>&lt;dbl&gt;</th></tr>\n",
              "</thead>\n",
              "<tbody>\n",
              "\t<tr><th scope=row>1</th><td>Dec</td><td>5</td><td>Wednesday</td><td>Honda </td><td>Urban</td><td>Tuesday  </td><td>Jan</td><td>1</td><td>Female</td><td>Single </td><td>⋯</td><td>26 to 30</td><td>No </td><td>No </td><td>External</td><td>none       </td><td>1 year   </td><td>3 to 4   </td><td>1994</td><td>Liability</td><td>55526.069</td></tr>\n",
              "\t<tr><th scope=row>2</th><td>Jan</td><td>3</td><td>Wednesday</td><td>Honda </td><td>Urban</td><td>Monday   </td><td>Jan</td><td>4</td><td>Male  </td><td>Single </td><td>⋯</td><td>31 to 35</td><td>Yes</td><td>No </td><td>External</td><td>none       </td><td>no change</td><td>1 vehicle</td><td>1994</td><td>Collision</td><td>59294.456</td></tr>\n",
              "\t<tr><th scope=row>3</th><td>Oct</td><td>5</td><td>Friday   </td><td>Honda </td><td>Urban</td><td>Thursday </td><td>Nov</td><td>2</td><td>Male  </td><td>Married</td><td>⋯</td><td>41 to 50</td><td>No </td><td>No </td><td>External</td><td>none       </td><td>no change</td><td>1 vehicle</td><td>1994</td><td>Collision</td><td>71756.941</td></tr>\n",
              "\t<tr><th scope=row>4</th><td>Jun</td><td>2</td><td>Saturday </td><td>Toyota</td><td>Rural</td><td>Friday   </td><td>Jul</td><td>1</td><td>Male  </td><td>Married</td><td>⋯</td><td>51 to 65</td><td>Yes</td><td>No </td><td>External</td><td>more than 5</td><td>no change</td><td>1 vehicle</td><td>1994</td><td>Liability</td><td> 7584.153</td></tr>\n",
              "\t<tr><th scope=row>5</th><td>Feb</td><td>1</td><td>Saturday </td><td>Honda </td><td>Urban</td><td>Monday   </td><td>Feb</td><td>3</td><td>Male  </td><td>Married</td><td>⋯</td><td>36 to 40</td><td>No </td><td>No </td><td>External</td><td>1 to 2     </td><td>no change</td><td>1 vehicle</td><td>1994</td><td>Collision</td><td>98545.374</td></tr>\n",
              "\t<tr><th scope=row>6</th><td>Dec</td><td>4</td><td>Saturday </td><td>Honda </td><td>Urban</td><td>Wednesday</td><td>Dec</td><td>5</td><td>Male  </td><td>Single </td><td>⋯</td><td>31 to 35</td><td>No </td><td>Yes</td><td>External</td><td>3 to 5     </td><td>no change</td><td>1 vehicle</td><td>1994</td><td>Collision</td><td>57166.761</td></tr>\n",
              "</tbody>\n",
              "</table>\n"
            ],
            "text/markdown": "\nA data.frame: 6 × 34\n\n| <!--/--> | Month &lt;chr&gt; | WeekOfMonth &lt;int&gt; | DayOfWeek &lt;chr&gt; | Make &lt;chr&gt; | AccidentArea &lt;chr&gt; | DayOfWeekClaimed &lt;chr&gt; | MonthClaimed &lt;chr&gt; | WeekOfMonthClaimed &lt;int&gt; | Sex &lt;chr&gt; | MaritalStatus &lt;chr&gt; | ⋯ ⋯ | AgeOfPolicyHolder &lt;chr&gt; | PoliceReportFiled &lt;chr&gt; | WitnessPresent &lt;chr&gt; | AgentType &lt;chr&gt; | NumberOfSuppliments &lt;chr&gt; | AddressChange_Claim &lt;chr&gt; | NumberOfCars &lt;chr&gt; | Year &lt;int&gt; | BasePolicy &lt;chr&gt; | ClaimSize &lt;dbl&gt; |\n|---|---|---|---|---|---|---|---|---|---|---|---|---|---|---|---|---|---|---|---|---|---|\n| 1 | Dec | 5 | Wednesday | Honda  | Urban | Tuesday   | Jan | 1 | Female | Single  | ⋯ | 26 to 30 | No  | No  | External | none        | 1 year    | 3 to 4    | 1994 | Liability | 55526.069 |\n| 2 | Jan | 3 | Wednesday | Honda  | Urban | Monday    | Jan | 4 | Male   | Single  | ⋯ | 31 to 35 | Yes | No  | External | none        | no change | 1 vehicle | 1994 | Collision | 59294.456 |\n| 3 | Oct | 5 | Friday    | Honda  | Urban | Thursday  | Nov | 2 | Male   | Married | ⋯ | 41 to 50 | No  | No  | External | none        | no change | 1 vehicle | 1994 | Collision | 71756.941 |\n| 4 | Jun | 2 | Saturday  | Toyota | Rural | Friday    | Jul | 1 | Male   | Married | ⋯ | 51 to 65 | Yes | No  | External | more than 5 | no change | 1 vehicle | 1994 | Liability |  7584.153 |\n| 5 | Feb | 1 | Saturday  | Honda  | Urban | Monday    | Feb | 3 | Male   | Married | ⋯ | 36 to 40 | No  | No  | External | 1 to 2      | no change | 1 vehicle | 1994 | Collision | 98545.374 |\n| 6 | Dec | 4 | Saturday  | Honda  | Urban | Wednesday | Dec | 5 | Male   | Single  | ⋯ | 31 to 35 | No  | Yes | External | 3 to 5      | no change | 1 vehicle | 1994 | Collision | 57166.761 |\n\n",
            "text/latex": "A data.frame: 6 × 34\n\\begin{tabular}{r|lllllllllllllllllllll}\n  & Month & WeekOfMonth & DayOfWeek & Make & AccidentArea & DayOfWeekClaimed & MonthClaimed & WeekOfMonthClaimed & Sex & MaritalStatus & ⋯ & AgeOfPolicyHolder & PoliceReportFiled & WitnessPresent & AgentType & NumberOfSuppliments & AddressChange\\_Claim & NumberOfCars & Year & BasePolicy & ClaimSize\\\\\n  & <chr> & <int> & <chr> & <chr> & <chr> & <chr> & <chr> & <int> & <chr> & <chr> & ⋯ & <chr> & <chr> & <chr> & <chr> & <chr> & <chr> & <chr> & <int> & <chr> & <dbl>\\\\\n\\hline\n\t1 & Dec & 5 & Wednesday & Honda  & Urban & Tuesday   & Jan & 1 & Female & Single  & ⋯ & 26 to 30 & No  & No  & External & none        & 1 year    & 3 to 4    & 1994 & Liability & 55526.069\\\\\n\t2 & Jan & 3 & Wednesday & Honda  & Urban & Monday    & Jan & 4 & Male   & Single  & ⋯ & 31 to 35 & Yes & No  & External & none        & no change & 1 vehicle & 1994 & Collision & 59294.456\\\\\n\t3 & Oct & 5 & Friday    & Honda  & Urban & Thursday  & Nov & 2 & Male   & Married & ⋯ & 41 to 50 & No  & No  & External & none        & no change & 1 vehicle & 1994 & Collision & 71756.941\\\\\n\t4 & Jun & 2 & Saturday  & Toyota & Rural & Friday    & Jul & 1 & Male   & Married & ⋯ & 51 to 65 & Yes & No  & External & more than 5 & no change & 1 vehicle & 1994 & Liability &  7584.153\\\\\n\t5 & Feb & 1 & Saturday  & Honda  & Urban & Monday    & Feb & 3 & Male   & Married & ⋯ & 36 to 40 & No  & No  & External & 1 to 2      & no change & 1 vehicle & 1994 & Collision & 98545.374\\\\\n\t6 & Dec & 4 & Saturday  & Honda  & Urban & Wednesday & Dec & 5 & Male   & Single  & ⋯ & 31 to 35 & No  & Yes & External & 3 to 5      & no change & 1 vehicle & 1994 & Collision & 57166.761\\\\\n\\end{tabular}\n",
            "text/plain": [
              "  Month WeekOfMonth DayOfWeek Make   AccidentArea DayOfWeekClaimed MonthClaimed\n",
              "1 Dec   5           Wednesday Honda  Urban        Tuesday          Jan         \n",
              "2 Jan   3           Wednesday Honda  Urban        Monday           Jan         \n",
              "3 Oct   5           Friday    Honda  Urban        Thursday         Nov         \n",
              "4 Jun   2           Saturday  Toyota Rural        Friday           Jul         \n",
              "5 Feb   1           Saturday  Honda  Urban        Monday           Feb         \n",
              "6 Dec   4           Saturday  Honda  Urban        Wednesday        Dec         \n",
              "  WeekOfMonthClaimed Sex    MaritalStatus ⋯ AgeOfPolicyHolder PoliceReportFiled\n",
              "1 1                  Female Single        ⋯ 26 to 30          No               \n",
              "2 4                  Male   Single        ⋯ 31 to 35          Yes              \n",
              "3 2                  Male   Married       ⋯ 41 to 50          No               \n",
              "4 1                  Male   Married       ⋯ 51 to 65          Yes              \n",
              "5 3                  Male   Married       ⋯ 36 to 40          No               \n",
              "6 5                  Male   Single        ⋯ 31 to 35          No               \n",
              "  WitnessPresent AgentType NumberOfSuppliments AddressChange_Claim NumberOfCars\n",
              "1 No             External  none                1 year              3 to 4      \n",
              "2 No             External  none                no change           1 vehicle   \n",
              "3 No             External  none                no change           1 vehicle   \n",
              "4 No             External  more than 5         no change           1 vehicle   \n",
              "5 No             External  1 to 2              no change           1 vehicle   \n",
              "6 Yes            External  3 to 5              no change           1 vehicle   \n",
              "  Year BasePolicy ClaimSize\n",
              "1 1994 Liability  55526.069\n",
              "2 1994 Collision  59294.456\n",
              "3 1994 Collision  71756.941\n",
              "4 1994 Liability   7584.153\n",
              "5 1994 Collision  98545.374\n",
              "6 1994 Collision  57166.761"
            ]
          },
          "metadata": {}
        }
      ]
    },
    {
      "cell_type": "code",
      "source": [
        "# Mostramos el número de filas y columnas\n",
        "dim(car_fraud)"
      ],
      "metadata": {
        "colab": {
          "base_uri": "https://localhost:8080/",
          "height": 34
        },
        "id": "RQfDU2O-nStA",
        "outputId": "3a640e0b-a726-4b68-b9c4-04c21cb5413e"
      },
      "execution_count": null,
      "outputs": [
        {
          "output_type": "display_data",
          "data": {
            "text/html": [
              "<style>\n",
              ".list-inline {list-style: none; margin:0; padding: 0}\n",
              ".list-inline>li {display: inline-block}\n",
              ".list-inline>li:not(:last-child)::after {content: \"\\00b7\"; padding: 0 .5ex}\n",
              "</style>\n",
              "<ol class=list-inline><li>11565</li><li>34</li></ol>\n"
            ],
            "text/markdown": "1. 11565\n2. 34\n\n\n",
            "text/latex": "\\begin{enumerate*}\n\\item 11565\n\\item 34\n\\end{enumerate*}\n",
            "text/plain": [
              "[1] 11565    34"
            ]
          },
          "metadata": {}
        }
      ]
    },
    {
      "cell_type": "markdown",
      "source": [
        "# 2.3 Codificación de Datos Categóricos"
      ],
      "metadata": {
        "id": "7X2VI7dBVSQz"
      }
    },
    {
      "cell_type": "code",
      "source": [
        "# Convertimos a factor las variables categóricas ordinales y nominales\n",
        "car_fraud$FraudFound_P <- factor(car_fraud$FraudFound_P)\n",
        "car_fraud$Month <- as.numeric(factor(car_fraud$Month,\n",
        "                          levels = c('Jan', 'Feb', 'Mar', 'Apr', 'May', 'Jun', 'Jul', 'Aug', 'Sep', 'Oct', 'Nov', 'Dec'),\n",
        "                          labels = c(1, 2, 3, 4, 5, 6, 7, 8, 9, 10, 11, 12)))\n",
        "car_fraud$DayOfWeek <- as.numeric(factor(car_fraud$DayOfWeek,\n",
        "                              levels = c('Monday', 'Tuesday', 'Wednesday', 'Thursday', 'Friday', 'Saturday', 'Sunday'),\n",
        "                              labels = c(1, 2, 3, 4, 5, 6, 7)))\n",
        "car_fraud$Make <- as.numeric(factor(car_fraud$Make,\n",
        "                        levels = c('Accura', 'BMW', 'Chevrolet', 'Dodge', 'Ferrari', 'Ford', 'Honda', 'Jaguar', 'Lexus', 'Mazda', 'Mecedes', 'Mercury', 'Nisson', 'Pontiac', 'Porche', 'Saab', 'Saturn', 'Toyota', 'VW'),\n",
        "                        labels = c(1, 2, 3, 4, 5, 6, 7, 8, 9, 10, 11, 12, 13, 14, 15, 16, 17, 18, 19)))\n",
        "car_fraud$AccidentArea <- as.numeric(factor(car_fraud$AccidentArea,\n",
        "                                levels = c('Rural', 'Urban'),\n",
        "                                labels = c(1, 2)))\n",
        "car_fraud$DayOfWeekClaimed <- as.numeric(factor(car_fraud$DayOfWeekClaimed,\n",
        "                                    levels = c('Monday', 'Tuesday', 'Wednesday', 'Thursday', 'Friday', 'Saturday', 'Sunday'),\n",
        "                                    labels = c(1, 2, 3, 4, 5, 6, 7)))\n",
        "car_fraud$MonthClaimed <- as.numeric(factor(car_fraud$MonthClaimed,\n",
        "                                levels = c('Jan', 'Feb', 'Mar', 'Apr', 'May', 'Jun', 'Jul', 'Aug', 'Sep', 'Oct', 'Nov', 'Dec'),\n",
        "                                labels = c(1, 2, 3, 4, 5, 6, 7, 8, 9, 10, 11, 12)))\n",
        "car_fraud$Sex <- as.numeric(factor(car_fraud$Sex,\n",
        "                        levels = c('Male', 'Female'),\n",
        "                        labels = c(1, 2)))\n",
        "car_fraud$MaritalStatus <- as.numeric(factor(car_fraud$MaritalStatus,\n",
        "                                  levels = c('Single', 'Married', 'Widow', 'Divorced'),\n",
        "                                  labels = c(1, 2, 3, 4)))\n",
        "car_fraud$Fault <- as.numeric(factor(car_fraud$Fault,\n",
        "                          levels = c('Policy Holder', 'Third Party'),\n",
        "                          labels = c(1, 2)))\n",
        "car_fraud$PolicyType <- as.numeric(factor(car_fraud$PolicyType,\n",
        "                              levels = c('Sport - Liability', 'Sport - Collision', 'Sedan - Liability', 'Sedan - All Perils', 'Sedan - Collision', 'Utility - Collision', 'Utility - Liability', 'Utility - All Perils', 'Sport - All Perils'),\n",
        "                              labels = c(1, 2, 3, 4, 5, 6, 7, 8, 9)))\n",
        "car_fraud$VehicleCategory <- as.numeric(factor(car_fraud$VehicleCategory,\n",
        "                                    levels = c('Sport', 'Sedan', 'Utility'),\n",
        "                                    labels = c(1, 2, 3)))\n",
        "car_fraud$VehiclePrice <- as.numeric(factor(car_fraud$VehiclePrice,\n",
        "                                levels = c('less than 20000', '20000 to 29000', '30000 to 39000', '40000 to 59000', '60000 to 69000', 'more than 69000'),\n",
        "                                labels = c(1, 2, 3, 4, 5, 6)))\n",
        "car_fraud$Days_Policy_Accident <- as.numeric(factor(car_fraud$Days_Policy_Accident,\n",
        "                                        levels = c('none', '1 to 7', '8 to 15', '15 to 30', 'more than 30'),\n",
        "                                        labels = c(1, 2, 3, 4, 5)))\n",
        "car_fraud$Days_Policy_Claim <- as.numeric(factor(car_fraud$Days_Policy_Claim,\n",
        "                                      levels = c('none', '8 to 15', '15 to 30', 'more than 30'),\n",
        "                                      labels = c(1, 2, 3, 4)))\n",
        "car_fraud$PastNumberOfClaims <- as.numeric(factor(car_fraud$PastNumberOfClaims,\n",
        "                                      levels = c('none', '1', '2 to 4', 'more than 4'),\n",
        "                                      labels = c(1, 2, 3, 4)))\n",
        "car_fraud$AgeOfVehicle <- as.numeric(factor(car_fraud$AgeOfVehicle,\n",
        "                                levels = c('new', '2 years', '3 years', '4 years', '5 years', '6 years', '7 years', 'more than 7'),\n",
        "                                labels = c(1, 2, 3, 4, 5, 6, 7, 8)))\n",
        "car_fraud$AgeOfPolicyHolder <- as.numeric(factor(car_fraud$AgeOfPolicyHolder,\n",
        "                                      levels = c('16 to 17', '18 to 20', '21 to 25', '26 to 30', '31 to 35', '36 to 40', '41 to 50', '51 to 65', 'over 65'),\n",
        "                                      labels = c(1, 2, 3, 4, 5, 6, 7, 8, 9)))\n",
        "car_fraud$PoliceReportFiled <- as.numeric(factor(car_fraud$PoliceReportFiled,\n",
        "                                      levels = c('No', 'Yes'),\n",
        "                                      labels = c(1, 2)))\n",
        "car_fraud$WitnessPresent <- as.numeric(factor(car_fraud$WitnessPresent,\n",
        "                                  levels = c('No', 'Yes'),\n",
        "                                  labels = c(1, 2)))\n",
        "car_fraud$AgentType <- as.numeric(factor(car_fraud$AgentType,\n",
        "                              levels = c('External', 'Internal'),\n",
        "                              labels = c(1, 2)))\n",
        "car_fraud$NumberOfSuppliments <- as.numeric(factor(car_fraud$NumberOfSuppliments,\n",
        "                                      levels = c('none', '1 to 2', '3 to 5', 'more than 5'),\n",
        "                                      labels = c(1, 2, 3, 4)))\n",
        "car_fraud$AddressChange_Claim <- as.numeric(factor(car_fraud$AddressChange_Claim,\n",
        "                                        levels = c('no change', 'under 6 months', '1 year', '2 to 3 years', '4 to 8 years'),\n",
        "                                        labels = c(1, 2, 3, 4, 5)))\n",
        "car_fraud$NumberOfCars <- as.numeric(factor(car_fraud$NumberOfCars,\n",
        "                                levels = c('1 vehicle', '2 vehicles', '3 to 4', '5 to 8', 'more than 9'),\n",
        "                                labels = c(1, 2, 3, 4, 5)))\n",
        "car_fraud$BasePolicy <- as.numeric(factor(car_fraud$BasePolicy,\n",
        "                                          levels = c('Liability', 'Collision', 'All Perils'),\n",
        "                                          labels = c(1, 2, 3)))\n",
        "\n",
        "head(car_fraud)"
      ],
      "metadata": {
        "colab": {
          "base_uri": "https://localhost:8080/",
          "height": 306
        },
        "id": "WEfyuFrWAt2O",
        "outputId": "3a9e9060-d74b-486f-c6ff-87cffcb71476"
      },
      "execution_count": null,
      "outputs": [
        {
          "output_type": "display_data",
          "data": {
            "text/html": [
              "<table class=\"dataframe\">\n",
              "<caption>A data.frame: 6 × 34</caption>\n",
              "<thead>\n",
              "\t<tr><th></th><th scope=col>Month</th><th scope=col>WeekOfMonth</th><th scope=col>DayOfWeek</th><th scope=col>Make</th><th scope=col>AccidentArea</th><th scope=col>DayOfWeekClaimed</th><th scope=col>MonthClaimed</th><th scope=col>WeekOfMonthClaimed</th><th scope=col>Sex</th><th scope=col>MaritalStatus</th><th scope=col>⋯</th><th scope=col>AgeOfPolicyHolder</th><th scope=col>PoliceReportFiled</th><th scope=col>WitnessPresent</th><th scope=col>AgentType</th><th scope=col>NumberOfSuppliments</th><th scope=col>AddressChange_Claim</th><th scope=col>NumberOfCars</th><th scope=col>Year</th><th scope=col>BasePolicy</th><th scope=col>ClaimSize</th></tr>\n",
              "\t<tr><th></th><th scope=col>&lt;dbl&gt;</th><th scope=col>&lt;int&gt;</th><th scope=col>&lt;dbl&gt;</th><th scope=col>&lt;dbl&gt;</th><th scope=col>&lt;dbl&gt;</th><th scope=col>&lt;dbl&gt;</th><th scope=col>&lt;dbl&gt;</th><th scope=col>&lt;int&gt;</th><th scope=col>&lt;dbl&gt;</th><th scope=col>&lt;dbl&gt;</th><th scope=col>⋯</th><th scope=col>&lt;dbl&gt;</th><th scope=col>&lt;dbl&gt;</th><th scope=col>&lt;dbl&gt;</th><th scope=col>&lt;dbl&gt;</th><th scope=col>&lt;dbl&gt;</th><th scope=col>&lt;dbl&gt;</th><th scope=col>&lt;dbl&gt;</th><th scope=col>&lt;int&gt;</th><th scope=col>&lt;dbl&gt;</th><th scope=col>&lt;dbl&gt;</th></tr>\n",
              "</thead>\n",
              "<tbody>\n",
              "\t<tr><th scope=row>1</th><td>12</td><td>5</td><td>3</td><td> 7</td><td>2</td><td>2</td><td> 1</td><td>1</td><td>2</td><td>1</td><td>⋯</td><td>4</td><td>1</td><td>1</td><td>1</td><td>1</td><td>3</td><td>3</td><td>1994</td><td>1</td><td>55526.069</td></tr>\n",
              "\t<tr><th scope=row>2</th><td> 1</td><td>3</td><td>3</td><td> 7</td><td>2</td><td>1</td><td> 1</td><td>4</td><td>1</td><td>1</td><td>⋯</td><td>5</td><td>2</td><td>1</td><td>1</td><td>1</td><td>1</td><td>1</td><td>1994</td><td>2</td><td>59294.456</td></tr>\n",
              "\t<tr><th scope=row>3</th><td>10</td><td>5</td><td>5</td><td> 7</td><td>2</td><td>4</td><td>11</td><td>2</td><td>1</td><td>2</td><td>⋯</td><td>7</td><td>1</td><td>1</td><td>1</td><td>1</td><td>1</td><td>1</td><td>1994</td><td>2</td><td>71756.941</td></tr>\n",
              "\t<tr><th scope=row>4</th><td> 6</td><td>2</td><td>6</td><td>18</td><td>1</td><td>5</td><td> 7</td><td>1</td><td>1</td><td>2</td><td>⋯</td><td>8</td><td>2</td><td>1</td><td>1</td><td>4</td><td>1</td><td>1</td><td>1994</td><td>1</td><td> 7584.153</td></tr>\n",
              "\t<tr><th scope=row>5</th><td> 2</td><td>1</td><td>6</td><td> 7</td><td>2</td><td>1</td><td> 2</td><td>3</td><td>1</td><td>2</td><td>⋯</td><td>6</td><td>1</td><td>1</td><td>1</td><td>2</td><td>1</td><td>1</td><td>1994</td><td>2</td><td>98545.374</td></tr>\n",
              "\t<tr><th scope=row>6</th><td>12</td><td>4</td><td>6</td><td> 7</td><td>2</td><td>3</td><td>12</td><td>5</td><td>1</td><td>1</td><td>⋯</td><td>5</td><td>1</td><td>2</td><td>1</td><td>3</td><td>1</td><td>1</td><td>1994</td><td>2</td><td>57166.761</td></tr>\n",
              "</tbody>\n",
              "</table>\n"
            ],
            "text/markdown": "\nA data.frame: 6 × 34\n\n| <!--/--> | Month &lt;dbl&gt; | WeekOfMonth &lt;int&gt; | DayOfWeek &lt;dbl&gt; | Make &lt;dbl&gt; | AccidentArea &lt;dbl&gt; | DayOfWeekClaimed &lt;dbl&gt; | MonthClaimed &lt;dbl&gt; | WeekOfMonthClaimed &lt;int&gt; | Sex &lt;dbl&gt; | MaritalStatus &lt;dbl&gt; | ⋯ ⋯ | AgeOfPolicyHolder &lt;dbl&gt; | PoliceReportFiled &lt;dbl&gt; | WitnessPresent &lt;dbl&gt; | AgentType &lt;dbl&gt; | NumberOfSuppliments &lt;dbl&gt; | AddressChange_Claim &lt;dbl&gt; | NumberOfCars &lt;dbl&gt; | Year &lt;int&gt; | BasePolicy &lt;dbl&gt; | ClaimSize &lt;dbl&gt; |\n|---|---|---|---|---|---|---|---|---|---|---|---|---|---|---|---|---|---|---|---|---|---|\n| 1 | 12 | 5 | 3 |  7 | 2 | 2 |  1 | 1 | 2 | 1 | ⋯ | 4 | 1 | 1 | 1 | 1 | 3 | 3 | 1994 | 1 | 55526.069 |\n| 2 |  1 | 3 | 3 |  7 | 2 | 1 |  1 | 4 | 1 | 1 | ⋯ | 5 | 2 | 1 | 1 | 1 | 1 | 1 | 1994 | 2 | 59294.456 |\n| 3 | 10 | 5 | 5 |  7 | 2 | 4 | 11 | 2 | 1 | 2 | ⋯ | 7 | 1 | 1 | 1 | 1 | 1 | 1 | 1994 | 2 | 71756.941 |\n| 4 |  6 | 2 | 6 | 18 | 1 | 5 |  7 | 1 | 1 | 2 | ⋯ | 8 | 2 | 1 | 1 | 4 | 1 | 1 | 1994 | 1 |  7584.153 |\n| 5 |  2 | 1 | 6 |  7 | 2 | 1 |  2 | 3 | 1 | 2 | ⋯ | 6 | 1 | 1 | 1 | 2 | 1 | 1 | 1994 | 2 | 98545.374 |\n| 6 | 12 | 4 | 6 |  7 | 2 | 3 | 12 | 5 | 1 | 1 | ⋯ | 5 | 1 | 2 | 1 | 3 | 1 | 1 | 1994 | 2 | 57166.761 |\n\n",
            "text/latex": "A data.frame: 6 × 34\n\\begin{tabular}{r|lllllllllllllllllllll}\n  & Month & WeekOfMonth & DayOfWeek & Make & AccidentArea & DayOfWeekClaimed & MonthClaimed & WeekOfMonthClaimed & Sex & MaritalStatus & ⋯ & AgeOfPolicyHolder & PoliceReportFiled & WitnessPresent & AgentType & NumberOfSuppliments & AddressChange\\_Claim & NumberOfCars & Year & BasePolicy & ClaimSize\\\\\n  & <dbl> & <int> & <dbl> & <dbl> & <dbl> & <dbl> & <dbl> & <int> & <dbl> & <dbl> & ⋯ & <dbl> & <dbl> & <dbl> & <dbl> & <dbl> & <dbl> & <dbl> & <int> & <dbl> & <dbl>\\\\\n\\hline\n\t1 & 12 & 5 & 3 &  7 & 2 & 2 &  1 & 1 & 2 & 1 & ⋯ & 4 & 1 & 1 & 1 & 1 & 3 & 3 & 1994 & 1 & 55526.069\\\\\n\t2 &  1 & 3 & 3 &  7 & 2 & 1 &  1 & 4 & 1 & 1 & ⋯ & 5 & 2 & 1 & 1 & 1 & 1 & 1 & 1994 & 2 & 59294.456\\\\\n\t3 & 10 & 5 & 5 &  7 & 2 & 4 & 11 & 2 & 1 & 2 & ⋯ & 7 & 1 & 1 & 1 & 1 & 1 & 1 & 1994 & 2 & 71756.941\\\\\n\t4 &  6 & 2 & 6 & 18 & 1 & 5 &  7 & 1 & 1 & 2 & ⋯ & 8 & 2 & 1 & 1 & 4 & 1 & 1 & 1994 & 1 &  7584.153\\\\\n\t5 &  2 & 1 & 6 &  7 & 2 & 1 &  2 & 3 & 1 & 2 & ⋯ & 6 & 1 & 1 & 1 & 2 & 1 & 1 & 1994 & 2 & 98545.374\\\\\n\t6 & 12 & 4 & 6 &  7 & 2 & 3 & 12 & 5 & 1 & 1 & ⋯ & 5 & 1 & 2 & 1 & 3 & 1 & 1 & 1994 & 2 & 57166.761\\\\\n\\end{tabular}\n",
            "text/plain": [
              "  Month WeekOfMonth DayOfWeek Make AccidentArea DayOfWeekClaimed MonthClaimed\n",
              "1 12    5           3          7   2            2                 1          \n",
              "2  1    3           3          7   2            1                 1          \n",
              "3 10    5           5          7   2            4                11          \n",
              "4  6    2           6         18   1            5                 7          \n",
              "5  2    1           6          7   2            1                 2          \n",
              "6 12    4           6          7   2            3                12          \n",
              "  WeekOfMonthClaimed Sex MaritalStatus ⋯ AgeOfPolicyHolder PoliceReportFiled\n",
              "1 1                  2   1             ⋯ 4                 1                \n",
              "2 4                  1   1             ⋯ 5                 2                \n",
              "3 2                  1   2             ⋯ 7                 1                \n",
              "4 1                  1   2             ⋯ 8                 2                \n",
              "5 3                  1   2             ⋯ 6                 1                \n",
              "6 5                  1   1             ⋯ 5                 1                \n",
              "  WitnessPresent AgentType NumberOfSuppliments AddressChange_Claim NumberOfCars\n",
              "1 1              1         1                   3                   3           \n",
              "2 1              1         1                   1                   1           \n",
              "3 1              1         1                   1                   1           \n",
              "4 1              1         4                   1                   1           \n",
              "5 1              1         2                   1                   1           \n",
              "6 2              1         3                   1                   1           \n",
              "  Year BasePolicy ClaimSize\n",
              "1 1994 1          55526.069\n",
              "2 1994 2          59294.456\n",
              "3 1994 2          71756.941\n",
              "4 1994 1           7584.153\n",
              "5 1994 2          98545.374\n",
              "6 1994 2          57166.761"
            ]
          },
          "metadata": {}
        }
      ]
    },
    {
      "cell_type": "markdown",
      "source": [
        "# 2.4 División de los Datos"
      ],
      "metadata": {
        "id": "jWykjEWqOdox"
      }
    },
    {
      "cell_type": "code",
      "source": [
        "# Dividimos los datos\n",
        "dataframe <- select(car_fraud, -PolicyNumber) # quitamos la variable identidad\n",
        "dim(dataframe)\n",
        "X <- select(dataframe, -FraudFound_P) # quitamos la variable objetivo\n",
        "dim(X)"
      ],
      "metadata": {
        "colab": {
          "base_uri": "https://localhost:8080/",
          "height": 52
        },
        "id": "HEzjOyCrn1AY",
        "outputId": "af143f0d-6cf8-4aef-918d-2f5db3909aed"
      },
      "execution_count": null,
      "outputs": [
        {
          "output_type": "display_data",
          "data": {
            "text/html": [
              "<style>\n",
              ".list-inline {list-style: none; margin:0; padding: 0}\n",
              ".list-inline>li {display: inline-block}\n",
              ".list-inline>li:not(:last-child)::after {content: \"\\00b7\"; padding: 0 .5ex}\n",
              "</style>\n",
              "<ol class=list-inline><li>11565</li><li>33</li></ol>\n"
            ],
            "text/markdown": "1. 11565\n2. 33\n\n\n",
            "text/latex": "\\begin{enumerate*}\n\\item 11565\n\\item 33\n\\end{enumerate*}\n",
            "text/plain": [
              "[1] 11565    33"
            ]
          },
          "metadata": {}
        },
        {
          "output_type": "display_data",
          "data": {
            "text/html": [
              "<style>\n",
              ".list-inline {list-style: none; margin:0; padding: 0}\n",
              ".list-inline>li {display: inline-block}\n",
              ".list-inline>li:not(:last-child)::after {content: \"\\00b7\"; padding: 0 .5ex}\n",
              "</style>\n",
              "<ol class=list-inline><li>11565</li><li>32</li></ol>\n"
            ],
            "text/markdown": "1. 11565\n2. 32\n\n\n",
            "text/latex": "\\begin{enumerate*}\n\\item 11565\n\\item 32\n\\end{enumerate*}\n",
            "text/plain": [
              "[1] 11565    32"
            ]
          },
          "metadata": {}
        }
      ]
    },
    {
      "cell_type": "markdown",
      "source": [
        "#  2.5 Limpieza de Datos y Escalamiento de Variables"
      ],
      "metadata": {
        "id": "sfjga7zX1Pyf"
      }
    },
    {
      "cell_type": "code",
      "source": [
        "# Mostramos la suma de valores nulos\n",
        "sapply(X, function(x) sum(is.na(x)))"
      ],
      "metadata": {
        "colab": {
          "base_uri": "https://localhost:8080/",
          "height": 104
        },
        "id": "RqoO3Plj1Uuz",
        "outputId": "6171c293-1f72-4170-af2d-7a5cc0621719"
      },
      "execution_count": null,
      "outputs": [
        {
          "output_type": "display_data",
          "data": {
            "text/html": [
              "<style>\n",
              ".dl-inline {width: auto; margin:0; padding: 0}\n",
              ".dl-inline>dt, .dl-inline>dd {float: none; width: auto; display: inline-block}\n",
              ".dl-inline>dt::after {content: \":\\0020\"; padding-right: .5ex}\n",
              ".dl-inline>dt:not(:first-of-type) {padding-left: .5ex}\n",
              "</style><dl class=dl-inline><dt>Month</dt><dd>0</dd><dt>WeekOfMonth</dt><dd>0</dd><dt>DayOfWeek</dt><dd>0</dd><dt>Make</dt><dd>0</dd><dt>AccidentArea</dt><dd>0</dd><dt>DayOfWeekClaimed</dt><dd>1</dd><dt>MonthClaimed</dt><dd>1</dd><dt>WeekOfMonthClaimed</dt><dd>0</dd><dt>Sex</dt><dd>0</dd><dt>MaritalStatus</dt><dd>0</dd><dt>Age</dt><dd>5</dd><dt>Fault</dt><dd>0</dd><dt>PolicyType</dt><dd>0</dd><dt>VehicleCategory</dt><dd>0</dd><dt>VehiclePrice</dt><dd>0</dd><dt>RepNumber</dt><dd>0</dd><dt>Deductible</dt><dd>0</dd><dt>DriverRating</dt><dd>6</dd><dt>Days_Policy_Accident</dt><dd>0</dd><dt>Days_Policy_Claim</dt><dd>0</dd><dt>PastNumberOfClaims</dt><dd>0</dd><dt>AgeOfVehicle</dt><dd>0</dd><dt>AgeOfPolicyHolder</dt><dd>0</dd><dt>PoliceReportFiled</dt><dd>0</dd><dt>WitnessPresent</dt><dd>0</dd><dt>AgentType</dt><dd>0</dd><dt>NumberOfSuppliments</dt><dd>0</dd><dt>AddressChange_Claim</dt><dd>0</dd><dt>NumberOfCars</dt><dd>1</dd><dt>Year</dt><dd>0</dd><dt>BasePolicy</dt><dd>0</dd><dt>ClaimSize</dt><dd>0</dd></dl>\n"
            ],
            "text/markdown": "Month\n:   0WeekOfMonth\n:   0DayOfWeek\n:   0Make\n:   0AccidentArea\n:   0DayOfWeekClaimed\n:   1MonthClaimed\n:   1WeekOfMonthClaimed\n:   0Sex\n:   0MaritalStatus\n:   0Age\n:   5Fault\n:   0PolicyType\n:   0VehicleCategory\n:   0VehiclePrice\n:   0RepNumber\n:   0Deductible\n:   0DriverRating\n:   6Days_Policy_Accident\n:   0Days_Policy_Claim\n:   0PastNumberOfClaims\n:   0AgeOfVehicle\n:   0AgeOfPolicyHolder\n:   0PoliceReportFiled\n:   0WitnessPresent\n:   0AgentType\n:   0NumberOfSuppliments\n:   0AddressChange_Claim\n:   0NumberOfCars\n:   1Year\n:   0BasePolicy\n:   0ClaimSize\n:   0\n\n",
            "text/latex": "\\begin{description*}\n\\item[Month] 0\n\\item[WeekOfMonth] 0\n\\item[DayOfWeek] 0\n\\item[Make] 0\n\\item[AccidentArea] 0\n\\item[DayOfWeekClaimed] 1\n\\item[MonthClaimed] 1\n\\item[WeekOfMonthClaimed] 0\n\\item[Sex] 0\n\\item[MaritalStatus] 0\n\\item[Age] 5\n\\item[Fault] 0\n\\item[PolicyType] 0\n\\item[VehicleCategory] 0\n\\item[VehiclePrice] 0\n\\item[RepNumber] 0\n\\item[Deductible] 0\n\\item[DriverRating] 6\n\\item[Days\\textbackslash{}\\_Policy\\textbackslash{}\\_Accident] 0\n\\item[Days\\textbackslash{}\\_Policy\\textbackslash{}\\_Claim] 0\n\\item[PastNumberOfClaims] 0\n\\item[AgeOfVehicle] 0\n\\item[AgeOfPolicyHolder] 0\n\\item[PoliceReportFiled] 0\n\\item[WitnessPresent] 0\n\\item[AgentType] 0\n\\item[NumberOfSuppliments] 0\n\\item[AddressChange\\textbackslash{}\\_Claim] 0\n\\item[NumberOfCars] 1\n\\item[Year] 0\n\\item[BasePolicy] 0\n\\item[ClaimSize] 0\n\\end{description*}\n",
            "text/plain": [
              "               Month          WeekOfMonth            DayOfWeek \n",
              "                   0                    0                    0 \n",
              "                Make         AccidentArea     DayOfWeekClaimed \n",
              "                   0                    0                    1 \n",
              "        MonthClaimed   WeekOfMonthClaimed                  Sex \n",
              "                   1                    0                    0 \n",
              "       MaritalStatus                  Age                Fault \n",
              "                   0                    5                    0 \n",
              "          PolicyType      VehicleCategory         VehiclePrice \n",
              "                   0                    0                    0 \n",
              "           RepNumber           Deductible         DriverRating \n",
              "                   0                    0                    6 \n",
              "Days_Policy_Accident    Days_Policy_Claim   PastNumberOfClaims \n",
              "                   0                    0                    0 \n",
              "        AgeOfVehicle    AgeOfPolicyHolder    PoliceReportFiled \n",
              "                   0                    0                    0 \n",
              "      WitnessPresent            AgentType  NumberOfSuppliments \n",
              "                   0                    0                    0 \n",
              " AddressChange_Claim         NumberOfCars                 Year \n",
              "                   0                    1                    0 \n",
              "          BasePolicy            ClaimSize \n",
              "                   0                    0 "
            ]
          },
          "metadata": {}
        }
      ]
    },
    {
      "cell_type": "code",
      "source": [
        "# Mostramos la suma de valores cero\n",
        "sapply(X, function(x) sum(x == 0, na.rm = TRUE))"
      ],
      "metadata": {
        "colab": {
          "base_uri": "https://localhost:8080/",
          "height": 104
        },
        "id": "Dh2Qz-PIo8kC",
        "outputId": "8c7bdca2-8339-4816-9e6e-7e5034915bc1"
      },
      "execution_count": null,
      "outputs": [
        {
          "output_type": "display_data",
          "data": {
            "text/html": [
              "<style>\n",
              ".dl-inline {width: auto; margin:0; padding: 0}\n",
              ".dl-inline>dt, .dl-inline>dd {float: none; width: auto; display: inline-block}\n",
              ".dl-inline>dt::after {content: \":\\0020\"; padding-right: .5ex}\n",
              ".dl-inline>dt:not(:first-of-type) {padding-left: .5ex}\n",
              "</style><dl class=dl-inline><dt>Month</dt><dd>0</dd><dt>WeekOfMonth</dt><dd>0</dd><dt>DayOfWeek</dt><dd>0</dd><dt>Make</dt><dd>0</dd><dt>AccidentArea</dt><dd>0</dd><dt>DayOfWeekClaimed</dt><dd>0</dd><dt>MonthClaimed</dt><dd>0</dd><dt>WeekOfMonthClaimed</dt><dd>0</dd><dt>Sex</dt><dd>0</dd><dt>MaritalStatus</dt><dd>0</dd><dt>Age</dt><dd>253</dd><dt>Fault</dt><dd>0</dd><dt>PolicyType</dt><dd>0</dd><dt>VehicleCategory</dt><dd>0</dd><dt>VehiclePrice</dt><dd>0</dd><dt>RepNumber</dt><dd>0</dd><dt>Deductible</dt><dd>0</dd><dt>DriverRating</dt><dd>0</dd><dt>Days_Policy_Accident</dt><dd>0</dd><dt>Days_Policy_Claim</dt><dd>0</dd><dt>PastNumberOfClaims</dt><dd>0</dd><dt>AgeOfVehicle</dt><dd>0</dd><dt>AgeOfPolicyHolder</dt><dd>0</dd><dt>PoliceReportFiled</dt><dd>0</dd><dt>WitnessPresent</dt><dd>0</dd><dt>AgentType</dt><dd>0</dd><dt>NumberOfSuppliments</dt><dd>0</dd><dt>AddressChange_Claim</dt><dd>0</dd><dt>NumberOfCars</dt><dd>0</dd><dt>Year</dt><dd>0</dd><dt>BasePolicy</dt><dd>0</dd><dt>ClaimSize</dt><dd>6</dd></dl>\n"
            ],
            "text/markdown": "Month\n:   0WeekOfMonth\n:   0DayOfWeek\n:   0Make\n:   0AccidentArea\n:   0DayOfWeekClaimed\n:   0MonthClaimed\n:   0WeekOfMonthClaimed\n:   0Sex\n:   0MaritalStatus\n:   0Age\n:   253Fault\n:   0PolicyType\n:   0VehicleCategory\n:   0VehiclePrice\n:   0RepNumber\n:   0Deductible\n:   0DriverRating\n:   0Days_Policy_Accident\n:   0Days_Policy_Claim\n:   0PastNumberOfClaims\n:   0AgeOfVehicle\n:   0AgeOfPolicyHolder\n:   0PoliceReportFiled\n:   0WitnessPresent\n:   0AgentType\n:   0NumberOfSuppliments\n:   0AddressChange_Claim\n:   0NumberOfCars\n:   0Year\n:   0BasePolicy\n:   0ClaimSize\n:   6\n\n",
            "text/latex": "\\begin{description*}\n\\item[Month] 0\n\\item[WeekOfMonth] 0\n\\item[DayOfWeek] 0\n\\item[Make] 0\n\\item[AccidentArea] 0\n\\item[DayOfWeekClaimed] 0\n\\item[MonthClaimed] 0\n\\item[WeekOfMonthClaimed] 0\n\\item[Sex] 0\n\\item[MaritalStatus] 0\n\\item[Age] 253\n\\item[Fault] 0\n\\item[PolicyType] 0\n\\item[VehicleCategory] 0\n\\item[VehiclePrice] 0\n\\item[RepNumber] 0\n\\item[Deductible] 0\n\\item[DriverRating] 0\n\\item[Days\\textbackslash{}\\_Policy\\textbackslash{}\\_Accident] 0\n\\item[Days\\textbackslash{}\\_Policy\\textbackslash{}\\_Claim] 0\n\\item[PastNumberOfClaims] 0\n\\item[AgeOfVehicle] 0\n\\item[AgeOfPolicyHolder] 0\n\\item[PoliceReportFiled] 0\n\\item[WitnessPresent] 0\n\\item[AgentType] 0\n\\item[NumberOfSuppliments] 0\n\\item[AddressChange\\textbackslash{}\\_Claim] 0\n\\item[NumberOfCars] 0\n\\item[Year] 0\n\\item[BasePolicy] 0\n\\item[ClaimSize] 6\n\\end{description*}\n",
            "text/plain": [
              "               Month          WeekOfMonth            DayOfWeek \n",
              "                   0                    0                    0 \n",
              "                Make         AccidentArea     DayOfWeekClaimed \n",
              "                   0                    0                    0 \n",
              "        MonthClaimed   WeekOfMonthClaimed                  Sex \n",
              "                   0                    0                    0 \n",
              "       MaritalStatus                  Age                Fault \n",
              "                   0                  253                    0 \n",
              "          PolicyType      VehicleCategory         VehiclePrice \n",
              "                   0                    0                    0 \n",
              "           RepNumber           Deductible         DriverRating \n",
              "                   0                    0                    0 \n",
              "Days_Policy_Accident    Days_Policy_Claim   PastNumberOfClaims \n",
              "                   0                    0                    0 \n",
              "        AgeOfVehicle    AgeOfPolicyHolder    PoliceReportFiled \n",
              "                   0                    0                    0 \n",
              "      WitnessPresent            AgentType  NumberOfSuppliments \n",
              "                   0                    0                    0 \n",
              " AddressChange_Claim         NumberOfCars                 Year \n",
              "                   0                    0                    0 \n",
              "          BasePolicy            ClaimSize \n",
              "                   0                    6 "
            ]
          },
          "metadata": {}
        }
      ]
    },
    {
      "cell_type": "code",
      "source": [
        "# Reemplazamos los valores iguales a cero por NA\n",
        "X[X == 0] <- NA\n",
        "sapply(X, function(x) sum(is.na(x)))"
      ],
      "metadata": {
        "colab": {
          "base_uri": "https://localhost:8080/",
          "height": 104
        },
        "id": "vhHZB1IepG-z",
        "outputId": "dc18ffcb-d94e-4dee-fa18-f3f5c96f52c7"
      },
      "execution_count": null,
      "outputs": [
        {
          "output_type": "display_data",
          "data": {
            "text/html": [
              "<style>\n",
              ".dl-inline {width: auto; margin:0; padding: 0}\n",
              ".dl-inline>dt, .dl-inline>dd {float: none; width: auto; display: inline-block}\n",
              ".dl-inline>dt::after {content: \":\\0020\"; padding-right: .5ex}\n",
              ".dl-inline>dt:not(:first-of-type) {padding-left: .5ex}\n",
              "</style><dl class=dl-inline><dt>Month</dt><dd>0</dd><dt>WeekOfMonth</dt><dd>0</dd><dt>DayOfWeek</dt><dd>0</dd><dt>Make</dt><dd>0</dd><dt>AccidentArea</dt><dd>0</dd><dt>DayOfWeekClaimed</dt><dd>1</dd><dt>MonthClaimed</dt><dd>1</dd><dt>WeekOfMonthClaimed</dt><dd>0</dd><dt>Sex</dt><dd>0</dd><dt>MaritalStatus</dt><dd>0</dd><dt>Age</dt><dd>258</dd><dt>Fault</dt><dd>0</dd><dt>PolicyType</dt><dd>0</dd><dt>VehicleCategory</dt><dd>0</dd><dt>VehiclePrice</dt><dd>0</dd><dt>RepNumber</dt><dd>0</dd><dt>Deductible</dt><dd>0</dd><dt>DriverRating</dt><dd>6</dd><dt>Days_Policy_Accident</dt><dd>0</dd><dt>Days_Policy_Claim</dt><dd>0</dd><dt>PastNumberOfClaims</dt><dd>0</dd><dt>AgeOfVehicle</dt><dd>0</dd><dt>AgeOfPolicyHolder</dt><dd>0</dd><dt>PoliceReportFiled</dt><dd>0</dd><dt>WitnessPresent</dt><dd>0</dd><dt>AgentType</dt><dd>0</dd><dt>NumberOfSuppliments</dt><dd>0</dd><dt>AddressChange_Claim</dt><dd>0</dd><dt>NumberOfCars</dt><dd>1</dd><dt>Year</dt><dd>0</dd><dt>BasePolicy</dt><dd>0</dd><dt>ClaimSize</dt><dd>6</dd></dl>\n"
            ],
            "text/markdown": "Month\n:   0WeekOfMonth\n:   0DayOfWeek\n:   0Make\n:   0AccidentArea\n:   0DayOfWeekClaimed\n:   1MonthClaimed\n:   1WeekOfMonthClaimed\n:   0Sex\n:   0MaritalStatus\n:   0Age\n:   258Fault\n:   0PolicyType\n:   0VehicleCategory\n:   0VehiclePrice\n:   0RepNumber\n:   0Deductible\n:   0DriverRating\n:   6Days_Policy_Accident\n:   0Days_Policy_Claim\n:   0PastNumberOfClaims\n:   0AgeOfVehicle\n:   0AgeOfPolicyHolder\n:   0PoliceReportFiled\n:   0WitnessPresent\n:   0AgentType\n:   0NumberOfSuppliments\n:   0AddressChange_Claim\n:   0NumberOfCars\n:   1Year\n:   0BasePolicy\n:   0ClaimSize\n:   6\n\n",
            "text/latex": "\\begin{description*}\n\\item[Month] 0\n\\item[WeekOfMonth] 0\n\\item[DayOfWeek] 0\n\\item[Make] 0\n\\item[AccidentArea] 0\n\\item[DayOfWeekClaimed] 1\n\\item[MonthClaimed] 1\n\\item[WeekOfMonthClaimed] 0\n\\item[Sex] 0\n\\item[MaritalStatus] 0\n\\item[Age] 258\n\\item[Fault] 0\n\\item[PolicyType] 0\n\\item[VehicleCategory] 0\n\\item[VehiclePrice] 0\n\\item[RepNumber] 0\n\\item[Deductible] 0\n\\item[DriverRating] 6\n\\item[Days\\textbackslash{}\\_Policy\\textbackslash{}\\_Accident] 0\n\\item[Days\\textbackslash{}\\_Policy\\textbackslash{}\\_Claim] 0\n\\item[PastNumberOfClaims] 0\n\\item[AgeOfVehicle] 0\n\\item[AgeOfPolicyHolder] 0\n\\item[PoliceReportFiled] 0\n\\item[WitnessPresent] 0\n\\item[AgentType] 0\n\\item[NumberOfSuppliments] 0\n\\item[AddressChange\\textbackslash{}\\_Claim] 0\n\\item[NumberOfCars] 1\n\\item[Year] 0\n\\item[BasePolicy] 0\n\\item[ClaimSize] 6\n\\end{description*}\n",
            "text/plain": [
              "               Month          WeekOfMonth            DayOfWeek \n",
              "                   0                    0                    0 \n",
              "                Make         AccidentArea     DayOfWeekClaimed \n",
              "                   0                    0                    1 \n",
              "        MonthClaimed   WeekOfMonthClaimed                  Sex \n",
              "                   1                    0                    0 \n",
              "       MaritalStatus                  Age                Fault \n",
              "                   0                  258                    0 \n",
              "          PolicyType      VehicleCategory         VehiclePrice \n",
              "                   0                    0                    0 \n",
              "           RepNumber           Deductible         DriverRating \n",
              "                   0                    0                    6 \n",
              "Days_Policy_Accident    Days_Policy_Claim   PastNumberOfClaims \n",
              "                   0                    0                    0 \n",
              "        AgeOfVehicle    AgeOfPolicyHolder    PoliceReportFiled \n",
              "                   0                    0                    0 \n",
              "      WitnessPresent            AgentType  NumberOfSuppliments \n",
              "                   0                    0                    0 \n",
              " AddressChange_Claim         NumberOfCars                 Year \n",
              "                   0                    1                    0 \n",
              "          BasePolicy            ClaimSize \n",
              "                   0                    6 "
            ]
          },
          "metadata": {}
        }
      ]
    },
    {
      "cell_type": "code",
      "source": [
        "# Imputamos los valores nulos con \"knnImpute\" y estandarizamos los datos númericos con \"center\" y \"scale\"\n",
        "imputer <- preProcess(X, method = c(\"knnImpute\"))\n",
        "imputer"
      ],
      "metadata": {
        "colab": {
          "base_uri": "https://localhost:8080/",
          "height": 138
        },
        "id": "YnmOdwBRpJpf",
        "outputId": "32ba5f67-2b3c-4847-b1f0-9b06c350a0db"
      },
      "execution_count": null,
      "outputs": [
        {
          "output_type": "display_data",
          "data": {
            "text/plain": [
              "Created from 11294 samples and 32 variables\n",
              "\n",
              "Pre-processing:\n",
              "  - centered (32)\n",
              "  - ignored (0)\n",
              "  - 5 nearest neighbor imputation (32)\n",
              "  - scaled (32)\n"
            ]
          },
          "metadata": {}
        }
      ]
    },
    {
      "cell_type": "code",
      "source": [
        "# Transformamos los valores nulos y transformamos los datos númericos a media = 0 y sd = 1\n",
        "transformed <- predict(imputer, dataframe)\n",
        "head(transformed)"
      ],
      "metadata": {
        "colab": {
          "base_uri": "https://localhost:8080/",
          "height": 306
        },
        "id": "uC6XFbUJpaeo",
        "outputId": "9873e580-e2fe-45b0-b10c-5efdf74f4162"
      },
      "execution_count": null,
      "outputs": [
        {
          "output_type": "display_data",
          "data": {
            "text/html": [
              "<table class=\"dataframe\">\n",
              "<caption>A data.frame: 6 × 33</caption>\n",
              "<thead>\n",
              "\t<tr><th></th><th scope=col>Month</th><th scope=col>WeekOfMonth</th><th scope=col>DayOfWeek</th><th scope=col>Make</th><th scope=col>AccidentArea</th><th scope=col>DayOfWeekClaimed</th><th scope=col>MonthClaimed</th><th scope=col>WeekOfMonthClaimed</th><th scope=col>Sex</th><th scope=col>MaritalStatus</th><th scope=col>⋯</th><th scope=col>AgeOfPolicyHolder</th><th scope=col>PoliceReportFiled</th><th scope=col>WitnessPresent</th><th scope=col>AgentType</th><th scope=col>NumberOfSuppliments</th><th scope=col>AddressChange_Claim</th><th scope=col>NumberOfCars</th><th scope=col>Year</th><th scope=col>BasePolicy</th><th scope=col>ClaimSize</th></tr>\n",
              "\t<tr><th></th><th scope=col>&lt;dbl&gt;</th><th scope=col>&lt;dbl&gt;</th><th scope=col>&lt;dbl&gt;</th><th scope=col>&lt;dbl&gt;</th><th scope=col>&lt;dbl&gt;</th><th scope=col>&lt;dbl&gt;</th><th scope=col>&lt;dbl&gt;</th><th scope=col>&lt;dbl&gt;</th><th scope=col>&lt;dbl&gt;</th><th scope=col>&lt;dbl&gt;</th><th scope=col>⋯</th><th scope=col>&lt;dbl&gt;</th><th scope=col>&lt;dbl&gt;</th><th scope=col>&lt;dbl&gt;</th><th scope=col>&lt;dbl&gt;</th><th scope=col>&lt;dbl&gt;</th><th scope=col>&lt;dbl&gt;</th><th scope=col>&lt;dbl&gt;</th><th scope=col>&lt;dbl&gt;</th><th scope=col>&lt;dbl&gt;</th><th scope=col>&lt;dbl&gt;</th></tr>\n",
              "</thead>\n",
              "<tbody>\n",
              "\t<tr><th scope=row>1</th><td> 1.6079156</td><td> 1.7247063</td><td>-0.4041146</td><td>-0.7766482</td><td> 0.3416633</td><td>-0.5682662</td><td>-1.5475373</td><td>-1.3521144</td><td> 2.3313636</td><td>-1.4456299</td><td>⋯</td><td>-1.35251558</td><td>-0.1713767</td><td>-0.07690302</td><td>-0.1225014</td><td>-0.9350302</td><td> 1.9072428</td><td> 4.863351</td><td>-1.080042</td><td>-1.23190636</td><td> 1.2062718</td></tr>\n",
              "\t<tr><th scope=row>2</th><td>-1.5573324</td><td> 0.1681097</td><td>-0.4041146</td><td>-0.7766482</td><td> 0.3416633</td><td>-1.2583251</td><td>-1.5475373</td><td> 1.0323325</td><td>-0.4288964</td><td>-1.4456299</td><td>⋯</td><td>-0.64026009</td><td> 5.8345960</td><td>-0.07690302</td><td>-0.1225014</td><td>-0.9350302</td><td>-0.2744845</td><td>-0.264274</td><td>-1.080042</td><td> 0.04630978</td><td> 1.3458895</td></tr>\n",
              "\t<tr><th scope=row>3</th><td> 1.0324160</td><td> 1.7247063</td><td> 0.6011737</td><td>-0.7766482</td><td> 0.3416633</td><td> 0.8118515</td><td> 1.3324591</td><td>-0.5572987</td><td>-0.4288964</td><td> 0.5905057</td><td>⋯</td><td> 0.78425087</td><td>-0.1713767</td><td>-0.07690302</td><td>-0.1225014</td><td>-0.9350302</td><td>-0.2744845</td><td>-0.264274</td><td>-1.080042</td><td> 0.04630978</td><td> 1.8076213</td></tr>\n",
              "\t<tr><th scope=row>4</th><td>-0.1185833</td><td>-0.6101885</td><td> 1.1038179</td><td> 1.3080753</td><td>-2.9266049</td><td> 1.5019104</td><td> 0.1804605</td><td>-1.3521144</td><td>-0.4288964</td><td> 0.5905057</td><td>⋯</td><td> 1.49650635</td><td> 5.8345960</td><td>-0.07690302</td><td>-0.1225014</td><td> 1.4681754</td><td>-0.2744845</td><td>-0.264274</td><td>-1.080042</td><td>-1.23190636</td><td>-0.5699635</td></tr>\n",
              "\t<tr><th scope=row>5</th><td>-1.2695826</td><td>-1.3884868</td><td> 1.1038179</td><td>-0.7766482</td><td> 0.3416633</td><td>-1.2583251</td><td>-1.2595377</td><td> 0.2375169</td><td>-0.4288964</td><td> 0.5905057</td><td>⋯</td><td> 0.07199539</td><td>-0.1713767</td><td>-0.07690302</td><td>-0.1225014</td><td>-0.1339617</td><td>-0.2744845</td><td>-0.264274</td><td>-1.080042</td><td> 0.04630978</td><td> 2.8001256</td></tr>\n",
              "\t<tr><th scope=row>6</th><td> 1.6079156</td><td> 0.9464080</td><td> 1.1038179</td><td>-0.7766482</td><td> 0.3416633</td><td> 0.1217926</td><td> 1.6204587</td><td> 1.8271481</td><td>-0.4288964</td><td>-1.4456299</td><td>⋯</td><td>-0.64026009</td><td>-0.1713767</td><td>13.00226557</td><td>-0.1225014</td><td> 0.6671069</td><td>-0.2744845</td><td>-0.264274</td><td>-1.080042</td><td> 0.04630978</td><td> 1.2670590</td></tr>\n",
              "</tbody>\n",
              "</table>\n"
            ],
            "text/markdown": "\nA data.frame: 6 × 33\n\n| <!--/--> | Month &lt;dbl&gt; | WeekOfMonth &lt;dbl&gt; | DayOfWeek &lt;dbl&gt; | Make &lt;dbl&gt; | AccidentArea &lt;dbl&gt; | DayOfWeekClaimed &lt;dbl&gt; | MonthClaimed &lt;dbl&gt; | WeekOfMonthClaimed &lt;dbl&gt; | Sex &lt;dbl&gt; | MaritalStatus &lt;dbl&gt; | ⋯ ⋯ | AgeOfPolicyHolder &lt;dbl&gt; | PoliceReportFiled &lt;dbl&gt; | WitnessPresent &lt;dbl&gt; | AgentType &lt;dbl&gt; | NumberOfSuppliments &lt;dbl&gt; | AddressChange_Claim &lt;dbl&gt; | NumberOfCars &lt;dbl&gt; | Year &lt;dbl&gt; | BasePolicy &lt;dbl&gt; | ClaimSize &lt;dbl&gt; |\n|---|---|---|---|---|---|---|---|---|---|---|---|---|---|---|---|---|---|---|---|---|---|\n| 1 |  1.6079156 |  1.7247063 | -0.4041146 | -0.7766482 |  0.3416633 | -0.5682662 | -1.5475373 | -1.3521144 |  2.3313636 | -1.4456299 | ⋯ | -1.35251558 | -0.1713767 | -0.07690302 | -0.1225014 | -0.9350302 |  1.9072428 |  4.863351 | -1.080042 | -1.23190636 |  1.2062718 |\n| 2 | -1.5573324 |  0.1681097 | -0.4041146 | -0.7766482 |  0.3416633 | -1.2583251 | -1.5475373 |  1.0323325 | -0.4288964 | -1.4456299 | ⋯ | -0.64026009 |  5.8345960 | -0.07690302 | -0.1225014 | -0.9350302 | -0.2744845 | -0.264274 | -1.080042 |  0.04630978 |  1.3458895 |\n| 3 |  1.0324160 |  1.7247063 |  0.6011737 | -0.7766482 |  0.3416633 |  0.8118515 |  1.3324591 | -0.5572987 | -0.4288964 |  0.5905057 | ⋯ |  0.78425087 | -0.1713767 | -0.07690302 | -0.1225014 | -0.9350302 | -0.2744845 | -0.264274 | -1.080042 |  0.04630978 |  1.8076213 |\n| 4 | -0.1185833 | -0.6101885 |  1.1038179 |  1.3080753 | -2.9266049 |  1.5019104 |  0.1804605 | -1.3521144 | -0.4288964 |  0.5905057 | ⋯ |  1.49650635 |  5.8345960 | -0.07690302 | -0.1225014 |  1.4681754 | -0.2744845 | -0.264274 | -1.080042 | -1.23190636 | -0.5699635 |\n| 5 | -1.2695826 | -1.3884868 |  1.1038179 | -0.7766482 |  0.3416633 | -1.2583251 | -1.2595377 |  0.2375169 | -0.4288964 |  0.5905057 | ⋯ |  0.07199539 | -0.1713767 | -0.07690302 | -0.1225014 | -0.1339617 | -0.2744845 | -0.264274 | -1.080042 |  0.04630978 |  2.8001256 |\n| 6 |  1.6079156 |  0.9464080 |  1.1038179 | -0.7766482 |  0.3416633 |  0.1217926 |  1.6204587 |  1.8271481 | -0.4288964 | -1.4456299 | ⋯ | -0.64026009 | -0.1713767 | 13.00226557 | -0.1225014 |  0.6671069 | -0.2744845 | -0.264274 | -1.080042 |  0.04630978 |  1.2670590 |\n\n",
            "text/latex": "A data.frame: 6 × 33\n\\begin{tabular}{r|lllllllllllllllllllll}\n  & Month & WeekOfMonth & DayOfWeek & Make & AccidentArea & DayOfWeekClaimed & MonthClaimed & WeekOfMonthClaimed & Sex & MaritalStatus & ⋯ & AgeOfPolicyHolder & PoliceReportFiled & WitnessPresent & AgentType & NumberOfSuppliments & AddressChange\\_Claim & NumberOfCars & Year & BasePolicy & ClaimSize\\\\\n  & <dbl> & <dbl> & <dbl> & <dbl> & <dbl> & <dbl> & <dbl> & <dbl> & <dbl> & <dbl> & ⋯ & <dbl> & <dbl> & <dbl> & <dbl> & <dbl> & <dbl> & <dbl> & <dbl> & <dbl> & <dbl>\\\\\n\\hline\n\t1 &  1.6079156 &  1.7247063 & -0.4041146 & -0.7766482 &  0.3416633 & -0.5682662 & -1.5475373 & -1.3521144 &  2.3313636 & -1.4456299 & ⋯ & -1.35251558 & -0.1713767 & -0.07690302 & -0.1225014 & -0.9350302 &  1.9072428 &  4.863351 & -1.080042 & -1.23190636 &  1.2062718\\\\\n\t2 & -1.5573324 &  0.1681097 & -0.4041146 & -0.7766482 &  0.3416633 & -1.2583251 & -1.5475373 &  1.0323325 & -0.4288964 & -1.4456299 & ⋯ & -0.64026009 &  5.8345960 & -0.07690302 & -0.1225014 & -0.9350302 & -0.2744845 & -0.264274 & -1.080042 &  0.04630978 &  1.3458895\\\\\n\t3 &  1.0324160 &  1.7247063 &  0.6011737 & -0.7766482 &  0.3416633 &  0.8118515 &  1.3324591 & -0.5572987 & -0.4288964 &  0.5905057 & ⋯ &  0.78425087 & -0.1713767 & -0.07690302 & -0.1225014 & -0.9350302 & -0.2744845 & -0.264274 & -1.080042 &  0.04630978 &  1.8076213\\\\\n\t4 & -0.1185833 & -0.6101885 &  1.1038179 &  1.3080753 & -2.9266049 &  1.5019104 &  0.1804605 & -1.3521144 & -0.4288964 &  0.5905057 & ⋯ &  1.49650635 &  5.8345960 & -0.07690302 & -0.1225014 &  1.4681754 & -0.2744845 & -0.264274 & -1.080042 & -1.23190636 & -0.5699635\\\\\n\t5 & -1.2695826 & -1.3884868 &  1.1038179 & -0.7766482 &  0.3416633 & -1.2583251 & -1.2595377 &  0.2375169 & -0.4288964 &  0.5905057 & ⋯ &  0.07199539 & -0.1713767 & -0.07690302 & -0.1225014 & -0.1339617 & -0.2744845 & -0.264274 & -1.080042 &  0.04630978 &  2.8001256\\\\\n\t6 &  1.6079156 &  0.9464080 &  1.1038179 & -0.7766482 &  0.3416633 &  0.1217926 &  1.6204587 &  1.8271481 & -0.4288964 & -1.4456299 & ⋯ & -0.64026009 & -0.1713767 & 13.00226557 & -0.1225014 &  0.6671069 & -0.2744845 & -0.264274 & -1.080042 &  0.04630978 &  1.2670590\\\\\n\\end{tabular}\n",
            "text/plain": [
              "  Month      WeekOfMonth DayOfWeek  Make       AccidentArea DayOfWeekClaimed\n",
              "1  1.6079156  1.7247063  -0.4041146 -0.7766482  0.3416633   -0.5682662      \n",
              "2 -1.5573324  0.1681097  -0.4041146 -0.7766482  0.3416633   -1.2583251      \n",
              "3  1.0324160  1.7247063   0.6011737 -0.7766482  0.3416633    0.8118515      \n",
              "4 -0.1185833 -0.6101885   1.1038179  1.3080753 -2.9266049    1.5019104      \n",
              "5 -1.2695826 -1.3884868   1.1038179 -0.7766482  0.3416633   -1.2583251      \n",
              "6  1.6079156  0.9464080   1.1038179 -0.7766482  0.3416633    0.1217926      \n",
              "  MonthClaimed WeekOfMonthClaimed Sex        MaritalStatus ⋯ AgeOfPolicyHolder\n",
              "1 -1.5475373   -1.3521144          2.3313636 -1.4456299    ⋯ -1.35251558      \n",
              "2 -1.5475373    1.0323325         -0.4288964 -1.4456299    ⋯ -0.64026009      \n",
              "3  1.3324591   -0.5572987         -0.4288964  0.5905057    ⋯  0.78425087      \n",
              "4  0.1804605   -1.3521144         -0.4288964  0.5905057    ⋯  1.49650635      \n",
              "5 -1.2595377    0.2375169         -0.4288964  0.5905057    ⋯  0.07199539      \n",
              "6  1.6204587    1.8271481         -0.4288964 -1.4456299    ⋯ -0.64026009      \n",
              "  PoliceReportFiled WitnessPresent AgentType  NumberOfSuppliments\n",
              "1 -0.1713767        -0.07690302    -0.1225014 -0.9350302         \n",
              "2  5.8345960        -0.07690302    -0.1225014 -0.9350302         \n",
              "3 -0.1713767        -0.07690302    -0.1225014 -0.9350302         \n",
              "4  5.8345960        -0.07690302    -0.1225014  1.4681754         \n",
              "5 -0.1713767        -0.07690302    -0.1225014 -0.1339617         \n",
              "6 -0.1713767        13.00226557    -0.1225014  0.6671069         \n",
              "  AddressChange_Claim NumberOfCars Year      BasePolicy  ClaimSize \n",
              "1  1.9072428           4.863351    -1.080042 -1.23190636  1.2062718\n",
              "2 -0.2744845          -0.264274    -1.080042  0.04630978  1.3458895\n",
              "3 -0.2744845          -0.264274    -1.080042  0.04630978  1.8076213\n",
              "4 -0.2744845          -0.264274    -1.080042 -1.23190636 -0.5699635\n",
              "5 -0.2744845          -0.264274    -1.080042  0.04630978  2.8001256\n",
              "6 -0.2744845          -0.264274    -1.080042  0.04630978  1.2670590"
            ]
          },
          "metadata": {}
        }
      ]
    },
    {
      "cell_type": "code",
      "source": [
        "sapply(transformed, function(x) sum(is.na(x)))"
      ],
      "metadata": {
        "colab": {
          "base_uri": "https://localhost:8080/",
          "height": 104
        },
        "id": "eq-LdrmPrCwd",
        "outputId": "cd847ab2-a722-463f-a3b5-fb54b96d0ea8"
      },
      "execution_count": null,
      "outputs": [
        {
          "output_type": "display_data",
          "data": {
            "text/html": [
              "<style>\n",
              ".dl-inline {width: auto; margin:0; padding: 0}\n",
              ".dl-inline>dt, .dl-inline>dd {float: none; width: auto; display: inline-block}\n",
              ".dl-inline>dt::after {content: \":\\0020\"; padding-right: .5ex}\n",
              ".dl-inline>dt:not(:first-of-type) {padding-left: .5ex}\n",
              "</style><dl class=dl-inline><dt>Month</dt><dd>0</dd><dt>WeekOfMonth</dt><dd>0</dd><dt>DayOfWeek</dt><dd>0</dd><dt>Make</dt><dd>0</dd><dt>AccidentArea</dt><dd>0</dd><dt>DayOfWeekClaimed</dt><dd>0</dd><dt>MonthClaimed</dt><dd>0</dd><dt>WeekOfMonthClaimed</dt><dd>0</dd><dt>Sex</dt><dd>0</dd><dt>MaritalStatus</dt><dd>0</dd><dt>Age</dt><dd>0</dd><dt>Fault</dt><dd>0</dd><dt>PolicyType</dt><dd>0</dd><dt>VehicleCategory</dt><dd>0</dd><dt>VehiclePrice</dt><dd>0</dd><dt>FraudFound_P</dt><dd>0</dd><dt>RepNumber</dt><dd>0</dd><dt>Deductible</dt><dd>0</dd><dt>DriverRating</dt><dd>0</dd><dt>Days_Policy_Accident</dt><dd>0</dd><dt>Days_Policy_Claim</dt><dd>0</dd><dt>PastNumberOfClaims</dt><dd>0</dd><dt>AgeOfVehicle</dt><dd>0</dd><dt>AgeOfPolicyHolder</dt><dd>0</dd><dt>PoliceReportFiled</dt><dd>0</dd><dt>WitnessPresent</dt><dd>0</dd><dt>AgentType</dt><dd>0</dd><dt>NumberOfSuppliments</dt><dd>0</dd><dt>AddressChange_Claim</dt><dd>0</dd><dt>NumberOfCars</dt><dd>0</dd><dt>Year</dt><dd>0</dd><dt>BasePolicy</dt><dd>0</dd><dt>ClaimSize</dt><dd>0</dd></dl>\n"
            ],
            "text/markdown": "Month\n:   0WeekOfMonth\n:   0DayOfWeek\n:   0Make\n:   0AccidentArea\n:   0DayOfWeekClaimed\n:   0MonthClaimed\n:   0WeekOfMonthClaimed\n:   0Sex\n:   0MaritalStatus\n:   0Age\n:   0Fault\n:   0PolicyType\n:   0VehicleCategory\n:   0VehiclePrice\n:   0FraudFound_P\n:   0RepNumber\n:   0Deductible\n:   0DriverRating\n:   0Days_Policy_Accident\n:   0Days_Policy_Claim\n:   0PastNumberOfClaims\n:   0AgeOfVehicle\n:   0AgeOfPolicyHolder\n:   0PoliceReportFiled\n:   0WitnessPresent\n:   0AgentType\n:   0NumberOfSuppliments\n:   0AddressChange_Claim\n:   0NumberOfCars\n:   0Year\n:   0BasePolicy\n:   0ClaimSize\n:   0\n\n",
            "text/latex": "\\begin{description*}\n\\item[Month] 0\n\\item[WeekOfMonth] 0\n\\item[DayOfWeek] 0\n\\item[Make] 0\n\\item[AccidentArea] 0\n\\item[DayOfWeekClaimed] 0\n\\item[MonthClaimed] 0\n\\item[WeekOfMonthClaimed] 0\n\\item[Sex] 0\n\\item[MaritalStatus] 0\n\\item[Age] 0\n\\item[Fault] 0\n\\item[PolicyType] 0\n\\item[VehicleCategory] 0\n\\item[VehiclePrice] 0\n\\item[FraudFound\\textbackslash{}\\_P] 0\n\\item[RepNumber] 0\n\\item[Deductible] 0\n\\item[DriverRating] 0\n\\item[Days\\textbackslash{}\\_Policy\\textbackslash{}\\_Accident] 0\n\\item[Days\\textbackslash{}\\_Policy\\textbackslash{}\\_Claim] 0\n\\item[PastNumberOfClaims] 0\n\\item[AgeOfVehicle] 0\n\\item[AgeOfPolicyHolder] 0\n\\item[PoliceReportFiled] 0\n\\item[WitnessPresent] 0\n\\item[AgentType] 0\n\\item[NumberOfSuppliments] 0\n\\item[AddressChange\\textbackslash{}\\_Claim] 0\n\\item[NumberOfCars] 0\n\\item[Year] 0\n\\item[BasePolicy] 0\n\\item[ClaimSize] 0\n\\end{description*}\n",
            "text/plain": [
              "               Month          WeekOfMonth            DayOfWeek \n",
              "                   0                    0                    0 \n",
              "                Make         AccidentArea     DayOfWeekClaimed \n",
              "                   0                    0                    0 \n",
              "        MonthClaimed   WeekOfMonthClaimed                  Sex \n",
              "                   0                    0                    0 \n",
              "       MaritalStatus                  Age                Fault \n",
              "                   0                    0                    0 \n",
              "          PolicyType      VehicleCategory         VehiclePrice \n",
              "                   0                    0                    0 \n",
              "        FraudFound_P            RepNumber           Deductible \n",
              "                   0                    0                    0 \n",
              "        DriverRating Days_Policy_Accident    Days_Policy_Claim \n",
              "                   0                    0                    0 \n",
              "  PastNumberOfClaims         AgeOfVehicle    AgeOfPolicyHolder \n",
              "                   0                    0                    0 \n",
              "   PoliceReportFiled       WitnessPresent            AgentType \n",
              "                   0                    0                    0 \n",
              " NumberOfSuppliments  AddressChange_Claim         NumberOfCars \n",
              "                   0                    0                    0 \n",
              "                Year           BasePolicy            ClaimSize \n",
              "                   0                    0                    0 "
            ]
          },
          "metadata": {}
        }
      ]
    },
    {
      "cell_type": "markdown",
      "source": [
        "# 2.6 Sobremuestreo de los Datos"
      ],
      "metadata": {
        "id": "Pqqn02gUsG9n"
      }
    },
    {
      "cell_type": "code",
      "source": [
        "# Aplicamos sobremuestreo para balancear la clase usando SMOTE\n",
        "dataSMOTE <- smote(FraudFound_P~., data = transformed)\n",
        "dim(dataSMOTE)"
      ],
      "metadata": {
        "colab": {
          "base_uri": "https://localhost:8080/",
          "height": 34
        },
        "id": "jY1WzsRosBaF",
        "outputId": "ea289ee4-278e-4fe4-935a-c5d8a9e1e2ad"
      },
      "execution_count": null,
      "outputs": [
        {
          "output_type": "display_data",
          "data": {
            "text/html": [
              "<style>\n",
              ".list-inline {list-style: none; margin:0; padding: 0}\n",
              ".list-inline>li {display: inline-block}\n",
              ".list-inline>li:not(:last-child)::after {content: \"\\00b7\"; padding: 0 .5ex}\n",
              "</style>\n",
              "<ol class=list-inline><li>4795</li><li>33</li></ol>\n"
            ],
            "text/markdown": "1. 4795\n2. 33\n\n\n",
            "text/latex": "\\begin{enumerate*}\n\\item 4795\n\\item 33\n\\end{enumerate*}\n",
            "text/plain": [
              "[1] 4795   33"
            ]
          },
          "metadata": {}
        }
      ]
    },
    {
      "cell_type": "code",
      "source": [
        "y <- dataSMOTE$FraudFound_P\n",
        "cbind(Frecuencia = table(y), Porcentaje = prop.table(table(y))*100)"
      ],
      "metadata": {
        "colab": {
          "base_uri": "https://localhost:8080/",
          "height": 129
        },
        "id": "fdt2tWEKsPBU",
        "outputId": "361f4c20-a09b-48de-ad9b-ad1544bb7c3d"
      },
      "execution_count": null,
      "outputs": [
        {
          "output_type": "display_data",
          "data": {
            "text/html": [
              "<table class=\"dataframe\">\n",
              "<caption>A matrix: 2 × 2 of type dbl</caption>\n",
              "<thead>\n",
              "\t<tr><th></th><th scope=col>Frecuencia</th><th scope=col>Porcentaje</th></tr>\n",
              "</thead>\n",
              "<tbody>\n",
              "\t<tr><th scope=row>0</th><td>2740</td><td>57.14286</td></tr>\n",
              "\t<tr><th scope=row>1</th><td>2055</td><td>42.85714</td></tr>\n",
              "</tbody>\n",
              "</table>\n"
            ],
            "text/markdown": "\nA matrix: 2 × 2 of type dbl\n\n| <!--/--> | Frecuencia | Porcentaje |\n|---|---|---|\n| 0 | 2740 | 57.14286 |\n| 1 | 2055 | 42.85714 |\n\n",
            "text/latex": "A matrix: 2 × 2 of type dbl\n\\begin{tabular}{r|ll}\n  & Frecuencia & Porcentaje\\\\\n\\hline\n\t0 & 2740 & 57.14286\\\\\n\t1 & 2055 & 42.85714\\\\\n\\end{tabular}\n",
            "text/plain": [
              "  Frecuencia Porcentaje\n",
              "0 2740       57.14286  \n",
              "1 2055       42.85714  "
            ]
          },
          "metadata": {}
        }
      ]
    },
    {
      "cell_type": "code",
      "source": [
        "sapply(dataSMOTE, function(x) sum(is.na(x)))"
      ],
      "metadata": {
        "colab": {
          "base_uri": "https://localhost:8080/",
          "height": 104
        },
        "id": "ysuTjpy5XxOz",
        "outputId": "c85c9ed2-dc15-4cfc-eeb5-5e43cb8e7e45"
      },
      "execution_count": null,
      "outputs": [
        {
          "output_type": "display_data",
          "data": {
            "text/html": [
              "<style>\n",
              ".dl-inline {width: auto; margin:0; padding: 0}\n",
              ".dl-inline>dt, .dl-inline>dd {float: none; width: auto; display: inline-block}\n",
              ".dl-inline>dt::after {content: \":\\0020\"; padding-right: .5ex}\n",
              ".dl-inline>dt:not(:first-of-type) {padding-left: .5ex}\n",
              "</style><dl class=dl-inline><dt>Month</dt><dd>0</dd><dt>WeekOfMonth</dt><dd>0</dd><dt>DayOfWeek</dt><dd>0</dd><dt>Make</dt><dd>0</dd><dt>AccidentArea</dt><dd>0</dd><dt>DayOfWeekClaimed</dt><dd>0</dd><dt>MonthClaimed</dt><dd>0</dd><dt>WeekOfMonthClaimed</dt><dd>0</dd><dt>Sex</dt><dd>0</dd><dt>MaritalStatus</dt><dd>0</dd><dt>Age</dt><dd>0</dd><dt>Fault</dt><dd>0</dd><dt>PolicyType</dt><dd>0</dd><dt>VehicleCategory</dt><dd>0</dd><dt>VehiclePrice</dt><dd>0</dd><dt>FraudFound_P</dt><dd>0</dd><dt>RepNumber</dt><dd>0</dd><dt>Deductible</dt><dd>0</dd><dt>DriverRating</dt><dd>0</dd><dt>Days_Policy_Accident</dt><dd>0</dd><dt>Days_Policy_Claim</dt><dd>0</dd><dt>PastNumberOfClaims</dt><dd>0</dd><dt>AgeOfVehicle</dt><dd>0</dd><dt>AgeOfPolicyHolder</dt><dd>0</dd><dt>PoliceReportFiled</dt><dd>0</dd><dt>WitnessPresent</dt><dd>0</dd><dt>AgentType</dt><dd>0</dd><dt>NumberOfSuppliments</dt><dd>0</dd><dt>AddressChange_Claim</dt><dd>0</dd><dt>NumberOfCars</dt><dd>0</dd><dt>Year</dt><dd>0</dd><dt>BasePolicy</dt><dd>0</dd><dt>ClaimSize</dt><dd>0</dd></dl>\n"
            ],
            "text/markdown": "Month\n:   0WeekOfMonth\n:   0DayOfWeek\n:   0Make\n:   0AccidentArea\n:   0DayOfWeekClaimed\n:   0MonthClaimed\n:   0WeekOfMonthClaimed\n:   0Sex\n:   0MaritalStatus\n:   0Age\n:   0Fault\n:   0PolicyType\n:   0VehicleCategory\n:   0VehiclePrice\n:   0FraudFound_P\n:   0RepNumber\n:   0Deductible\n:   0DriverRating\n:   0Days_Policy_Accident\n:   0Days_Policy_Claim\n:   0PastNumberOfClaims\n:   0AgeOfVehicle\n:   0AgeOfPolicyHolder\n:   0PoliceReportFiled\n:   0WitnessPresent\n:   0AgentType\n:   0NumberOfSuppliments\n:   0AddressChange_Claim\n:   0NumberOfCars\n:   0Year\n:   0BasePolicy\n:   0ClaimSize\n:   0\n\n",
            "text/latex": "\\begin{description*}\n\\item[Month] 0\n\\item[WeekOfMonth] 0\n\\item[DayOfWeek] 0\n\\item[Make] 0\n\\item[AccidentArea] 0\n\\item[DayOfWeekClaimed] 0\n\\item[MonthClaimed] 0\n\\item[WeekOfMonthClaimed] 0\n\\item[Sex] 0\n\\item[MaritalStatus] 0\n\\item[Age] 0\n\\item[Fault] 0\n\\item[PolicyType] 0\n\\item[VehicleCategory] 0\n\\item[VehiclePrice] 0\n\\item[FraudFound\\textbackslash{}\\_P] 0\n\\item[RepNumber] 0\n\\item[Deductible] 0\n\\item[DriverRating] 0\n\\item[Days\\textbackslash{}\\_Policy\\textbackslash{}\\_Accident] 0\n\\item[Days\\textbackslash{}\\_Policy\\textbackslash{}\\_Claim] 0\n\\item[PastNumberOfClaims] 0\n\\item[AgeOfVehicle] 0\n\\item[AgeOfPolicyHolder] 0\n\\item[PoliceReportFiled] 0\n\\item[WitnessPresent] 0\n\\item[AgentType] 0\n\\item[NumberOfSuppliments] 0\n\\item[AddressChange\\textbackslash{}\\_Claim] 0\n\\item[NumberOfCars] 0\n\\item[Year] 0\n\\item[BasePolicy] 0\n\\item[ClaimSize] 0\n\\end{description*}\n",
            "text/plain": [
              "               Month          WeekOfMonth            DayOfWeek \n",
              "                   0                    0                    0 \n",
              "                Make         AccidentArea     DayOfWeekClaimed \n",
              "                   0                    0                    0 \n",
              "        MonthClaimed   WeekOfMonthClaimed                  Sex \n",
              "                   0                    0                    0 \n",
              "       MaritalStatus                  Age                Fault \n",
              "                   0                    0                    0 \n",
              "          PolicyType      VehicleCategory         VehiclePrice \n",
              "                   0                    0                    0 \n",
              "        FraudFound_P            RepNumber           Deductible \n",
              "                   0                    0                    0 \n",
              "        DriverRating Days_Policy_Accident    Days_Policy_Claim \n",
              "                   0                    0                    0 \n",
              "  PastNumberOfClaims         AgeOfVehicle    AgeOfPolicyHolder \n",
              "                   0                    0                    0 \n",
              "   PoliceReportFiled       WitnessPresent            AgentType \n",
              "                   0                    0                    0 \n",
              " NumberOfSuppliments  AddressChange_Claim         NumberOfCars \n",
              "                   0                    0                    0 \n",
              "                Year           BasePolicy            ClaimSize \n",
              "                   0                    0                    0 "
            ]
          },
          "metadata": {}
        }
      ]
    },
    {
      "cell_type": "markdown",
      "source": [
        "# 2.7 Remuestreo de los Datos"
      ],
      "metadata": {
        "id": "SOq0SD5_r3Bj"
      }
    },
    {
      "cell_type": "code",
      "source": [
        "# Dividimos los datos en entrenamiento y prueba\n",
        "trainIndex <- createDataPartition(dataSMOTE$FraudFound_P, p = 0.8, list = FALSE)\n",
        "dataTrain <- dataSMOTE[trainIndex, ]\n",
        "dim(dataTrain)\n",
        "dataTest <- dataSMOTE[-trainIndex, ]\n",
        "dim(dataTest)"
      ],
      "metadata": {
        "colab": {
          "base_uri": "https://localhost:8080/",
          "height": 52
        },
        "id": "fUnEStzir2DJ",
        "outputId": "b67a5c00-8bcb-4395-e70c-8fa569222700"
      },
      "execution_count": null,
      "outputs": [
        {
          "output_type": "display_data",
          "data": {
            "text/html": [
              "<style>\n",
              ".list-inline {list-style: none; margin:0; padding: 0}\n",
              ".list-inline>li {display: inline-block}\n",
              ".list-inline>li:not(:last-child)::after {content: \"\\00b7\"; padding: 0 .5ex}\n",
              "</style>\n",
              "<ol class=list-inline><li>3836</li><li>33</li></ol>\n"
            ],
            "text/markdown": "1. 3836\n2. 33\n\n\n",
            "text/latex": "\\begin{enumerate*}\n\\item 3836\n\\item 33\n\\end{enumerate*}\n",
            "text/plain": [
              "[1] 3836   33"
            ]
          },
          "metadata": {}
        },
        {
          "output_type": "display_data",
          "data": {
            "text/html": [
              "<style>\n",
              ".list-inline {list-style: none; margin:0; padding: 0}\n",
              ".list-inline>li {display: inline-block}\n",
              ".list-inline>li:not(:last-child)::after {content: \"\\00b7\"; padding: 0 .5ex}\n",
              "</style>\n",
              "<ol class=list-inline><li>959</li><li>33</li></ol>\n"
            ],
            "text/markdown": "1. 959\n2. 33\n\n\n",
            "text/latex": "\\begin{enumerate*}\n\\item 959\n\\item 33\n\\end{enumerate*}\n",
            "text/plain": [
              "[1] 959  33"
            ]
          },
          "metadata": {}
        }
      ]
    },
    {
      "cell_type": "code",
      "source": [
        "# Dividimos los datos en X y y\n",
        "X_train <- select(dataTrain, -FraudFound_P)\n",
        "X_train <- as.matrix(X_train)\n",
        "dim(X_train)\n",
        "y_train <- as.numeric(as.matrix(dataTrain$FraudFound_P))\n",
        "length(y_train)\n",
        "\n",
        "X_test <- select(dataTest, -FraudFound_P)\n",
        "X_test <- as.matrix(X_test)\n",
        "dim(X_test)\n",
        "y_test <- as.numeric(as.matrix(dataTest$FraudFound_P))\n",
        "length(y_test)"
      ],
      "metadata": {
        "colab": {
          "base_uri": "https://localhost:8080/",
          "height": 86
        },
        "id": "VNZA-XduuSGF",
        "outputId": "8c3cbf60-e7d0-4179-8f33-9ecff3f0a375"
      },
      "execution_count": null,
      "outputs": [
        {
          "output_type": "display_data",
          "data": {
            "text/html": [
              "<style>\n",
              ".list-inline {list-style: none; margin:0; padding: 0}\n",
              ".list-inline>li {display: inline-block}\n",
              ".list-inline>li:not(:last-child)::after {content: \"\\00b7\"; padding: 0 .5ex}\n",
              "</style>\n",
              "<ol class=list-inline><li>3836</li><li>32</li></ol>\n"
            ],
            "text/markdown": "1. 3836\n2. 32\n\n\n",
            "text/latex": "\\begin{enumerate*}\n\\item 3836\n\\item 32\n\\end{enumerate*}\n",
            "text/plain": [
              "[1] 3836   32"
            ]
          },
          "metadata": {}
        },
        {
          "output_type": "display_data",
          "data": {
            "text/html": [
              "3836"
            ],
            "text/markdown": "3836",
            "text/latex": "3836",
            "text/plain": [
              "[1] 3836"
            ]
          },
          "metadata": {}
        },
        {
          "output_type": "display_data",
          "data": {
            "text/html": [
              "<style>\n",
              ".list-inline {list-style: none; margin:0; padding: 0}\n",
              ".list-inline>li {display: inline-block}\n",
              ".list-inline>li:not(:last-child)::after {content: \"\\00b7\"; padding: 0 .5ex}\n",
              "</style>\n",
              "<ol class=list-inline><li>959</li><li>32</li></ol>\n"
            ],
            "text/markdown": "1. 959\n2. 32\n\n\n",
            "text/latex": "\\begin{enumerate*}\n\\item 959\n\\item 32\n\\end{enumerate*}\n",
            "text/plain": [
              "[1] 959  32"
            ]
          },
          "metadata": {}
        },
        {
          "output_type": "display_data",
          "data": {
            "text/html": [
              "959"
            ],
            "text/markdown": "959",
            "text/latex": "959",
            "text/plain": [
              "[1] 959"
            ]
          },
          "metadata": {}
        }
      ]
    },
    {
      "cell_type": "markdown",
      "source": [
        "# 3 Modelado"
      ],
      "metadata": {
        "id": "vjdMDu0SulrU"
      }
    },
    {
      "cell_type": "markdown",
      "source": [
        "# 3.1 Secuencial"
      ],
      "metadata": {
        "id": "ST4GbtFIuqVw"
      }
    },
    {
      "cell_type": "code",
      "source": [
        "# Definimos el modelo de capas con Keras relu - sigmoid (clasificación binaria)\n",
        "model <- keras_model_sequential() %>%\n",
        "  layer_dense(units = 16, activation = \"relu\", input_shape = ncol(X_train)) %>%\n",
        "  layer_dense(units = 8, activation = \"relu\") %>%\n",
        "  layer_dense(units = 1, activation = \"sigmoid\")"
      ],
      "metadata": {
        "id": "w62x8NE9ubtg",
        "colab": {
          "base_uri": "https://localhost:8080/"
        },
        "outputId": "eab15a3a-ee5e-4c33-9561-e9b9c3d40f91"
      },
      "execution_count": null,
      "outputs": [
        {
          "output_type": "stream",
          "name": "stderr",
          "text": [
            "Loaded Tensorflow version 2.9.2\n",
            "\n"
          ]
        }
      ]
    },
    {
      "cell_type": "code",
      "source": [
        "# Compilamos el modelo Keras binary_crossentropy (clasificación binaria)\n",
        "model %>% compile(\n",
        "  optimizer = \"adam\",\n",
        "  loss = \"binary_crossentropy\",\n",
        "  metrics = c(\"accuracy\")\n",
        ")"
      ],
      "metadata": {
        "id": "N0K46M1BunZK"
      },
      "execution_count": null,
      "outputs": []
    },
    {
      "cell_type": "code",
      "source": [
        "# Ajustamos el modelo Keras en los datos de entrenamiento y validamos con los datos de prueba\n",
        "history <- model %>% fit(X_train, y_train, epochs = 150, batch_size = 16, validation_data = list(X_test, y_test))\n",
        "history"
      ],
      "metadata": {
        "id": "EKDcy4YLyRd4",
        "colab": {
          "base_uri": "https://localhost:8080/",
          "height": 121
        },
        "outputId": "3dc7fead-928e-413c-d78e-511f789de487"
      },
      "execution_count": null,
      "outputs": [
        {
          "output_type": "display_data",
          "data": {
            "text/plain": [
              "\n",
              "Final epoch (plot to see history):\n",
              "        loss: 0.2174\n",
              "    accuracy: 0.9153\n",
              "    val_loss: 0.5017\n",
              "val_accuracy: 0.8279 "
            ]
          },
          "metadata": {}
        }
      ]
    },
    {
      "cell_type": "code",
      "source": [
        "plot(history)"
      ],
      "metadata": {
        "colab": {
          "base_uri": "https://localhost:8080/",
          "height": 437
        },
        "id": "e67CpcikG0OT",
        "outputId": "221667e0-7f58-4a38-bc0b-e839803e496b"
      },
      "execution_count": null,
      "outputs": [
        {
          "output_type": "display_data",
          "data": {
            "text/plain": [
              "plot without title"
            ],
            "image/png": "[encoded data removed]"
          },
          "metadata": {
            "image/png": {
              "width": 420,
              "height": 420
            }
          }
        }
      ]
    },
    {
      "cell_type": "code",
      "source": [
        "# Evaluamos el modelo Keras de los estimadores\n",
        "metrics <- model %>% evaluate(X_train, y_train,)\n",
        "metrics"
      ],
      "metadata": {
        "colab": {
          "base_uri": "https://localhost:8080/",
          "height": 34
        },
        "id": "iLb5nu2RIvzD",
        "outputId": "819e5c7f-13b6-4ccb-cb31-66dd5e72b6e5"
      },
      "execution_count": null,
      "outputs": [
        {
          "output_type": "display_data",
          "data": {
            "text/html": [
              "<style>\n",
              ".dl-inline {width: auto; margin:0; padding: 0}\n",
              ".dl-inline>dt, .dl-inline>dd {float: none; width: auto; display: inline-block}\n",
              ".dl-inline>dt::after {content: \":\\0020\"; padding-right: .5ex}\n",
              ".dl-inline>dt:not(:first-of-type) {padding-left: .5ex}\n",
              "</style><dl class=dl-inline><dt>loss</dt><dd>0.204684764146805</dd><dt>accuracy</dt><dd>0.922836303710938</dd></dl>\n"
            ],
            "text/markdown": "loss\n:   0.204684764146805accuracy\n:   0.922836303710938\n\n",
            "text/latex": "\\begin{description*}\n\\item[loss] 0.204684764146805\n\\item[accuracy] 0.922836303710938\n\\end{description*}\n",
            "text/plain": [
              "     loss  accuracy \n",
              "0.2046848 0.9228363 "
            ]
          },
          "metadata": {}
        }
      ]
    },
    {
      "cell_type": "code",
      "source": [
        "# Hacemos predicciones sobre los datos de prueba\n",
        "y_pred <- model %>% predict(X_test)\n",
        "y_pred <- round(y_pred)\n",
        "head(y_pred)"
      ],
      "metadata": {
        "colab": {
          "base_uri": "https://localhost:8080/",
          "height": 309
        },
        "id": "c_i9qsN7H0HT",
        "outputId": "a4e59e27-199d-446b-92ca-8e539a0f9f48"
      },
      "execution_count": null,
      "outputs": [
        {
          "output_type": "display_data",
          "data": {
            "text/html": [
              "<table class=\"dataframe\">\n",
              "<caption>A matrix: 6 × 1 of type dbl</caption>\n",
              "<tbody>\n",
              "\t<tr><td>0</td></tr>\n",
              "\t<tr><td>0</td></tr>\n",
              "\t<tr><td>0</td></tr>\n",
              "\t<tr><td>0</td></tr>\n",
              "\t<tr><td>0</td></tr>\n",
              "\t<tr><td>0</td></tr>\n",
              "</tbody>\n",
              "</table>\n"
            ],
            "text/markdown": "\nA matrix: 6 × 1 of type dbl\n\n| 0 |\n| 0 |\n| 0 |\n| 0 |\n| 0 |\n| 0 |\n\n",
            "text/latex": "A matrix: 6 × 1 of type dbl\n\\begin{tabular}{l}\n\t 0\\\\\n\t 0\\\\\n\t 0\\\\\n\t 0\\\\\n\t 0\\\\\n\t 0\\\\\n\\end{tabular}\n",
            "text/plain": [
              "     [,1]\n",
              "[1,] 0   \n",
              "[2,] 0   \n",
              "[3,] 0   \n",
              "[4,] 0   \n",
              "[5,] 0   \n",
              "[6,] 0   "
            ]
          },
          "metadata": {}
        }
      ]
    },
    {
      "cell_type": "markdown",
      "source": [
        "# 3.2 Evaluación del modelo"
      ],
      "metadata": {
        "id": "wjkqgdeGYWNC"
      }
    },
    {
      "cell_type": "code",
      "source": [
        "# Elaboramos la matriz de confusión de los predictores\n",
        "confusionMatrix(as.factor(y_test), as.factor(y_pred))"
      ],
      "metadata": {
        "colab": {
          "base_uri": "https://localhost:8080/",
          "height": 485
        },
        "id": "EipKiJPsO5tx",
        "outputId": "93bb3e46-efd3-4331-b433-1996189d794a"
      },
      "execution_count": null,
      "outputs": [
        {
          "output_type": "display_data",
          "data": {
            "text/plain": [
              "Confusion Matrix and Statistics\n",
              "\n",
              "          Reference\n",
              "Prediction   0   1\n",
              "         0 458  90\n",
              "         1  75 336\n",
              "                                          \n",
              "               Accuracy : 0.8279          \n",
              "                 95% CI : (0.8025, 0.8513)\n",
              "    No Information Rate : 0.5558          \n",
              "    P-Value [Acc > NIR] : <2e-16          \n",
              "                                          \n",
              "                  Kappa : 0.6503          \n",
              "                                          \n",
              " Mcnemar's Test P-Value : 0.2758          \n",
              "                                          \n",
              "            Sensitivity : 0.8593          \n",
              "            Specificity : 0.7887          \n",
              "         Pos Pred Value : 0.8358          \n",
              "         Neg Pred Value : 0.8175          \n",
              "             Prevalence : 0.5558          \n",
              "         Detection Rate : 0.4776          \n",
              "   Detection Prevalence : 0.5714          \n",
              "      Balanced Accuracy : 0.8240          \n",
              "                                          \n",
              "       'Positive' Class : 0               \n",
              "                                          "
            ]
          },
          "metadata": {}
        }
      ]
    }
  ]
}