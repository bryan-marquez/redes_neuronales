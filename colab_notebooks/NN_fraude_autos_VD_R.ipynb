{
  "nbformat": 4,
  "nbformat_minor": 0,
  "metadata": {
    "colab": {
      "provenance": [],
      "toc_visible": true,
      "authorship_tag": "ABX9TyNosVnHEkLgPbU4ptoKVD3v"
    },
    "kernelspec": {
      "name": "ir",
      "display_name": "R"
    },
    "language_info": {
      "name": "R"
    }
  },
  "cells": [
    {
      "cell_type": "markdown",
      "source": [
        "# Análisis de Datos de Fraude en Seguros de Auto / Redes Neuronales en R"
      ],
      "metadata": {
        "id": "hP26NvdelyJr"
      }
    },
    {
      "cell_type": "markdown",
      "source": [
        "# 2 Procesamiento de los Datos"
      ],
      "metadata": {
        "id": "bJVBG-GxmFL0"
      }
    },
    {
      "cell_type": "markdown",
      "source": [
        "# 2.1 Carga de Librerías"
      ],
      "metadata": {
        "id": "fO0GKa08mSv8"
      }
    },
    {
      "cell_type": "code",
      "source": [
        "# Instalamos Keras y Tensorflow\n",
        "\n",
        "install.packages(\"keras\")"
      ],
      "metadata": {
        "colab": {
          "base_uri": "https://localhost:8080/"
        },
        "id": "vML4O5LKhyQs",
        "outputId": "32243a1a-5591-4689-e711-c075bb121f34"
      },
      "execution_count": null,
      "outputs": [
        {
          "output_type": "stream",
          "name": "stderr",
          "text": [
            "Installing package into ‘/usr/local/lib/R/site-library’\n",
            "(as ‘lib’ is unspecified)\n",
            "\n",
            "also installing the dependencies ‘Rcpp’, ‘RcppTOML’, ‘here’, ‘png’, ‘config’, ‘tfautograph’, ‘reticulate’, ‘tensorflow’, ‘tfruns’, ‘zeallot’\n",
            "\n",
            "\n"
          ]
        }
      ]
    },
    {
      "cell_type": "code",
      "source": [
        "install.packages(\"caret\")"
      ],
      "metadata": {
        "colab": {
          "base_uri": "https://localhost:8080/"
        },
        "id": "q2OkO5Sapq2I",
        "outputId": "0b31fb82-ded7-4f3c-c74b-bb05ba5965c8"
      },
      "execution_count": null,
      "outputs": [
        {
          "output_type": "stream",
          "name": "stderr",
          "text": [
            "Installing package into ‘/usr/local/lib/R/site-library’\n",
            "(as ‘lib’ is unspecified)\n",
            "\n",
            "also installing the dependencies ‘listenv’, ‘parallelly’, ‘future’, ‘globals’, ‘future.apply’, ‘numDeriv’, ‘progressr’, ‘SQUAREM’, ‘lava’, ‘prodlim’, ‘proxy’, ‘iterators’, ‘gower’, ‘hardhat’, ‘ipred’, ‘timeDate’, ‘e1071’, ‘foreach’, ‘ModelMetrics’, ‘plyr’, ‘pROC’, ‘recipes’, ‘reshape2’\n",
            "\n",
            "\n"
          ]
        }
      ]
    },
    {
      "cell_type": "code",
      "source": [
        "install.packages(\"RANN\")"
      ],
      "metadata": {
        "colab": {
          "base_uri": "https://localhost:8080/"
        },
        "id": "EcE4O6wnrKS3",
        "outputId": "353fbc0f-9ad3-4ef4-c120-7e8d66bf054d"
      },
      "execution_count": null,
      "outputs": [
        {
          "output_type": "stream",
          "name": "stderr",
          "text": [
            "Installing package into ‘/usr/local/lib/R/site-library’\n",
            "(as ‘lib’ is unspecified)\n",
            "\n"
          ]
        }
      ]
    },
    {
      "cell_type": "code",
      "source": [
        "install.packages(\"performanceEstimation\")"
      ],
      "metadata": {
        "colab": {
          "base_uri": "https://localhost:8080/"
        },
        "id": "ea2TRp-Wt_kc",
        "outputId": "c8f7729d-69dd-4a53-e023-eec5eb35da38"
      },
      "execution_count": null,
      "outputs": [
        {
          "output_type": "stream",
          "name": "stderr",
          "text": [
            "Installing package into ‘/usr/local/lib/R/site-library’\n",
            "(as ‘lib’ is unspecified)\n",
            "\n",
            "also installing the dependencies ‘BBmisc’, ‘checkmate’, ‘parallelMap’\n",
            "\n",
            "\n"
          ]
        }
      ]
    },
    {
      "cell_type": "code",
      "source": [
        "# Cargamos las liberías a utilizar\n",
        "\n",
        "library(dplyr)\n",
        "library(keras)\n",
        "library(caret)\n",
        "library(RANN)\n",
        "library(performanceEstimation)"
      ],
      "metadata": {
        "id": "Ny712ftbhn4u",
        "colab": {
          "base_uri": "https://localhost:8080/"
        },
        "outputId": "82c8ef7b-5c2d-4073-fd74-2960d299f45b"
      },
      "execution_count": null,
      "outputs": [
        {
          "output_type": "stream",
          "name": "stderr",
          "text": [
            "Loading required package: ggplot2\n",
            "\n",
            "Loading required package: lattice\n",
            "\n",
            "Warning message in system(\"timedatectl\", intern = TRUE):\n",
            "“running command 'timedatectl' had status 1”\n"
          ]
        }
      ]
    },
    {
      "cell_type": "markdown",
      "source": [
        "# 2.2 Carga de Datos"
      ],
      "metadata": {
        "id": "PCa8VV1am6eC"
      }
    },
    {
      "cell_type": "code",
      "source": [
        "# Cargamos los datos\n",
        "archivo <- \"/content/sample_data/Dataset.csv\"\n",
        "car_fraud <- read.csv(archivo)\n",
        "head(car_fraud)"
      ],
      "metadata": {
        "colab": {
          "base_uri": "https://localhost:8080/",
          "height": 306
        },
        "id": "UqhZUeRBj4s2",
        "outputId": "d43e36c6-355c-474b-e3b5-55c5377c9124"
      },
      "execution_count": null,
      "outputs": [
        {
          "output_type": "display_data",
          "data": {
            "text/html": [
              "<table class=\"dataframe\">\n",
              "<caption>A data.frame: 6 × 34</caption>\n",
              "<thead>\n",
              "\t<tr><th></th><th scope=col>Month</th><th scope=col>WeekOfMonth</th><th scope=col>DayOfWeek</th><th scope=col>Make</th><th scope=col>AccidentArea</th><th scope=col>DayOfWeekClaimed</th><th scope=col>MonthClaimed</th><th scope=col>WeekOfMonthClaimed</th><th scope=col>Sex</th><th scope=col>MaritalStatus</th><th scope=col>⋯</th><th scope=col>AgeOfPolicyHolder</th><th scope=col>PoliceReportFiled</th><th scope=col>WitnessPresent</th><th scope=col>AgentType</th><th scope=col>NumberOfSuppliments</th><th scope=col>AddressChange_Claim</th><th scope=col>NumberOfCars</th><th scope=col>Year</th><th scope=col>BasePolicy</th><th scope=col>ClaimSize</th></tr>\n",
              "\t<tr><th></th><th scope=col>&lt;chr&gt;</th><th scope=col>&lt;int&gt;</th><th scope=col>&lt;chr&gt;</th><th scope=col>&lt;chr&gt;</th><th scope=col>&lt;chr&gt;</th><th scope=col>&lt;chr&gt;</th><th scope=col>&lt;chr&gt;</th><th scope=col>&lt;int&gt;</th><th scope=col>&lt;chr&gt;</th><th scope=col>&lt;chr&gt;</th><th scope=col>⋯</th><th scope=col>&lt;chr&gt;</th><th scope=col>&lt;chr&gt;</th><th scope=col>&lt;chr&gt;</th><th scope=col>&lt;chr&gt;</th><th scope=col>&lt;chr&gt;</th><th scope=col>&lt;chr&gt;</th><th scope=col>&lt;chr&gt;</th><th scope=col>&lt;int&gt;</th><th scope=col>&lt;chr&gt;</th><th scope=col>&lt;dbl&gt;</th></tr>\n",
              "</thead>\n",
              "<tbody>\n",
              "\t<tr><th scope=row>1</th><td>Dec</td><td>5</td><td>Wednesday</td><td>Honda </td><td>Urban</td><td>Tuesday  </td><td>Jan</td><td>1</td><td>Female</td><td>Single </td><td>⋯</td><td>26 to 30</td><td>No </td><td>No </td><td>External</td><td>none       </td><td>1 year   </td><td>3 to 4   </td><td>1994</td><td>Liability</td><td>55526.069</td></tr>\n",
              "\t<tr><th scope=row>2</th><td>Jan</td><td>3</td><td>Wednesday</td><td>Honda </td><td>Urban</td><td>Monday   </td><td>Jan</td><td>4</td><td>Male  </td><td>Single </td><td>⋯</td><td>31 to 35</td><td>Yes</td><td>No </td><td>External</td><td>none       </td><td>no change</td><td>1 vehicle</td><td>1994</td><td>Collision</td><td>59294.456</td></tr>\n",
              "\t<tr><th scope=row>3</th><td>Oct</td><td>5</td><td>Friday   </td><td>Honda </td><td>Urban</td><td>Thursday </td><td>Nov</td><td>2</td><td>Male  </td><td>Married</td><td>⋯</td><td>41 to 50</td><td>No </td><td>No </td><td>External</td><td>none       </td><td>no change</td><td>1 vehicle</td><td>1994</td><td>Collision</td><td>71756.941</td></tr>\n",
              "\t<tr><th scope=row>4</th><td>Jun</td><td>2</td><td>Saturday </td><td>Toyota</td><td>Rural</td><td>Friday   </td><td>Jul</td><td>1</td><td>Male  </td><td>Married</td><td>⋯</td><td>51 to 65</td><td>Yes</td><td>No </td><td>External</td><td>more than 5</td><td>no change</td><td>1 vehicle</td><td>1994</td><td>Liability</td><td> 7584.153</td></tr>\n",
              "\t<tr><th scope=row>5</th><td>Feb</td><td>1</td><td>Saturday </td><td>Honda </td><td>Urban</td><td>Monday   </td><td>Feb</td><td>3</td><td>Male  </td><td>Married</td><td>⋯</td><td>36 to 40</td><td>No </td><td>No </td><td>External</td><td>1 to 2     </td><td>no change</td><td>1 vehicle</td><td>1994</td><td>Collision</td><td>98545.374</td></tr>\n",
              "\t<tr><th scope=row>6</th><td>Dec</td><td>4</td><td>Saturday </td><td>Honda </td><td>Urban</td><td>Wednesday</td><td>Dec</td><td>5</td><td>Male  </td><td>Single </td><td>⋯</td><td>31 to 35</td><td>No </td><td>Yes</td><td>External</td><td>3 to 5     </td><td>no change</td><td>1 vehicle</td><td>1994</td><td>Collision</td><td>57166.761</td></tr>\n",
              "</tbody>\n",
              "</table>\n"
            ],
            "text/markdown": "\nA data.frame: 6 × 34\n\n| <!--/--> | Month &lt;chr&gt; | WeekOfMonth &lt;int&gt; | DayOfWeek &lt;chr&gt; | Make &lt;chr&gt; | AccidentArea &lt;chr&gt; | DayOfWeekClaimed &lt;chr&gt; | MonthClaimed &lt;chr&gt; | WeekOfMonthClaimed &lt;int&gt; | Sex &lt;chr&gt; | MaritalStatus &lt;chr&gt; | ⋯ ⋯ | AgeOfPolicyHolder &lt;chr&gt; | PoliceReportFiled &lt;chr&gt; | WitnessPresent &lt;chr&gt; | AgentType &lt;chr&gt; | NumberOfSuppliments &lt;chr&gt; | AddressChange_Claim &lt;chr&gt; | NumberOfCars &lt;chr&gt; | Year &lt;int&gt; | BasePolicy &lt;chr&gt; | ClaimSize &lt;dbl&gt; |\n|---|---|---|---|---|---|---|---|---|---|---|---|---|---|---|---|---|---|---|---|---|---|\n| 1 | Dec | 5 | Wednesday | Honda  | Urban | Tuesday   | Jan | 1 | Female | Single  | ⋯ | 26 to 30 | No  | No  | External | none        | 1 year    | 3 to 4    | 1994 | Liability | 55526.069 |\n| 2 | Jan | 3 | Wednesday | Honda  | Urban | Monday    | Jan | 4 | Male   | Single  | ⋯ | 31 to 35 | Yes | No  | External | none        | no change | 1 vehicle | 1994 | Collision | 59294.456 |\n| 3 | Oct | 5 | Friday    | Honda  | Urban | Thursday  | Nov | 2 | Male   | Married | ⋯ | 41 to 50 | No  | No  | External | none        | no change | 1 vehicle | 1994 | Collision | 71756.941 |\n| 4 | Jun | 2 | Saturday  | Toyota | Rural | Friday    | Jul | 1 | Male   | Married | ⋯ | 51 to 65 | Yes | No  | External | more than 5 | no change | 1 vehicle | 1994 | Liability |  7584.153 |\n| 5 | Feb | 1 | Saturday  | Honda  | Urban | Monday    | Feb | 3 | Male   | Married | ⋯ | 36 to 40 | No  | No  | External | 1 to 2      | no change | 1 vehicle | 1994 | Collision | 98545.374 |\n| 6 | Dec | 4 | Saturday  | Honda  | Urban | Wednesday | Dec | 5 | Male   | Single  | ⋯ | 31 to 35 | No  | Yes | External | 3 to 5      | no change | 1 vehicle | 1994 | Collision | 57166.761 |\n\n",
            "text/latex": "A data.frame: 6 × 34\n\\begin{tabular}{r|lllllllllllllllllllll}\n  & Month & WeekOfMonth & DayOfWeek & Make & AccidentArea & DayOfWeekClaimed & MonthClaimed & WeekOfMonthClaimed & Sex & MaritalStatus & ⋯ & AgeOfPolicyHolder & PoliceReportFiled & WitnessPresent & AgentType & NumberOfSuppliments & AddressChange\\_Claim & NumberOfCars & Year & BasePolicy & ClaimSize\\\\\n  & <chr> & <int> & <chr> & <chr> & <chr> & <chr> & <chr> & <int> & <chr> & <chr> & ⋯ & <chr> & <chr> & <chr> & <chr> & <chr> & <chr> & <chr> & <int> & <chr> & <dbl>\\\\\n\\hline\n\t1 & Dec & 5 & Wednesday & Honda  & Urban & Tuesday   & Jan & 1 & Female & Single  & ⋯ & 26 to 30 & No  & No  & External & none        & 1 year    & 3 to 4    & 1994 & Liability & 55526.069\\\\\n\t2 & Jan & 3 & Wednesday & Honda  & Urban & Monday    & Jan & 4 & Male   & Single  & ⋯ & 31 to 35 & Yes & No  & External & none        & no change & 1 vehicle & 1994 & Collision & 59294.456\\\\\n\t3 & Oct & 5 & Friday    & Honda  & Urban & Thursday  & Nov & 2 & Male   & Married & ⋯ & 41 to 50 & No  & No  & External & none        & no change & 1 vehicle & 1994 & Collision & 71756.941\\\\\n\t4 & Jun & 2 & Saturday  & Toyota & Rural & Friday    & Jul & 1 & Male   & Married & ⋯ & 51 to 65 & Yes & No  & External & more than 5 & no change & 1 vehicle & 1994 & Liability &  7584.153\\\\\n\t5 & Feb & 1 & Saturday  & Honda  & Urban & Monday    & Feb & 3 & Male   & Married & ⋯ & 36 to 40 & No  & No  & External & 1 to 2      & no change & 1 vehicle & 1994 & Collision & 98545.374\\\\\n\t6 & Dec & 4 & Saturday  & Honda  & Urban & Wednesday & Dec & 5 & Male   & Single  & ⋯ & 31 to 35 & No  & Yes & External & 3 to 5      & no change & 1 vehicle & 1994 & Collision & 57166.761\\\\\n\\end{tabular}\n",
            "text/plain": [
              "  Month WeekOfMonth DayOfWeek Make   AccidentArea DayOfWeekClaimed MonthClaimed\n",
              "1 Dec   5           Wednesday Honda  Urban        Tuesday          Jan         \n",
              "2 Jan   3           Wednesday Honda  Urban        Monday           Jan         \n",
              "3 Oct   5           Friday    Honda  Urban        Thursday         Nov         \n",
              "4 Jun   2           Saturday  Toyota Rural        Friday           Jul         \n",
              "5 Feb   1           Saturday  Honda  Urban        Monday           Feb         \n",
              "6 Dec   4           Saturday  Honda  Urban        Wednesday        Dec         \n",
              "  WeekOfMonthClaimed Sex    MaritalStatus ⋯ AgeOfPolicyHolder PoliceReportFiled\n",
              "1 1                  Female Single        ⋯ 26 to 30          No               \n",
              "2 4                  Male   Single        ⋯ 31 to 35          Yes              \n",
              "3 2                  Male   Married       ⋯ 41 to 50          No               \n",
              "4 1                  Male   Married       ⋯ 51 to 65          Yes              \n",
              "5 3                  Male   Married       ⋯ 36 to 40          No               \n",
              "6 5                  Male   Single        ⋯ 31 to 35          No               \n",
              "  WitnessPresent AgentType NumberOfSuppliments AddressChange_Claim NumberOfCars\n",
              "1 No             External  none                1 year              3 to 4      \n",
              "2 No             External  none                no change           1 vehicle   \n",
              "3 No             External  none                no change           1 vehicle   \n",
              "4 No             External  more than 5         no change           1 vehicle   \n",
              "5 No             External  1 to 2              no change           1 vehicle   \n",
              "6 Yes            External  3 to 5              no change           1 vehicle   \n",
              "  Year BasePolicy ClaimSize\n",
              "1 1994 Liability  55526.069\n",
              "2 1994 Collision  59294.456\n",
              "3 1994 Collision  71756.941\n",
              "4 1994 Liability   7584.153\n",
              "5 1994 Collision  98545.374\n",
              "6 1994 Collision  57166.761"
            ]
          },
          "metadata": {}
        }
      ]
    },
    {
      "cell_type": "code",
      "source": [
        "# Mostramos el número de filas y columnas\n",
        "dim(car_fraud)"
      ],
      "metadata": {
        "colab": {
          "base_uri": "https://localhost:8080/",
          "height": 34
        },
        "id": "RQfDU2O-nStA",
        "outputId": "82fe163f-c871-4758-a5c3-22694f946931"
      },
      "execution_count": null,
      "outputs": [
        {
          "output_type": "display_data",
          "data": {
            "text/html": [
              "<style>\n",
              ".list-inline {list-style: none; margin:0; padding: 0}\n",
              ".list-inline>li {display: inline-block}\n",
              ".list-inline>li:not(:last-child)::after {content: \"\\00b7\"; padding: 0 .5ex}\n",
              "</style>\n",
              "<ol class=list-inline><li>11565</li><li>34</li></ol>\n"
            ],
            "text/markdown": "1. 11565\n2. 34\n\n\n",
            "text/latex": "\\begin{enumerate*}\n\\item 11565\n\\item 34\n\\end{enumerate*}\n",
            "text/plain": [
              "[1] 11565    34"
            ]
          },
          "metadata": {}
        }
      ]
    },
    {
      "cell_type": "markdown",
      "source": [
        "# 2.3 División de los Datos"
      ],
      "metadata": {
        "id": "jWykjEWqOdox"
      }
    },
    {
      "cell_type": "code",
      "source": [
        "# Dividimos los datos\n",
        "dataframe <- select(car_fraud, -PolicyNumber) # quitamos la variable identidad\n",
        "dim(dataframe)\n",
        "X <- select(dataframe, -FraudFound_P) # quitamos la variable objetivo\n",
        "dim(X)"
      ],
      "metadata": {
        "colab": {
          "base_uri": "https://localhost:8080/",
          "height": 52
        },
        "id": "HEzjOyCrn1AY",
        "outputId": "72675ed5-2bae-4342-fc38-af7f00f650ee"
      },
      "execution_count": null,
      "outputs": [
        {
          "output_type": "display_data",
          "data": {
            "text/html": [
              "<style>\n",
              ".list-inline {list-style: none; margin:0; padding: 0}\n",
              ".list-inline>li {display: inline-block}\n",
              ".list-inline>li:not(:last-child)::after {content: \"\\00b7\"; padding: 0 .5ex}\n",
              "</style>\n",
              "<ol class=list-inline><li>11565</li><li>33</li></ol>\n"
            ],
            "text/markdown": "1. 11565\n2. 33\n\n\n",
            "text/latex": "\\begin{enumerate*}\n\\item 11565\n\\item 33\n\\end{enumerate*}\n",
            "text/plain": [
              "[1] 11565    33"
            ]
          },
          "metadata": {}
        },
        {
          "output_type": "display_data",
          "data": {
            "text/html": [
              "<style>\n",
              ".list-inline {list-style: none; margin:0; padding: 0}\n",
              ".list-inline>li {display: inline-block}\n",
              ".list-inline>li:not(:last-child)::after {content: \"\\00b7\"; padding: 0 .5ex}\n",
              "</style>\n",
              "<ol class=list-inline><li>11565</li><li>32</li></ol>\n"
            ],
            "text/markdown": "1. 11565\n2. 32\n\n\n",
            "text/latex": "\\begin{enumerate*}\n\\item 11565\n\\item 32\n\\end{enumerate*}\n",
            "text/plain": [
              "[1] 11565    32"
            ]
          },
          "metadata": {}
        }
      ]
    },
    {
      "cell_type": "markdown",
      "source": [
        "#  2.4 Limpieza de Datos y Escalamiento de Variables"
      ],
      "metadata": {
        "id": "sfjga7zX1Pyf"
      }
    },
    {
      "cell_type": "code",
      "source": [
        "# Mostramos la suma de valores nulos\n",
        "sapply(X, function(x) sum(is.na(x)))"
      ],
      "metadata": {
        "colab": {
          "base_uri": "https://localhost:8080/",
          "height": 104
        },
        "id": "RqoO3Plj1Uuz",
        "outputId": "25714047-75ae-47e2-a3b3-a2476cdea15f"
      },
      "execution_count": null,
      "outputs": [
        {
          "output_type": "display_data",
          "data": {
            "text/html": [
              "<style>\n",
              ".dl-inline {width: auto; margin:0; padding: 0}\n",
              ".dl-inline>dt, .dl-inline>dd {float: none; width: auto; display: inline-block}\n",
              ".dl-inline>dt::after {content: \":\\0020\"; padding-right: .5ex}\n",
              ".dl-inline>dt:not(:first-of-type) {padding-left: .5ex}\n",
              "</style><dl class=dl-inline><dt>Month</dt><dd>0</dd><dt>WeekOfMonth</dt><dd>0</dd><dt>DayOfWeek</dt><dd>0</dd><dt>Make</dt><dd>0</dd><dt>AccidentArea</dt><dd>0</dd><dt>DayOfWeekClaimed</dt><dd>0</dd><dt>MonthClaimed</dt><dd>0</dd><dt>WeekOfMonthClaimed</dt><dd>0</dd><dt>Sex</dt><dd>0</dd><dt>MaritalStatus</dt><dd>0</dd><dt>Age</dt><dd>5</dd><dt>Fault</dt><dd>0</dd><dt>PolicyType</dt><dd>0</dd><dt>VehicleCategory</dt><dd>0</dd><dt>VehiclePrice</dt><dd>0</dd><dt>RepNumber</dt><dd>0</dd><dt>Deductible</dt><dd>0</dd><dt>DriverRating</dt><dd>6</dd><dt>Days_Policy_Accident</dt><dd>0</dd><dt>Days_Policy_Claim</dt><dd>0</dd><dt>PastNumberOfClaims</dt><dd>0</dd><dt>AgeOfVehicle</dt><dd>0</dd><dt>AgeOfPolicyHolder</dt><dd>0</dd><dt>PoliceReportFiled</dt><dd>0</dd><dt>WitnessPresent</dt><dd>0</dd><dt>AgentType</dt><dd>0</dd><dt>NumberOfSuppliments</dt><dd>0</dd><dt>AddressChange_Claim</dt><dd>0</dd><dt>NumberOfCars</dt><dd>0</dd><dt>Year</dt><dd>0</dd><dt>BasePolicy</dt><dd>0</dd><dt>ClaimSize</dt><dd>0</dd></dl>\n"
            ],
            "text/markdown": "Month\n:   0WeekOfMonth\n:   0DayOfWeek\n:   0Make\n:   0AccidentArea\n:   0DayOfWeekClaimed\n:   0MonthClaimed\n:   0WeekOfMonthClaimed\n:   0Sex\n:   0MaritalStatus\n:   0Age\n:   5Fault\n:   0PolicyType\n:   0VehicleCategory\n:   0VehiclePrice\n:   0RepNumber\n:   0Deductible\n:   0DriverRating\n:   6Days_Policy_Accident\n:   0Days_Policy_Claim\n:   0PastNumberOfClaims\n:   0AgeOfVehicle\n:   0AgeOfPolicyHolder\n:   0PoliceReportFiled\n:   0WitnessPresent\n:   0AgentType\n:   0NumberOfSuppliments\n:   0AddressChange_Claim\n:   0NumberOfCars\n:   0Year\n:   0BasePolicy\n:   0ClaimSize\n:   0\n\n",
            "text/latex": "\\begin{description*}\n\\item[Month] 0\n\\item[WeekOfMonth] 0\n\\item[DayOfWeek] 0\n\\item[Make] 0\n\\item[AccidentArea] 0\n\\item[DayOfWeekClaimed] 0\n\\item[MonthClaimed] 0\n\\item[WeekOfMonthClaimed] 0\n\\item[Sex] 0\n\\item[MaritalStatus] 0\n\\item[Age] 5\n\\item[Fault] 0\n\\item[PolicyType] 0\n\\item[VehicleCategory] 0\n\\item[VehiclePrice] 0\n\\item[RepNumber] 0\n\\item[Deductible] 0\n\\item[DriverRating] 6\n\\item[Days\\textbackslash{}\\_Policy\\textbackslash{}\\_Accident] 0\n\\item[Days\\textbackslash{}\\_Policy\\textbackslash{}\\_Claim] 0\n\\item[PastNumberOfClaims] 0\n\\item[AgeOfVehicle] 0\n\\item[AgeOfPolicyHolder] 0\n\\item[PoliceReportFiled] 0\n\\item[WitnessPresent] 0\n\\item[AgentType] 0\n\\item[NumberOfSuppliments] 0\n\\item[AddressChange\\textbackslash{}\\_Claim] 0\n\\item[NumberOfCars] 0\n\\item[Year] 0\n\\item[BasePolicy] 0\n\\item[ClaimSize] 0\n\\end{description*}\n",
            "text/plain": [
              "               Month          WeekOfMonth            DayOfWeek \n",
              "                   0                    0                    0 \n",
              "                Make         AccidentArea     DayOfWeekClaimed \n",
              "                   0                    0                    0 \n",
              "        MonthClaimed   WeekOfMonthClaimed                  Sex \n",
              "                   0                    0                    0 \n",
              "       MaritalStatus                  Age                Fault \n",
              "                   0                    5                    0 \n",
              "          PolicyType      VehicleCategory         VehiclePrice \n",
              "                   0                    0                    0 \n",
              "           RepNumber           Deductible         DriverRating \n",
              "                   0                    0                    6 \n",
              "Days_Policy_Accident    Days_Policy_Claim   PastNumberOfClaims \n",
              "                   0                    0                    0 \n",
              "        AgeOfVehicle    AgeOfPolicyHolder    PoliceReportFiled \n",
              "                   0                    0                    0 \n",
              "      WitnessPresent            AgentType  NumberOfSuppliments \n",
              "                   0                    0                    0 \n",
              " AddressChange_Claim         NumberOfCars                 Year \n",
              "                   0                    0                    0 \n",
              "          BasePolicy            ClaimSize \n",
              "                   0                    0 "
            ]
          },
          "metadata": {}
        }
      ]
    },
    {
      "cell_type": "code",
      "source": [
        "# Mostramos la suma de valores cero\n",
        "sapply(X, function(x) sum(x == 0, na.rm = TRUE))"
      ],
      "metadata": {
        "colab": {
          "base_uri": "https://localhost:8080/",
          "height": 104
        },
        "id": "Dh2Qz-PIo8kC",
        "outputId": "169045cd-db02-4630-edae-8f36cd1cf9a5"
      },
      "execution_count": null,
      "outputs": [
        {
          "output_type": "display_data",
          "data": {
            "text/html": [
              "<style>\n",
              ".dl-inline {width: auto; margin:0; padding: 0}\n",
              ".dl-inline>dt, .dl-inline>dd {float: none; width: auto; display: inline-block}\n",
              ".dl-inline>dt::after {content: \":\\0020\"; padding-right: .5ex}\n",
              ".dl-inline>dt:not(:first-of-type) {padding-left: .5ex}\n",
              "</style><dl class=dl-inline><dt>Month</dt><dd>0</dd><dt>WeekOfMonth</dt><dd>0</dd><dt>DayOfWeek</dt><dd>0</dd><dt>Make</dt><dd>0</dd><dt>AccidentArea</dt><dd>0</dd><dt>DayOfWeekClaimed</dt><dd>1</dd><dt>MonthClaimed</dt><dd>1</dd><dt>WeekOfMonthClaimed</dt><dd>0</dd><dt>Sex</dt><dd>0</dd><dt>MaritalStatus</dt><dd>0</dd><dt>Age</dt><dd>253</dd><dt>Fault</dt><dd>0</dd><dt>PolicyType</dt><dd>0</dd><dt>VehicleCategory</dt><dd>0</dd><dt>VehiclePrice</dt><dd>0</dd><dt>RepNumber</dt><dd>0</dd><dt>Deductible</dt><dd>0</dd><dt>DriverRating</dt><dd>0</dd><dt>Days_Policy_Accident</dt><dd>0</dd><dt>Days_Policy_Claim</dt><dd>0</dd><dt>PastNumberOfClaims</dt><dd>0</dd><dt>AgeOfVehicle</dt><dd>0</dd><dt>AgeOfPolicyHolder</dt><dd>0</dd><dt>PoliceReportFiled</dt><dd>0</dd><dt>WitnessPresent</dt><dd>0</dd><dt>AgentType</dt><dd>0</dd><dt>NumberOfSuppliments</dt><dd>0</dd><dt>AddressChange_Claim</dt><dd>0</dd><dt>NumberOfCars</dt><dd>0</dd><dt>Year</dt><dd>0</dd><dt>BasePolicy</dt><dd>0</dd><dt>ClaimSize</dt><dd>6</dd></dl>\n"
            ],
            "text/markdown": "Month\n:   0WeekOfMonth\n:   0DayOfWeek\n:   0Make\n:   0AccidentArea\n:   0DayOfWeekClaimed\n:   1MonthClaimed\n:   1WeekOfMonthClaimed\n:   0Sex\n:   0MaritalStatus\n:   0Age\n:   253Fault\n:   0PolicyType\n:   0VehicleCategory\n:   0VehiclePrice\n:   0RepNumber\n:   0Deductible\n:   0DriverRating\n:   0Days_Policy_Accident\n:   0Days_Policy_Claim\n:   0PastNumberOfClaims\n:   0AgeOfVehicle\n:   0AgeOfPolicyHolder\n:   0PoliceReportFiled\n:   0WitnessPresent\n:   0AgentType\n:   0NumberOfSuppliments\n:   0AddressChange_Claim\n:   0NumberOfCars\n:   0Year\n:   0BasePolicy\n:   0ClaimSize\n:   6\n\n",
            "text/latex": "\\begin{description*}\n\\item[Month] 0\n\\item[WeekOfMonth] 0\n\\item[DayOfWeek] 0\n\\item[Make] 0\n\\item[AccidentArea] 0\n\\item[DayOfWeekClaimed] 1\n\\item[MonthClaimed] 1\n\\item[WeekOfMonthClaimed] 0\n\\item[Sex] 0\n\\item[MaritalStatus] 0\n\\item[Age] 253\n\\item[Fault] 0\n\\item[PolicyType] 0\n\\item[VehicleCategory] 0\n\\item[VehiclePrice] 0\n\\item[RepNumber] 0\n\\item[Deductible] 0\n\\item[DriverRating] 0\n\\item[Days\\textbackslash{}\\_Policy\\textbackslash{}\\_Accident] 0\n\\item[Days\\textbackslash{}\\_Policy\\textbackslash{}\\_Claim] 0\n\\item[PastNumberOfClaims] 0\n\\item[AgeOfVehicle] 0\n\\item[AgeOfPolicyHolder] 0\n\\item[PoliceReportFiled] 0\n\\item[WitnessPresent] 0\n\\item[AgentType] 0\n\\item[NumberOfSuppliments] 0\n\\item[AddressChange\\textbackslash{}\\_Claim] 0\n\\item[NumberOfCars] 0\n\\item[Year] 0\n\\item[BasePolicy] 0\n\\item[ClaimSize] 6\n\\end{description*}\n",
            "text/plain": [
              "               Month          WeekOfMonth            DayOfWeek \n",
              "                   0                    0                    0 \n",
              "                Make         AccidentArea     DayOfWeekClaimed \n",
              "                   0                    0                    1 \n",
              "        MonthClaimed   WeekOfMonthClaimed                  Sex \n",
              "                   1                    0                    0 \n",
              "       MaritalStatus                  Age                Fault \n",
              "                   0                  253                    0 \n",
              "          PolicyType      VehicleCategory         VehiclePrice \n",
              "                   0                    0                    0 \n",
              "           RepNumber           Deductible         DriverRating \n",
              "                   0                    0                    0 \n",
              "Days_Policy_Accident    Days_Policy_Claim   PastNumberOfClaims \n",
              "                   0                    0                    0 \n",
              "        AgeOfVehicle    AgeOfPolicyHolder    PoliceReportFiled \n",
              "                   0                    0                    0 \n",
              "      WitnessPresent            AgentType  NumberOfSuppliments \n",
              "                   0                    0                    0 \n",
              " AddressChange_Claim         NumberOfCars                 Year \n",
              "                   0                    0                    0 \n",
              "          BasePolicy            ClaimSize \n",
              "                   0                    6 "
            ]
          },
          "metadata": {}
        }
      ]
    },
    {
      "cell_type": "code",
      "source": [
        "# Reemplazamos los valores iguales a cero por NA\n",
        "X[X == 0] <- NA\n",
        "sapply(X, function(x) sum(is.na(x)))"
      ],
      "metadata": {
        "colab": {
          "base_uri": "https://localhost:8080/",
          "height": 104
        },
        "id": "vhHZB1IepG-z",
        "outputId": "9d3c71e0-2b2c-47c2-b641-b39118dada38"
      },
      "execution_count": null,
      "outputs": [
        {
          "output_type": "display_data",
          "data": {
            "text/html": [
              "<style>\n",
              ".dl-inline {width: auto; margin:0; padding: 0}\n",
              ".dl-inline>dt, .dl-inline>dd {float: none; width: auto; display: inline-block}\n",
              ".dl-inline>dt::after {content: \":\\0020\"; padding-right: .5ex}\n",
              ".dl-inline>dt:not(:first-of-type) {padding-left: .5ex}\n",
              "</style><dl class=dl-inline><dt>Month</dt><dd>0</dd><dt>WeekOfMonth</dt><dd>0</dd><dt>DayOfWeek</dt><dd>0</dd><dt>Make</dt><dd>0</dd><dt>AccidentArea</dt><dd>0</dd><dt>DayOfWeekClaimed</dt><dd>1</dd><dt>MonthClaimed</dt><dd>1</dd><dt>WeekOfMonthClaimed</dt><dd>0</dd><dt>Sex</dt><dd>0</dd><dt>MaritalStatus</dt><dd>0</dd><dt>Age</dt><dd>258</dd><dt>Fault</dt><dd>0</dd><dt>PolicyType</dt><dd>0</dd><dt>VehicleCategory</dt><dd>0</dd><dt>VehiclePrice</dt><dd>0</dd><dt>RepNumber</dt><dd>0</dd><dt>Deductible</dt><dd>0</dd><dt>DriverRating</dt><dd>6</dd><dt>Days_Policy_Accident</dt><dd>0</dd><dt>Days_Policy_Claim</dt><dd>0</dd><dt>PastNumberOfClaims</dt><dd>0</dd><dt>AgeOfVehicle</dt><dd>0</dd><dt>AgeOfPolicyHolder</dt><dd>0</dd><dt>PoliceReportFiled</dt><dd>0</dd><dt>WitnessPresent</dt><dd>0</dd><dt>AgentType</dt><dd>0</dd><dt>NumberOfSuppliments</dt><dd>0</dd><dt>AddressChange_Claim</dt><dd>0</dd><dt>NumberOfCars</dt><dd>0</dd><dt>Year</dt><dd>0</dd><dt>BasePolicy</dt><dd>0</dd><dt>ClaimSize</dt><dd>6</dd></dl>\n"
            ],
            "text/markdown": "Month\n:   0WeekOfMonth\n:   0DayOfWeek\n:   0Make\n:   0AccidentArea\n:   0DayOfWeekClaimed\n:   1MonthClaimed\n:   1WeekOfMonthClaimed\n:   0Sex\n:   0MaritalStatus\n:   0Age\n:   258Fault\n:   0PolicyType\n:   0VehicleCategory\n:   0VehiclePrice\n:   0RepNumber\n:   0Deductible\n:   0DriverRating\n:   6Days_Policy_Accident\n:   0Days_Policy_Claim\n:   0PastNumberOfClaims\n:   0AgeOfVehicle\n:   0AgeOfPolicyHolder\n:   0PoliceReportFiled\n:   0WitnessPresent\n:   0AgentType\n:   0NumberOfSuppliments\n:   0AddressChange_Claim\n:   0NumberOfCars\n:   0Year\n:   0BasePolicy\n:   0ClaimSize\n:   6\n\n",
            "text/latex": "\\begin{description*}\n\\item[Month] 0\n\\item[WeekOfMonth] 0\n\\item[DayOfWeek] 0\n\\item[Make] 0\n\\item[AccidentArea] 0\n\\item[DayOfWeekClaimed] 1\n\\item[MonthClaimed] 1\n\\item[WeekOfMonthClaimed] 0\n\\item[Sex] 0\n\\item[MaritalStatus] 0\n\\item[Age] 258\n\\item[Fault] 0\n\\item[PolicyType] 0\n\\item[VehicleCategory] 0\n\\item[VehiclePrice] 0\n\\item[RepNumber] 0\n\\item[Deductible] 0\n\\item[DriverRating] 6\n\\item[Days\\textbackslash{}\\_Policy\\textbackslash{}\\_Accident] 0\n\\item[Days\\textbackslash{}\\_Policy\\textbackslash{}\\_Claim] 0\n\\item[PastNumberOfClaims] 0\n\\item[AgeOfVehicle] 0\n\\item[AgeOfPolicyHolder] 0\n\\item[PoliceReportFiled] 0\n\\item[WitnessPresent] 0\n\\item[AgentType] 0\n\\item[NumberOfSuppliments] 0\n\\item[AddressChange\\textbackslash{}\\_Claim] 0\n\\item[NumberOfCars] 0\n\\item[Year] 0\n\\item[BasePolicy] 0\n\\item[ClaimSize] 6\n\\end{description*}\n",
            "text/plain": [
              "               Month          WeekOfMonth            DayOfWeek \n",
              "                   0                    0                    0 \n",
              "                Make         AccidentArea     DayOfWeekClaimed \n",
              "                   0                    0                    1 \n",
              "        MonthClaimed   WeekOfMonthClaimed                  Sex \n",
              "                   1                    0                    0 \n",
              "       MaritalStatus                  Age                Fault \n",
              "                   0                  258                    0 \n",
              "          PolicyType      VehicleCategory         VehiclePrice \n",
              "                   0                    0                    0 \n",
              "           RepNumber           Deductible         DriverRating \n",
              "                   0                    0                    6 \n",
              "Days_Policy_Accident    Days_Policy_Claim   PastNumberOfClaims \n",
              "                   0                    0                    0 \n",
              "        AgeOfVehicle    AgeOfPolicyHolder    PoliceReportFiled \n",
              "                   0                    0                    0 \n",
              "      WitnessPresent            AgentType  NumberOfSuppliments \n",
              "                   0                    0                    0 \n",
              " AddressChange_Claim         NumberOfCars                 Year \n",
              "                   0                    0                    0 \n",
              "          BasePolicy            ClaimSize \n",
              "                   0                    6 "
            ]
          },
          "metadata": {}
        }
      ]
    },
    {
      "cell_type": "code",
      "source": [
        "# Imputamos los valores nulos con \"knnImpute\" y estandarizamos los datos númericos con \"center\" y \"scale\"\n",
        "imputer <- preProcess(X, method = c(\"knnImpute\"))\n",
        "imputer"
      ],
      "metadata": {
        "colab": {
          "base_uri": "https://localhost:8080/",
          "height": 138
        },
        "id": "YnmOdwBRpJpf",
        "outputId": "a208641e-8a96-4e85-819e-b32233bb74ad"
      },
      "execution_count": null,
      "outputs": [
        {
          "output_type": "display_data",
          "data": {
            "text/plain": [
              "Created from 11295 samples and 32 variables\n",
              "\n",
              "Pre-processing:\n",
              "  - centered (8)\n",
              "  - ignored (24)\n",
              "  - 5 nearest neighbor imputation (8)\n",
              "  - scaled (8)\n"
            ]
          },
          "metadata": {}
        }
      ]
    },
    {
      "cell_type": "code",
      "source": [
        "# Transformamos los valores nulos y transformamos los datos númericos a media = 0 y sd = 1\n",
        "transformed <- predict(imputer, dataframe)\n",
        "head(transformed)"
      ],
      "metadata": {
        "colab": {
          "base_uri": "https://localhost:8080/",
          "height": 306
        },
        "id": "uC6XFbUJpaeo",
        "outputId": "ad8c023d-1130-4656-8fe2-445f53b2f99b"
      },
      "execution_count": null,
      "outputs": [
        {
          "output_type": "display_data",
          "data": {
            "text/html": [
              "<table class=\"dataframe\">\n",
              "<caption>A data.frame: 6 × 33</caption>\n",
              "<thead>\n",
              "\t<tr><th></th><th scope=col>Month</th><th scope=col>WeekOfMonth</th><th scope=col>DayOfWeek</th><th scope=col>Make</th><th scope=col>AccidentArea</th><th scope=col>DayOfWeekClaimed</th><th scope=col>MonthClaimed</th><th scope=col>WeekOfMonthClaimed</th><th scope=col>Sex</th><th scope=col>MaritalStatus</th><th scope=col>⋯</th><th scope=col>AgeOfPolicyHolder</th><th scope=col>PoliceReportFiled</th><th scope=col>WitnessPresent</th><th scope=col>AgentType</th><th scope=col>NumberOfSuppliments</th><th scope=col>AddressChange_Claim</th><th scope=col>NumberOfCars</th><th scope=col>Year</th><th scope=col>BasePolicy</th><th scope=col>ClaimSize</th></tr>\n",
              "\t<tr><th></th><th scope=col>&lt;chr&gt;</th><th scope=col>&lt;dbl&gt;</th><th scope=col>&lt;chr&gt;</th><th scope=col>&lt;chr&gt;</th><th scope=col>&lt;chr&gt;</th><th scope=col>&lt;chr&gt;</th><th scope=col>&lt;chr&gt;</th><th scope=col>&lt;dbl&gt;</th><th scope=col>&lt;chr&gt;</th><th scope=col>&lt;chr&gt;</th><th scope=col>⋯</th><th scope=col>&lt;chr&gt;</th><th scope=col>&lt;chr&gt;</th><th scope=col>&lt;chr&gt;</th><th scope=col>&lt;chr&gt;</th><th scope=col>&lt;chr&gt;</th><th scope=col>&lt;chr&gt;</th><th scope=col>&lt;chr&gt;</th><th scope=col>&lt;dbl&gt;</th><th scope=col>&lt;chr&gt;</th><th scope=col>&lt;dbl&gt;</th></tr>\n",
              "</thead>\n",
              "<tbody>\n",
              "\t<tr><th scope=row>1</th><td>Dec</td><td> 1.7247063</td><td>Wednesday</td><td>Honda </td><td>Urban</td><td>Tuesday  </td><td>Jan</td><td>-1.3521144</td><td>Female</td><td>Single </td><td>⋯</td><td>26 to 30</td><td>No </td><td>No </td><td>External</td><td>none       </td><td>1 year   </td><td>3 to 4   </td><td>-1.080042</td><td>Liability</td><td> 1.2062718</td></tr>\n",
              "\t<tr><th scope=row>2</th><td>Jan</td><td> 0.1681097</td><td>Wednesday</td><td>Honda </td><td>Urban</td><td>Monday   </td><td>Jan</td><td> 1.0323325</td><td>Male  </td><td>Single </td><td>⋯</td><td>31 to 35</td><td>Yes</td><td>No </td><td>External</td><td>none       </td><td>no change</td><td>1 vehicle</td><td>-1.080042</td><td>Collision</td><td> 1.3458895</td></tr>\n",
              "\t<tr><th scope=row>3</th><td>Oct</td><td> 1.7247063</td><td>Friday   </td><td>Honda </td><td>Urban</td><td>Thursday </td><td>Nov</td><td>-0.5572987</td><td>Male  </td><td>Married</td><td>⋯</td><td>41 to 50</td><td>No </td><td>No </td><td>External</td><td>none       </td><td>no change</td><td>1 vehicle</td><td>-1.080042</td><td>Collision</td><td> 1.8076213</td></tr>\n",
              "\t<tr><th scope=row>4</th><td>Jun</td><td>-0.6101885</td><td>Saturday </td><td>Toyota</td><td>Rural</td><td>Friday   </td><td>Jul</td><td>-1.3521144</td><td>Male  </td><td>Married</td><td>⋯</td><td>51 to 65</td><td>Yes</td><td>No </td><td>External</td><td>more than 5</td><td>no change</td><td>1 vehicle</td><td>-1.080042</td><td>Liability</td><td>-0.5699635</td></tr>\n",
              "\t<tr><th scope=row>5</th><td>Feb</td><td>-1.3884868</td><td>Saturday </td><td>Honda </td><td>Urban</td><td>Monday   </td><td>Feb</td><td> 0.2375169</td><td>Male  </td><td>Married</td><td>⋯</td><td>36 to 40</td><td>No </td><td>No </td><td>External</td><td>1 to 2     </td><td>no change</td><td>1 vehicle</td><td>-1.080042</td><td>Collision</td><td> 2.8001256</td></tr>\n",
              "\t<tr><th scope=row>6</th><td>Dec</td><td> 0.9464080</td><td>Saturday </td><td>Honda </td><td>Urban</td><td>Wednesday</td><td>Dec</td><td> 1.8271481</td><td>Male  </td><td>Single </td><td>⋯</td><td>31 to 35</td><td>No </td><td>Yes</td><td>External</td><td>3 to 5     </td><td>no change</td><td>1 vehicle</td><td>-1.080042</td><td>Collision</td><td> 1.2670590</td></tr>\n",
              "</tbody>\n",
              "</table>\n"
            ],
            "text/markdown": "\nA data.frame: 6 × 33\n\n| <!--/--> | Month &lt;chr&gt; | WeekOfMonth &lt;dbl&gt; | DayOfWeek &lt;chr&gt; | Make &lt;chr&gt; | AccidentArea &lt;chr&gt; | DayOfWeekClaimed &lt;chr&gt; | MonthClaimed &lt;chr&gt; | WeekOfMonthClaimed &lt;dbl&gt; | Sex &lt;chr&gt; | MaritalStatus &lt;chr&gt; | ⋯ ⋯ | AgeOfPolicyHolder &lt;chr&gt; | PoliceReportFiled &lt;chr&gt; | WitnessPresent &lt;chr&gt; | AgentType &lt;chr&gt; | NumberOfSuppliments &lt;chr&gt; | AddressChange_Claim &lt;chr&gt; | NumberOfCars &lt;chr&gt; | Year &lt;dbl&gt; | BasePolicy &lt;chr&gt; | ClaimSize &lt;dbl&gt; |\n|---|---|---|---|---|---|---|---|---|---|---|---|---|---|---|---|---|---|---|---|---|---|\n| 1 | Dec |  1.7247063 | Wednesday | Honda  | Urban | Tuesday   | Jan | -1.3521144 | Female | Single  | ⋯ | 26 to 30 | No  | No  | External | none        | 1 year    | 3 to 4    | -1.080042 | Liability |  1.2062718 |\n| 2 | Jan |  0.1681097 | Wednesday | Honda  | Urban | Monday    | Jan |  1.0323325 | Male   | Single  | ⋯ | 31 to 35 | Yes | No  | External | none        | no change | 1 vehicle | -1.080042 | Collision |  1.3458895 |\n| 3 | Oct |  1.7247063 | Friday    | Honda  | Urban | Thursday  | Nov | -0.5572987 | Male   | Married | ⋯ | 41 to 50 | No  | No  | External | none        | no change | 1 vehicle | -1.080042 | Collision |  1.8076213 |\n| 4 | Jun | -0.6101885 | Saturday  | Toyota | Rural | Friday    | Jul | -1.3521144 | Male   | Married | ⋯ | 51 to 65 | Yes | No  | External | more than 5 | no change | 1 vehicle | -1.080042 | Liability | -0.5699635 |\n| 5 | Feb | -1.3884868 | Saturday  | Honda  | Urban | Monday    | Feb |  0.2375169 | Male   | Married | ⋯ | 36 to 40 | No  | No  | External | 1 to 2      | no change | 1 vehicle | -1.080042 | Collision |  2.8001256 |\n| 6 | Dec |  0.9464080 | Saturday  | Honda  | Urban | Wednesday | Dec |  1.8271481 | Male   | Single  | ⋯ | 31 to 35 | No  | Yes | External | 3 to 5      | no change | 1 vehicle | -1.080042 | Collision |  1.2670590 |\n\n",
            "text/latex": "A data.frame: 6 × 33\n\\begin{tabular}{r|lllllllllllllllllllll}\n  & Month & WeekOfMonth & DayOfWeek & Make & AccidentArea & DayOfWeekClaimed & MonthClaimed & WeekOfMonthClaimed & Sex & MaritalStatus & ⋯ & AgeOfPolicyHolder & PoliceReportFiled & WitnessPresent & AgentType & NumberOfSuppliments & AddressChange\\_Claim & NumberOfCars & Year & BasePolicy & ClaimSize\\\\\n  & <chr> & <dbl> & <chr> & <chr> & <chr> & <chr> & <chr> & <dbl> & <chr> & <chr> & ⋯ & <chr> & <chr> & <chr> & <chr> & <chr> & <chr> & <chr> & <dbl> & <chr> & <dbl>\\\\\n\\hline\n\t1 & Dec &  1.7247063 & Wednesday & Honda  & Urban & Tuesday   & Jan & -1.3521144 & Female & Single  & ⋯ & 26 to 30 & No  & No  & External & none        & 1 year    & 3 to 4    & -1.080042 & Liability &  1.2062718\\\\\n\t2 & Jan &  0.1681097 & Wednesday & Honda  & Urban & Monday    & Jan &  1.0323325 & Male   & Single  & ⋯ & 31 to 35 & Yes & No  & External & none        & no change & 1 vehicle & -1.080042 & Collision &  1.3458895\\\\\n\t3 & Oct &  1.7247063 & Friday    & Honda  & Urban & Thursday  & Nov & -0.5572987 & Male   & Married & ⋯ & 41 to 50 & No  & No  & External & none        & no change & 1 vehicle & -1.080042 & Collision &  1.8076213\\\\\n\t4 & Jun & -0.6101885 & Saturday  & Toyota & Rural & Friday    & Jul & -1.3521144 & Male   & Married & ⋯ & 51 to 65 & Yes & No  & External & more than 5 & no change & 1 vehicle & -1.080042 & Liability & -0.5699635\\\\\n\t5 & Feb & -1.3884868 & Saturday  & Honda  & Urban & Monday    & Feb &  0.2375169 & Male   & Married & ⋯ & 36 to 40 & No  & No  & External & 1 to 2      & no change & 1 vehicle & -1.080042 & Collision &  2.8001256\\\\\n\t6 & Dec &  0.9464080 & Saturday  & Honda  & Urban & Wednesday & Dec &  1.8271481 & Male   & Single  & ⋯ & 31 to 35 & No  & Yes & External & 3 to 5      & no change & 1 vehicle & -1.080042 & Collision &  1.2670590\\\\\n\\end{tabular}\n",
            "text/plain": [
              "  Month WeekOfMonth DayOfWeek Make   AccidentArea DayOfWeekClaimed MonthClaimed\n",
              "1 Dec    1.7247063  Wednesday Honda  Urban        Tuesday          Jan         \n",
              "2 Jan    0.1681097  Wednesday Honda  Urban        Monday           Jan         \n",
              "3 Oct    1.7247063  Friday    Honda  Urban        Thursday         Nov         \n",
              "4 Jun   -0.6101885  Saturday  Toyota Rural        Friday           Jul         \n",
              "5 Feb   -1.3884868  Saturday  Honda  Urban        Monday           Feb         \n",
              "6 Dec    0.9464080  Saturday  Honda  Urban        Wednesday        Dec         \n",
              "  WeekOfMonthClaimed Sex    MaritalStatus ⋯ AgeOfPolicyHolder PoliceReportFiled\n",
              "1 -1.3521144         Female Single        ⋯ 26 to 30          No               \n",
              "2  1.0323325         Male   Single        ⋯ 31 to 35          Yes              \n",
              "3 -0.5572987         Male   Married       ⋯ 41 to 50          No               \n",
              "4 -1.3521144         Male   Married       ⋯ 51 to 65          Yes              \n",
              "5  0.2375169         Male   Married       ⋯ 36 to 40          No               \n",
              "6  1.8271481         Male   Single        ⋯ 31 to 35          No               \n",
              "  WitnessPresent AgentType NumberOfSuppliments AddressChange_Claim NumberOfCars\n",
              "1 No             External  none                1 year              3 to 4      \n",
              "2 No             External  none                no change           1 vehicle   \n",
              "3 No             External  none                no change           1 vehicle   \n",
              "4 No             External  more than 5         no change           1 vehicle   \n",
              "5 No             External  1 to 2              no change           1 vehicle   \n",
              "6 Yes            External  3 to 5              no change           1 vehicle   \n",
              "  Year      BasePolicy ClaimSize \n",
              "1 -1.080042 Liability   1.2062718\n",
              "2 -1.080042 Collision   1.3458895\n",
              "3 -1.080042 Collision   1.8076213\n",
              "4 -1.080042 Liability  -0.5699635\n",
              "5 -1.080042 Collision   2.8001256\n",
              "6 -1.080042 Collision   1.2670590"
            ]
          },
          "metadata": {}
        }
      ]
    },
    {
      "cell_type": "code",
      "source": [
        "sapply(transformed, function(x) sum(is.na(x)))"
      ],
      "metadata": {
        "colab": {
          "base_uri": "https://localhost:8080/",
          "height": 104
        },
        "id": "eq-LdrmPrCwd",
        "outputId": "01b26c87-6cd0-4018-d364-f12eaa9b62fa"
      },
      "execution_count": null,
      "outputs": [
        {
          "output_type": "display_data",
          "data": {
            "text/html": [
              "<style>\n",
              ".dl-inline {width: auto; margin:0; padding: 0}\n",
              ".dl-inline>dt, .dl-inline>dd {float: none; width: auto; display: inline-block}\n",
              ".dl-inline>dt::after {content: \":\\0020\"; padding-right: .5ex}\n",
              ".dl-inline>dt:not(:first-of-type) {padding-left: .5ex}\n",
              "</style><dl class=dl-inline><dt>Month</dt><dd>0</dd><dt>WeekOfMonth</dt><dd>0</dd><dt>DayOfWeek</dt><dd>0</dd><dt>Make</dt><dd>0</dd><dt>AccidentArea</dt><dd>0</dd><dt>DayOfWeekClaimed</dt><dd>0</dd><dt>MonthClaimed</dt><dd>0</dd><dt>WeekOfMonthClaimed</dt><dd>0</dd><dt>Sex</dt><dd>0</dd><dt>MaritalStatus</dt><dd>0</dd><dt>Age</dt><dd>0</dd><dt>Fault</dt><dd>0</dd><dt>PolicyType</dt><dd>0</dd><dt>VehicleCategory</dt><dd>0</dd><dt>VehiclePrice</dt><dd>0</dd><dt>FraudFound_P</dt><dd>0</dd><dt>RepNumber</dt><dd>0</dd><dt>Deductible</dt><dd>0</dd><dt>DriverRating</dt><dd>0</dd><dt>Days_Policy_Accident</dt><dd>0</dd><dt>Days_Policy_Claim</dt><dd>0</dd><dt>PastNumberOfClaims</dt><dd>0</dd><dt>AgeOfVehicle</dt><dd>0</dd><dt>AgeOfPolicyHolder</dt><dd>0</dd><dt>PoliceReportFiled</dt><dd>0</dd><dt>WitnessPresent</dt><dd>0</dd><dt>AgentType</dt><dd>0</dd><dt>NumberOfSuppliments</dt><dd>0</dd><dt>AddressChange_Claim</dt><dd>0</dd><dt>NumberOfCars</dt><dd>0</dd><dt>Year</dt><dd>0</dd><dt>BasePolicy</dt><dd>0</dd><dt>ClaimSize</dt><dd>0</dd></dl>\n"
            ],
            "text/markdown": "Month\n:   0WeekOfMonth\n:   0DayOfWeek\n:   0Make\n:   0AccidentArea\n:   0DayOfWeekClaimed\n:   0MonthClaimed\n:   0WeekOfMonthClaimed\n:   0Sex\n:   0MaritalStatus\n:   0Age\n:   0Fault\n:   0PolicyType\n:   0VehicleCategory\n:   0VehiclePrice\n:   0FraudFound_P\n:   0RepNumber\n:   0Deductible\n:   0DriverRating\n:   0Days_Policy_Accident\n:   0Days_Policy_Claim\n:   0PastNumberOfClaims\n:   0AgeOfVehicle\n:   0AgeOfPolicyHolder\n:   0PoliceReportFiled\n:   0WitnessPresent\n:   0AgentType\n:   0NumberOfSuppliments\n:   0AddressChange_Claim\n:   0NumberOfCars\n:   0Year\n:   0BasePolicy\n:   0ClaimSize\n:   0\n\n",
            "text/latex": "\\begin{description*}\n\\item[Month] 0\n\\item[WeekOfMonth] 0\n\\item[DayOfWeek] 0\n\\item[Make] 0\n\\item[AccidentArea] 0\n\\item[DayOfWeekClaimed] 0\n\\item[MonthClaimed] 0\n\\item[WeekOfMonthClaimed] 0\n\\item[Sex] 0\n\\item[MaritalStatus] 0\n\\item[Age] 0\n\\item[Fault] 0\n\\item[PolicyType] 0\n\\item[VehicleCategory] 0\n\\item[VehiclePrice] 0\n\\item[FraudFound\\textbackslash{}\\_P] 0\n\\item[RepNumber] 0\n\\item[Deductible] 0\n\\item[DriverRating] 0\n\\item[Days\\textbackslash{}\\_Policy\\textbackslash{}\\_Accident] 0\n\\item[Days\\textbackslash{}\\_Policy\\textbackslash{}\\_Claim] 0\n\\item[PastNumberOfClaims] 0\n\\item[AgeOfVehicle] 0\n\\item[AgeOfPolicyHolder] 0\n\\item[PoliceReportFiled] 0\n\\item[WitnessPresent] 0\n\\item[AgentType] 0\n\\item[NumberOfSuppliments] 0\n\\item[AddressChange\\textbackslash{}\\_Claim] 0\n\\item[NumberOfCars] 0\n\\item[Year] 0\n\\item[BasePolicy] 0\n\\item[ClaimSize] 0\n\\end{description*}\n",
            "text/plain": [
              "               Month          WeekOfMonth            DayOfWeek \n",
              "                   0                    0                    0 \n",
              "                Make         AccidentArea     DayOfWeekClaimed \n",
              "                   0                    0                    0 \n",
              "        MonthClaimed   WeekOfMonthClaimed                  Sex \n",
              "                   0                    0                    0 \n",
              "       MaritalStatus                  Age                Fault \n",
              "                   0                    0                    0 \n",
              "          PolicyType      VehicleCategory         VehiclePrice \n",
              "                   0                    0                    0 \n",
              "        FraudFound_P            RepNumber           Deductible \n",
              "                   0                    0                    0 \n",
              "        DriverRating Days_Policy_Accident    Days_Policy_Claim \n",
              "                   0                    0                    0 \n",
              "  PastNumberOfClaims         AgeOfVehicle    AgeOfPolicyHolder \n",
              "                   0                    0                    0 \n",
              "   PoliceReportFiled       WitnessPresent            AgentType \n",
              "                   0                    0                    0 \n",
              " NumberOfSuppliments  AddressChange_Claim         NumberOfCars \n",
              "                   0                    0                    0 \n",
              "                Year           BasePolicy            ClaimSize \n",
              "                   0                    0                    0 "
            ]
          },
          "metadata": {}
        }
      ]
    },
    {
      "cell_type": "markdown",
      "source": [
        "# 2.5 Codificación de Datos Categóricos"
      ],
      "metadata": {
        "id": "HjawHkH1rkPR"
      }
    },
    {
      "cell_type": "code",
      "source": [
        "# Convertimos a factor las variables categóricas ordinales y nominales\n",
        "transformed$FraudFound_P <- factor(transformed$FraudFound_P)\n",
        "transformed$Month <- as.numeric(factor(transformed$Month,\n",
        "                                      levels = c('Jan', 'Feb', 'Mar', 'Apr', 'May', 'Jun', 'Jul', 'Aug', 'Sep', 'Oct', 'Nov', 'Dec')))\n",
        "transformed$DayOfWeek <- as.numeric(factor(transformed$DayOfWeek,\n",
        "                                          levels = c('Monday', 'Tuesday', 'Wednesday', 'Thursday', 'Friday', 'Saturday', 'Sunday')))\n",
        "transformed$Make <- as.numeric(factor(transformed$Make,\n",
        "                                      levels = c('Accura', 'BMW', 'Chevrolet', 'Dodge', 'Ferrari', 'Ford', 'Honda', 'Jaguar', 'Lexus', 'Mazda', 'Mecedes', 'Mercury', 'Nisson', 'Pontiac', 'Porche', 'Saab', 'Saturn', 'Toyota', 'VW')))\n",
        "transformed$AccidentArea <- as.numeric(factor(transformed$AccidentArea,\n",
        "                                              levels = c('Rural', 'Urban')))\n",
        "transformed$DayOfWeekClaimed <- as.numeric(factor(transformed$DayOfWeekClaimed,\n",
        "                                                  levels = c('Monday', 'Tuesday', 'Wednesday', 'Thursday', 'Friday', 'Saturday', 'Sunday')))\n",
        "transformed$MonthClaimed <- as.numeric(factor(transformed$MonthClaimed,\n",
        "                                              levels = c('Jan', 'Feb', 'Mar', 'Apr', 'May', 'Jun', 'Jul', 'Aug', 'Sep', 'Oct', 'Nov', 'Dec')))\n",
        "transformed$Sex <- as.numeric(factor(transformed$Sex,\n",
        "                                    levels = c('Male', 'Female')))\n",
        "transformed$MaritalStatus <- as.numeric(factor(transformed$MaritalStatus,\n",
        "                                              levels = c('Single', 'Married', 'Widow', 'Divorced')))\n",
        "transformed$Fault <- as.numeric(factor(transformed$Fault,\n",
        "                                      levels = c('Policy Holder', 'Third Party')))\n",
        "transformed$PolicyType <- as.numeric(factor(transformed$PolicyType,\n",
        "                                            levels = c('Sport - Liability', 'Sport - Collision', 'Sedan - Liability', 'Sedan - All Perils', 'Sedan - Collision', 'Utility - Collision', 'Utility - Liability', 'Utility - All Perils', 'Sport - All Perils'))) \n",
        "transformed$VehicleCategory <- as.numeric(factor(transformed$VehicleCategory,\n",
        "                                                levels = c('Sport', 'Sedan', 'Utility')))\n",
        "transformed$VehiclePrice <- as.numeric(factor(transformed$VehiclePrice,\n",
        "                                              levels = c('less than 20000', '20000 to 29000', '30000 to 39000', '40000 to 59000', '60000 to 69000', 'more than 69000')))\n",
        "transformed$Days_Policy_Accident <- as.numeric(factor(transformed$Days_Policy_Accident,\n",
        "                                                      levels = c('none', '1 to 7', '8 to 15', '15 to 30', 'more than 30')))\n",
        "transformed$Days_Policy_Claim <- as.numeric(factor(transformed$Days_Policy_Claim,\n",
        "                                                  levels = c('none', '8 to 15', '15 to 30', 'more than 30')))\n",
        "transformed$PastNumberOfClaims <- as.numeric(factor(transformed$PastNumberOfClaims,\n",
        "                                                    levels = c('none', '1', '2 to 4', 'more than 4')))\n",
        "transformed$AgeOfVehicle <- as.numeric(factor(transformed$AgeOfVehicle,\n",
        "                                              levels = c('new', '2 years', '3 years', '4 years', '5 years', '6 years', '7 years', 'more than 7')))\n",
        "transformed$AgeOfPolicyHolder <- as.numeric(factor(transformed$AgeOfPolicyHolder,\n",
        "                                                  levels = c('16 to 17', '18 to 20', '21 to 25', '26 to 30', '31 to 35', '36 to 40', '41 to 50', '51 to 65', 'over 65')))\n",
        "transformed$PoliceReportFiled <- as.numeric(factor(transformed$PoliceReportFiled,\n",
        "                                                  levels = c('No', 'Yes')))\n",
        "transformed$WitnessPresent <- as.numeric(factor(transformed$WitnessPresent,\n",
        "                                                levels = c('No', 'Yes')))\n",
        "transformed$AgentType <- as.numeric(factor(transformed$AgentType,\n",
        "                                          levels = c('External', 'Internal')))\n",
        "transformed$NumberOfSuppliments <- as.numeric(factor(transformed$NumberOfSuppliments,\n",
        "                                                    levels = c('none', '1 to 2', '3 to 5', 'more than 5')))\n",
        "transformed$AddressChange_Claim <- as.numeric(factor(transformed$AddressChange_Claim,\n",
        "                                                    levels = c('no change', 'under 6 months', '1 year', '2 to 3 years', '4 to 8 years')))\n",
        "transformed$NumberOfCars <- as.numeric(factor(transformed$NumberOfCars,\n",
        "                                              levels = c('1 vehicle', '2 vehicles', '3 to 4', '5 to 8', 'more than 9')))\n",
        "transformed$BasePolicy <- as.numeric(factor(transformed$BasePolicy,\n",
        "                                            levels = c('Liability', 'Collision', 'All Perils')))\n",
        "\n",
        "str(transformed)"
      ],
      "metadata": {
        "colab": {
          "base_uri": "https://localhost:8080/"
        },
        "id": "07lTcZJArcKO",
        "outputId": "873004fe-7cde-4e0f-af45-26f19ae14bca"
      },
      "execution_count": null,
      "outputs": [
        {
          "output_type": "stream",
          "name": "stdout",
          "text": [
            "'data.frame':\t11565 obs. of  33 variables:\n",
            " $ Month               : num  12 1 10 6 2 12 3 3 1 1 ...\n",
            " $ WeekOfMonth         : num  1.725 0.168 1.725 -0.61 -1.388 ...\n",
            " $ DayOfWeek           : num  3 3 5 6 6 6 7 1 5 5 ...\n",
            " $ Make                : num  7 7 7 18 7 7 10 7 6 7 ...\n",
            " $ AccidentArea        : num  2 2 2 1 2 2 2 2 2 1 ...\n",
            " $ DayOfWeekClaimed    : num  2 1 4 5 1 3 3 1 5 3 ...\n",
            " $ MonthClaimed        : num  1 1 11 7 2 12 3 3 1 2 ...\n",
            " $ WeekOfMonthClaimed  : num  -1.352 1.032 -0.557 -1.352 0.238 ...\n",
            " $ Sex                 : num  2 1 1 1 1 1 1 1 1 1 ...\n",
            " $ MaritalStatus       : num  1 1 2 2 2 1 1 2 2 1 ...\n",
            " $ Age                 : num  -1.603 -0.55 0.503 1.961 -0.388 ...\n",
            " $ Fault               : num  1 1 1 2 2 1 1 1 1 2 ...\n",
            " $ PolicyType          : num  1 2 2 3 2 2 4 3 3 5 ...\n",
            " $ VehicleCategory     : num  1 1 1 1 1 1 2 1 1 2 ...\n",
            " $ VehiclePrice        : num  6 6 6 2 6 6 6 2 6 6 ...\n",
            " $ FraudFound_P        : Factor w/ 2 levels \"0\",\"1\": 1 1 1 1 1 1 1 1 1 1 ...\n",
            " $ RepNumber           : num  0.764 1.414 -0.318 -0.968 1.197 ...\n",
            " $ Deductible          : num  -2.48 -0.176 -0.176 -0.176 -0.176 ...\n",
            " $ DriverRating        : num  -1.336 1.347 0.453 -0.441 -1.336 ...\n",
            " $ Days_Policy_Accident: num  5 5 5 5 5 5 5 5 5 5 ...\n",
            " $ Days_Policy_Claim   : num  4 4 4 4 4 4 4 4 4 4 ...\n",
            " $ PastNumberOfClaims  : num  1 1 2 2 2 1 1 3 2 1 ...\n",
            " $ AgeOfVehicle        : num  3 6 7 8 7 6 8 8 7 1 ...\n",
            " $ AgeOfPolicyHolder   : num  4 5 7 8 6 5 9 7 5 1 ...\n",
            " $ PoliceReportFiled   : num  1 2 1 2 1 1 1 1 1 1 ...\n",
            " $ WitnessPresent      : num  1 1 1 1 1 2 1 1 1 1 ...\n",
            " $ AgentType           : num  1 1 1 1 1 1 1 1 1 1 ...\n",
            " $ NumberOfSuppliments : num  1 1 1 4 2 3 1 1 1 1 ...\n",
            " $ AddressChange_Claim : num  3 1 1 1 1 1 1 1 1 1 ...\n",
            " $ NumberOfCars        : num  3 1 1 1 1 1 1 1 1 1 ...\n",
            " $ Year                : num  -1.08 -1.08 -1.08 -1.08 -1.08 ...\n",
            " $ BasePolicy          : num  1 2 2 1 2 2 3 1 1 2 ...\n",
            " $ ClaimSize           : num  1.21 1.35 1.81 -0.57 2.8 ...\n"
          ]
        }
      ]
    },
    {
      "cell_type": "code",
      "source": [
        "sapply(transformed, function(x) sum(is.na(x)))"
      ],
      "metadata": {
        "colab": {
          "base_uri": "https://localhost:8080/",
          "height": 104
        },
        "id": "hL4Zt1R4rlxy",
        "outputId": "2dfec1df-d58a-4fa9-a809-6432ec05fe4b"
      },
      "execution_count": null,
      "outputs": [
        {
          "output_type": "display_data",
          "data": {
            "text/html": [
              "<style>\n",
              ".dl-inline {width: auto; margin:0; padding: 0}\n",
              ".dl-inline>dt, .dl-inline>dd {float: none; width: auto; display: inline-block}\n",
              ".dl-inline>dt::after {content: \":\\0020\"; padding-right: .5ex}\n",
              ".dl-inline>dt:not(:first-of-type) {padding-left: .5ex}\n",
              "</style><dl class=dl-inline><dt>Month</dt><dd>0</dd><dt>WeekOfMonth</dt><dd>0</dd><dt>DayOfWeek</dt><dd>0</dd><dt>Make</dt><dd>0</dd><dt>AccidentArea</dt><dd>0</dd><dt>DayOfWeekClaimed</dt><dd>1</dd><dt>MonthClaimed</dt><dd>1</dd><dt>WeekOfMonthClaimed</dt><dd>0</dd><dt>Sex</dt><dd>0</dd><dt>MaritalStatus</dt><dd>0</dd><dt>Age</dt><dd>0</dd><dt>Fault</dt><dd>0</dd><dt>PolicyType</dt><dd>0</dd><dt>VehicleCategory</dt><dd>0</dd><dt>VehiclePrice</dt><dd>0</dd><dt>FraudFound_P</dt><dd>0</dd><dt>RepNumber</dt><dd>0</dd><dt>Deductible</dt><dd>0</dd><dt>DriverRating</dt><dd>0</dd><dt>Days_Policy_Accident</dt><dd>0</dd><dt>Days_Policy_Claim</dt><dd>0</dd><dt>PastNumberOfClaims</dt><dd>0</dd><dt>AgeOfVehicle</dt><dd>0</dd><dt>AgeOfPolicyHolder</dt><dd>0</dd><dt>PoliceReportFiled</dt><dd>0</dd><dt>WitnessPresent</dt><dd>0</dd><dt>AgentType</dt><dd>0</dd><dt>NumberOfSuppliments</dt><dd>0</dd><dt>AddressChange_Claim</dt><dd>0</dd><dt>NumberOfCars</dt><dd>1</dd><dt>Year</dt><dd>0</dd><dt>BasePolicy</dt><dd>0</dd><dt>ClaimSize</dt><dd>0</dd></dl>\n"
            ],
            "text/markdown": "Month\n:   0WeekOfMonth\n:   0DayOfWeek\n:   0Make\n:   0AccidentArea\n:   0DayOfWeekClaimed\n:   1MonthClaimed\n:   1WeekOfMonthClaimed\n:   0Sex\n:   0MaritalStatus\n:   0Age\n:   0Fault\n:   0PolicyType\n:   0VehicleCategory\n:   0VehiclePrice\n:   0FraudFound_P\n:   0RepNumber\n:   0Deductible\n:   0DriverRating\n:   0Days_Policy_Accident\n:   0Days_Policy_Claim\n:   0PastNumberOfClaims\n:   0AgeOfVehicle\n:   0AgeOfPolicyHolder\n:   0PoliceReportFiled\n:   0WitnessPresent\n:   0AgentType\n:   0NumberOfSuppliments\n:   0AddressChange_Claim\n:   0NumberOfCars\n:   1Year\n:   0BasePolicy\n:   0ClaimSize\n:   0\n\n",
            "text/latex": "\\begin{description*}\n\\item[Month] 0\n\\item[WeekOfMonth] 0\n\\item[DayOfWeek] 0\n\\item[Make] 0\n\\item[AccidentArea] 0\n\\item[DayOfWeekClaimed] 1\n\\item[MonthClaimed] 1\n\\item[WeekOfMonthClaimed] 0\n\\item[Sex] 0\n\\item[MaritalStatus] 0\n\\item[Age] 0\n\\item[Fault] 0\n\\item[PolicyType] 0\n\\item[VehicleCategory] 0\n\\item[VehiclePrice] 0\n\\item[FraudFound\\textbackslash{}\\_P] 0\n\\item[RepNumber] 0\n\\item[Deductible] 0\n\\item[DriverRating] 0\n\\item[Days\\textbackslash{}\\_Policy\\textbackslash{}\\_Accident] 0\n\\item[Days\\textbackslash{}\\_Policy\\textbackslash{}\\_Claim] 0\n\\item[PastNumberOfClaims] 0\n\\item[AgeOfVehicle] 0\n\\item[AgeOfPolicyHolder] 0\n\\item[PoliceReportFiled] 0\n\\item[WitnessPresent] 0\n\\item[AgentType] 0\n\\item[NumberOfSuppliments] 0\n\\item[AddressChange\\textbackslash{}\\_Claim] 0\n\\item[NumberOfCars] 1\n\\item[Year] 0\n\\item[BasePolicy] 0\n\\item[ClaimSize] 0\n\\end{description*}\n",
            "text/plain": [
              "               Month          WeekOfMonth            DayOfWeek \n",
              "                   0                    0                    0 \n",
              "                Make         AccidentArea     DayOfWeekClaimed \n",
              "                   0                    0                    1 \n",
              "        MonthClaimed   WeekOfMonthClaimed                  Sex \n",
              "                   1                    0                    0 \n",
              "       MaritalStatus                  Age                Fault \n",
              "                   0                    0                    0 \n",
              "          PolicyType      VehicleCategory         VehiclePrice \n",
              "                   0                    0                    0 \n",
              "        FraudFound_P            RepNumber           Deductible \n",
              "                   0                    0                    0 \n",
              "        DriverRating Days_Policy_Accident    Days_Policy_Claim \n",
              "                   0                    0                    0 \n",
              "  PastNumberOfClaims         AgeOfVehicle    AgeOfPolicyHolder \n",
              "                   0                    0                    0 \n",
              "   PoliceReportFiled       WitnessPresent            AgentType \n",
              "                   0                    0                    0 \n",
              " NumberOfSuppliments  AddressChange_Claim         NumberOfCars \n",
              "                   0                    0                    1 \n",
              "                Year           BasePolicy            ClaimSize \n",
              "                   0                    0                    0 "
            ]
          },
          "metadata": {}
        }
      ]
    },
    {
      "cell_type": "markdown",
      "source": [
        "# 2.6 Sobremuestreo de los Datos"
      ],
      "metadata": {
        "id": "Pqqn02gUsG9n"
      }
    },
    {
      "cell_type": "code",
      "source": [
        "# Aplicamos sobremuestreo para balancear la clase usando SMOTE\n",
        "dataSMOTE <- smote(FraudFound_P~., data = transformed)\n",
        "dim(dataSMOTE)"
      ],
      "metadata": {
        "colab": {
          "base_uri": "https://localhost:8080/",
          "height": 34
        },
        "id": "jY1WzsRosBaF",
        "outputId": "9db4c718-f872-4f90-fcd1-4c89b92cc128"
      },
      "execution_count": null,
      "outputs": [
        {
          "output_type": "display_data",
          "data": {
            "text/html": [
              "<style>\n",
              ".list-inline {list-style: none; margin:0; padding: 0}\n",
              ".list-inline>li {display: inline-block}\n",
              ".list-inline>li:not(:last-child)::after {content: \"\\00b7\"; padding: 0 .5ex}\n",
              "</style>\n",
              "<ol class=list-inline><li>4795</li><li>33</li></ol>\n"
            ],
            "text/markdown": "1. 4795\n2. 33\n\n\n",
            "text/latex": "\\begin{enumerate*}\n\\item 4795\n\\item 33\n\\end{enumerate*}\n",
            "text/plain": [
              "[1] 4795   33"
            ]
          },
          "metadata": {}
        }
      ]
    },
    {
      "cell_type": "code",
      "source": [
        "y <- dataSMOTE$FraudFound_P\n",
        "cbind(Frecuencia = table(y), Porcentaje = prop.table(table(y))*100)"
      ],
      "metadata": {
        "colab": {
          "base_uri": "https://localhost:8080/",
          "height": 129
        },
        "id": "fdt2tWEKsPBU",
        "outputId": "5344860a-e082-42f9-946a-f9c5f4a23887"
      },
      "execution_count": null,
      "outputs": [
        {
          "output_type": "display_data",
          "data": {
            "text/html": [
              "<table class=\"dataframe\">\n",
              "<caption>A matrix: 2 × 2 of type dbl</caption>\n",
              "<thead>\n",
              "\t<tr><th></th><th scope=col>Frecuencia</th><th scope=col>Porcentaje</th></tr>\n",
              "</thead>\n",
              "<tbody>\n",
              "\t<tr><th scope=row>0</th><td>2740</td><td>57.14286</td></tr>\n",
              "\t<tr><th scope=row>1</th><td>2055</td><td>42.85714</td></tr>\n",
              "</tbody>\n",
              "</table>\n"
            ],
            "text/markdown": "\nA matrix: 2 × 2 of type dbl\n\n| <!--/--> | Frecuencia | Porcentaje |\n|---|---|---|\n| 0 | 2740 | 57.14286 |\n| 1 | 2055 | 42.85714 |\n\n",
            "text/latex": "A matrix: 2 × 2 of type dbl\n\\begin{tabular}{r|ll}\n  & Frecuencia & Porcentaje\\\\\n\\hline\n\t0 & 2740 & 57.14286\\\\\n\t1 & 2055 & 42.85714\\\\\n\\end{tabular}\n",
            "text/plain": [
              "  Frecuencia Porcentaje\n",
              "0 2740       57.14286  \n",
              "1 2055       42.85714  "
            ]
          },
          "metadata": {}
        }
      ]
    },
    {
      "cell_type": "code",
      "source": [
        "sapply(dataSMOTE, function(x) sum(is.na(x)))"
      ],
      "metadata": {
        "colab": {
          "base_uri": "https://localhost:8080/",
          "height": 104
        },
        "id": "ysuTjpy5XxOz",
        "outputId": "dc77364a-562d-4172-cebc-77137efdb897"
      },
      "execution_count": null,
      "outputs": [
        {
          "output_type": "display_data",
          "data": {
            "text/html": [
              "<style>\n",
              ".dl-inline {width: auto; margin:0; padding: 0}\n",
              ".dl-inline>dt, .dl-inline>dd {float: none; width: auto; display: inline-block}\n",
              ".dl-inline>dt::after {content: \":\\0020\"; padding-right: .5ex}\n",
              ".dl-inline>dt:not(:first-of-type) {padding-left: .5ex}\n",
              "</style><dl class=dl-inline><dt>Month</dt><dd>0</dd><dt>WeekOfMonth</dt><dd>0</dd><dt>DayOfWeek</dt><dd>0</dd><dt>Make</dt><dd>0</dd><dt>AccidentArea</dt><dd>0</dd><dt>DayOfWeekClaimed</dt><dd>0</dd><dt>MonthClaimed</dt><dd>0</dd><dt>WeekOfMonthClaimed</dt><dd>0</dd><dt>Sex</dt><dd>0</dd><dt>MaritalStatus</dt><dd>0</dd><dt>Age</dt><dd>0</dd><dt>Fault</dt><dd>0</dd><dt>PolicyType</dt><dd>0</dd><dt>VehicleCategory</dt><dd>0</dd><dt>VehiclePrice</dt><dd>0</dd><dt>FraudFound_P</dt><dd>0</dd><dt>RepNumber</dt><dd>0</dd><dt>Deductible</dt><dd>0</dd><dt>DriverRating</dt><dd>0</dd><dt>Days_Policy_Accident</dt><dd>0</dd><dt>Days_Policy_Claim</dt><dd>0</dd><dt>PastNumberOfClaims</dt><dd>0</dd><dt>AgeOfVehicle</dt><dd>0</dd><dt>AgeOfPolicyHolder</dt><dd>0</dd><dt>PoliceReportFiled</dt><dd>0</dd><dt>WitnessPresent</dt><dd>0</dd><dt>AgentType</dt><dd>0</dd><dt>NumberOfSuppliments</dt><dd>0</dd><dt>AddressChange_Claim</dt><dd>0</dd><dt>NumberOfCars</dt><dd>0</dd><dt>Year</dt><dd>0</dd><dt>BasePolicy</dt><dd>0</dd><dt>ClaimSize</dt><dd>0</dd></dl>\n"
            ],
            "text/markdown": "Month\n:   0WeekOfMonth\n:   0DayOfWeek\n:   0Make\n:   0AccidentArea\n:   0DayOfWeekClaimed\n:   0MonthClaimed\n:   0WeekOfMonthClaimed\n:   0Sex\n:   0MaritalStatus\n:   0Age\n:   0Fault\n:   0PolicyType\n:   0VehicleCategory\n:   0VehiclePrice\n:   0FraudFound_P\n:   0RepNumber\n:   0Deductible\n:   0DriverRating\n:   0Days_Policy_Accident\n:   0Days_Policy_Claim\n:   0PastNumberOfClaims\n:   0AgeOfVehicle\n:   0AgeOfPolicyHolder\n:   0PoliceReportFiled\n:   0WitnessPresent\n:   0AgentType\n:   0NumberOfSuppliments\n:   0AddressChange_Claim\n:   0NumberOfCars\n:   0Year\n:   0BasePolicy\n:   0ClaimSize\n:   0\n\n",
            "text/latex": "\\begin{description*}\n\\item[Month] 0\n\\item[WeekOfMonth] 0\n\\item[DayOfWeek] 0\n\\item[Make] 0\n\\item[AccidentArea] 0\n\\item[DayOfWeekClaimed] 0\n\\item[MonthClaimed] 0\n\\item[WeekOfMonthClaimed] 0\n\\item[Sex] 0\n\\item[MaritalStatus] 0\n\\item[Age] 0\n\\item[Fault] 0\n\\item[PolicyType] 0\n\\item[VehicleCategory] 0\n\\item[VehiclePrice] 0\n\\item[FraudFound\\textbackslash{}\\_P] 0\n\\item[RepNumber] 0\n\\item[Deductible] 0\n\\item[DriverRating] 0\n\\item[Days\\textbackslash{}\\_Policy\\textbackslash{}\\_Accident] 0\n\\item[Days\\textbackslash{}\\_Policy\\textbackslash{}\\_Claim] 0\n\\item[PastNumberOfClaims] 0\n\\item[AgeOfVehicle] 0\n\\item[AgeOfPolicyHolder] 0\n\\item[PoliceReportFiled] 0\n\\item[WitnessPresent] 0\n\\item[AgentType] 0\n\\item[NumberOfSuppliments] 0\n\\item[AddressChange\\textbackslash{}\\_Claim] 0\n\\item[NumberOfCars] 0\n\\item[Year] 0\n\\item[BasePolicy] 0\n\\item[ClaimSize] 0\n\\end{description*}\n",
            "text/plain": [
              "               Month          WeekOfMonth            DayOfWeek \n",
              "                   0                    0                    0 \n",
              "                Make         AccidentArea     DayOfWeekClaimed \n",
              "                   0                    0                    0 \n",
              "        MonthClaimed   WeekOfMonthClaimed                  Sex \n",
              "                   0                    0                    0 \n",
              "       MaritalStatus                  Age                Fault \n",
              "                   0                    0                    0 \n",
              "          PolicyType      VehicleCategory         VehiclePrice \n",
              "                   0                    0                    0 \n",
              "        FraudFound_P            RepNumber           Deductible \n",
              "                   0                    0                    0 \n",
              "        DriverRating Days_Policy_Accident    Days_Policy_Claim \n",
              "                   0                    0                    0 \n",
              "  PastNumberOfClaims         AgeOfVehicle    AgeOfPolicyHolder \n",
              "                   0                    0                    0 \n",
              "   PoliceReportFiled       WitnessPresent            AgentType \n",
              "                   0                    0                    0 \n",
              " NumberOfSuppliments  AddressChange_Claim         NumberOfCars \n",
              "                   0                    0                    0 \n",
              "                Year           BasePolicy            ClaimSize \n",
              "                   0                    0                    0 "
            ]
          },
          "metadata": {}
        }
      ]
    },
    {
      "cell_type": "markdown",
      "source": [
        "# 2.7 Remuestreo de los Datos"
      ],
      "metadata": {
        "id": "SOq0SD5_r3Bj"
      }
    },
    {
      "cell_type": "code",
      "source": [
        "# Dividimos los datos en entrenamiento y prueba\n",
        "trainIndex <- createDataPartition(dataSMOTE$FraudFound_P, p = 0.8, list = FALSE)\n",
        "dataTrain <- dataSMOTE[trainIndex, ]\n",
        "dim(dataTrain)\n",
        "dataTest <- dataSMOTE[-trainIndex, ]\n",
        "dim(dataTest)"
      ],
      "metadata": {
        "colab": {
          "base_uri": "https://localhost:8080/",
          "height": 52
        },
        "id": "fUnEStzir2DJ",
        "outputId": "ade33ed9-4489-493f-f489-f824f4c8b72a"
      },
      "execution_count": null,
      "outputs": [
        {
          "output_type": "display_data",
          "data": {
            "text/html": [
              "<style>\n",
              ".list-inline {list-style: none; margin:0; padding: 0}\n",
              ".list-inline>li {display: inline-block}\n",
              ".list-inline>li:not(:last-child)::after {content: \"\\00b7\"; padding: 0 .5ex}\n",
              "</style>\n",
              "<ol class=list-inline><li>3836</li><li>33</li></ol>\n"
            ],
            "text/markdown": "1. 3836\n2. 33\n\n\n",
            "text/latex": "\\begin{enumerate*}\n\\item 3836\n\\item 33\n\\end{enumerate*}\n",
            "text/plain": [
              "[1] 3836   33"
            ]
          },
          "metadata": {}
        },
        {
          "output_type": "display_data",
          "data": {
            "text/html": [
              "<style>\n",
              ".list-inline {list-style: none; margin:0; padding: 0}\n",
              ".list-inline>li {display: inline-block}\n",
              ".list-inline>li:not(:last-child)::after {content: \"\\00b7\"; padding: 0 .5ex}\n",
              "</style>\n",
              "<ol class=list-inline><li>959</li><li>33</li></ol>\n"
            ],
            "text/markdown": "1. 959\n2. 33\n\n\n",
            "text/latex": "\\begin{enumerate*}\n\\item 959\n\\item 33\n\\end{enumerate*}\n",
            "text/plain": [
              "[1] 959  33"
            ]
          },
          "metadata": {}
        }
      ]
    },
    {
      "cell_type": "code",
      "source": [
        "# Dividimos los datos en X y y\n",
        "X_train <- select(dataTrain, -FraudFound_P)\n",
        "X_train <- as.matrix(X_train)\n",
        "dim(X_train)\n",
        "y_train <- as.numeric(as.matrix(dataTrain$FraudFound_P))\n",
        "length(y_train)\n",
        "\n",
        "X_test <- select(dataTest, -FraudFound_P)\n",
        "X_test <- as.matrix(X_test)\n",
        "dim(X_test)\n",
        "y_test <- as.numeric(as.matrix(dataTest$FraudFound_P))\n",
        "length(y_test)"
      ],
      "metadata": {
        "colab": {
          "base_uri": "https://localhost:8080/",
          "height": 86
        },
        "id": "VNZA-XduuSGF",
        "outputId": "078dd051-4a6e-482b-bf06-269842ee3db1"
      },
      "execution_count": null,
      "outputs": [
        {
          "output_type": "display_data",
          "data": {
            "text/html": [
              "<style>\n",
              ".list-inline {list-style: none; margin:0; padding: 0}\n",
              ".list-inline>li {display: inline-block}\n",
              ".list-inline>li:not(:last-child)::after {content: \"\\00b7\"; padding: 0 .5ex}\n",
              "</style>\n",
              "<ol class=list-inline><li>3836</li><li>32</li></ol>\n"
            ],
            "text/markdown": "1. 3836\n2. 32\n\n\n",
            "text/latex": "\\begin{enumerate*}\n\\item 3836\n\\item 32\n\\end{enumerate*}\n",
            "text/plain": [
              "[1] 3836   32"
            ]
          },
          "metadata": {}
        },
        {
          "output_type": "display_data",
          "data": {
            "text/html": [
              "3836"
            ],
            "text/markdown": "3836",
            "text/latex": "3836",
            "text/plain": [
              "[1] 3836"
            ]
          },
          "metadata": {}
        },
        {
          "output_type": "display_data",
          "data": {
            "text/html": [
              "<style>\n",
              ".list-inline {list-style: none; margin:0; padding: 0}\n",
              ".list-inline>li {display: inline-block}\n",
              ".list-inline>li:not(:last-child)::after {content: \"\\00b7\"; padding: 0 .5ex}\n",
              "</style>\n",
              "<ol class=list-inline><li>959</li><li>32</li></ol>\n"
            ],
            "text/markdown": "1. 959\n2. 32\n\n\n",
            "text/latex": "\\begin{enumerate*}\n\\item 959\n\\item 32\n\\end{enumerate*}\n",
            "text/plain": [
              "[1] 959  32"
            ]
          },
          "metadata": {}
        },
        {
          "output_type": "display_data",
          "data": {
            "text/html": [
              "959"
            ],
            "text/markdown": "959",
            "text/latex": "959",
            "text/plain": [
              "[1] 959"
            ]
          },
          "metadata": {}
        }
      ]
    },
    {
      "cell_type": "markdown",
      "source": [
        "# 3 Modelado"
      ],
      "metadata": {
        "id": "vjdMDu0SulrU"
      }
    },
    {
      "cell_type": "markdown",
      "source": [
        "# 3.1 Red Secuencial"
      ],
      "metadata": {
        "id": "ST4GbtFIuqVw"
      }
    },
    {
      "cell_type": "code",
      "source": [
        "# Definimos el modelo de capas con Keras relu - sigmoid (clasificación binaria)\n",
        "model <- keras_model_sequential() %>%\n",
        "  layer_dense(units = 16, activation = \"relu\", input_shape = ncol(X_train)) %>%\n",
        "  layer_dense(units = 8, activation = \"relu\") %>%\n",
        "  layer_dense(units = 1, activation = \"sigmoid\")"
      ],
      "metadata": {
        "id": "w62x8NE9ubtg"
      },
      "execution_count": null,
      "outputs": []
    },
    {
      "cell_type": "code",
      "source": [
        "# Compilamos el modelo Keras binary_crossentropy (clasificación binaria)\n",
        "model %>% compile(\n",
        "  optimizer = \"adam\",\n",
        "  loss = \"binary_crossentropy\",\n",
        "  metrics = c(\"accuracy\")\n",
        ")"
      ],
      "metadata": {
        "id": "N0K46M1BunZK"
      },
      "execution_count": null,
      "outputs": []
    },
    {
      "cell_type": "code",
      "source": [
        "# Ajustamos el modelo Keras en los datos de entrenamiento y validamos con los datos de prueba\n",
        "history <- model %>% fit(X_train, y_train, epochs = 150, batch_size = 16, validation_data = list(X_test, y_test))\n",
        "history"
      ],
      "metadata": {
        "id": "EKDcy4YLyRd4",
        "colab": {
          "base_uri": "https://localhost:8080/",
          "height": 121
        },
        "outputId": "68da5027-5dae-4e0d-9027-2a0ae20d2d27"
      },
      "execution_count": null,
      "outputs": [
        {
          "output_type": "display_data",
          "data": {
            "text/plain": [
              "\n",
              "Final epoch (plot to see history):\n",
              "        loss: 0.3414\n",
              "    accuracy: 0.8425\n",
              "    val_loss: 0.418\n",
              "val_accuracy: 0.806 "
            ]
          },
          "metadata": {}
        }
      ]
    },
    {
      "cell_type": "code",
      "source": [
        "plot(history)"
      ],
      "metadata": {
        "colab": {
          "base_uri": "https://localhost:8080/",
          "height": 437
        },
        "id": "e67CpcikG0OT",
        "outputId": "095b3d24-5d4e-4fdc-8454-512436ad839e"
      },
      "execution_count": null,
      "outputs": [
        {
          "output_type": "display_data",
          "data": {
            "text/plain": [
              "plot without title"
            ],
            "image/png": "[encoded data removed]"
          },
          "metadata": {
            "image/png": {
              "width": 420,
              "height": 420
            }
          }
        }
      ]
    },
    {
      "cell_type": "code",
      "source": [
        "# Evaluamos el modelo Keras de los estimadores\n",
        "metrics <- model %>% evaluate(X_train, y_train,)\n",
        "metrics"
      ],
      "metadata": {
        "colab": {
          "base_uri": "https://localhost:8080/",
          "height": 34
        },
        "id": "iLb5nu2RIvzD",
        "outputId": "39049982-540c-4074-8157-b9b83c1f59a9"
      },
      "execution_count": null,
      "outputs": [
        {
          "output_type": "display_data",
          "data": {
            "text/html": [
              "<style>\n",
              ".dl-inline {width: auto; margin:0; padding: 0}\n",
              ".dl-inline>dt, .dl-inline>dd {float: none; width: auto; display: inline-block}\n",
              ".dl-inline>dt::after {content: \":\\0020\"; padding-right: .5ex}\n",
              ".dl-inline>dt:not(:first-of-type) {padding-left: .5ex}\n",
              "</style><dl class=dl-inline><dt>loss</dt><dd>0.332939863204956</dd><dt>accuracy</dt><dd>0.851407706737518</dd></dl>\n"
            ],
            "text/markdown": "loss\n:   0.332939863204956accuracy\n:   0.851407706737518\n\n",
            "text/latex": "\\begin{description*}\n\\item[loss] 0.332939863204956\n\\item[accuracy] 0.851407706737518\n\\end{description*}\n",
            "text/plain": [
              "     loss  accuracy \n",
              "0.3329399 0.8514077 "
            ]
          },
          "metadata": {}
        }
      ]
    },
    {
      "cell_type": "code",
      "source": [
        "# Hacemos predicciones sobre los datos de prueba\n",
        "y_pred <- model %>% predict(X_test)\n",
        "y_pred <- round(y_pred)\n",
        "head(y_pred)"
      ],
      "metadata": {
        "colab": {
          "base_uri": "https://localhost:8080/",
          "height": 309
        },
        "id": "c_i9qsN7H0HT",
        "outputId": "1c5bf46a-b334-4815-c159-6860fc95e4be"
      },
      "execution_count": null,
      "outputs": [
        {
          "output_type": "display_data",
          "data": {
            "text/html": [
              "<table class=\"dataframe\">\n",
              "<caption>A matrix: 6 × 1 of type dbl</caption>\n",
              "<tbody>\n",
              "\t<tr><td>0</td></tr>\n",
              "\t<tr><td>0</td></tr>\n",
              "\t<tr><td>0</td></tr>\n",
              "\t<tr><td>0</td></tr>\n",
              "\t<tr><td>1</td></tr>\n",
              "\t<tr><td>0</td></tr>\n",
              "</tbody>\n",
              "</table>\n"
            ],
            "text/markdown": "\nA matrix: 6 × 1 of type dbl\n\n| 0 |\n| 0 |\n| 0 |\n| 0 |\n| 1 |\n| 0 |\n\n",
            "text/latex": "A matrix: 6 × 1 of type dbl\n\\begin{tabular}{l}\n\t 0\\\\\n\t 0\\\\\n\t 0\\\\\n\t 0\\\\\n\t 1\\\\\n\t 0\\\\\n\\end{tabular}\n",
            "text/plain": [
              "     [,1]\n",
              "[1,] 0   \n",
              "[2,] 0   \n",
              "[3,] 0   \n",
              "[4,] 0   \n",
              "[5,] 1   \n",
              "[6,] 0   "
            ]
          },
          "metadata": {}
        }
      ]
    },
    {
      "cell_type": "markdown",
      "source": [
        "# 3.2 Evaluación del Modelo"
      ],
      "metadata": {
        "id": "DSLMT4cRY8dA"
      }
    },
    {
      "cell_type": "code",
      "source": [
        "# Elaboramos la matriz de confusión de los predictores\n",
        "confusionMatrix(as.factor(y_test), as.factor(y_pred))"
      ],
      "metadata": {
        "colab": {
          "base_uri": "https://localhost:8080/",
          "height": 485
        },
        "id": "EipKiJPsO5tx",
        "outputId": "6c76cd2d-a98d-4907-ec0e-98127e3c01ba"
      },
      "execution_count": null,
      "outputs": [
        {
          "output_type": "display_data",
          "data": {
            "text/plain": [
              "Confusion Matrix and Statistics\n",
              "\n",
              "          Reference\n",
              "Prediction   0   1\n",
              "         0 427 121\n",
              "         1  65 346\n",
              "                                          \n",
              "               Accuracy : 0.806           \n",
              "                 95% CI : (0.7796, 0.8306)\n",
              "    No Information Rate : 0.513           \n",
              "    P-Value [Acc > NIR] : < 2.2e-16       \n",
              "                                          \n",
              "                  Kappa : 0.6106          \n",
              "                                          \n",
              " Mcnemar's Test P-Value : 5.512e-05       \n",
              "                                          \n",
              "            Sensitivity : 0.8679          \n",
              "            Specificity : 0.7409          \n",
              "         Pos Pred Value : 0.7792          \n",
              "         Neg Pred Value : 0.8418          \n",
              "             Prevalence : 0.5130          \n",
              "         Detection Rate : 0.4453          \n",
              "   Detection Prevalence : 0.5714          \n",
              "      Balanced Accuracy : 0.8044          \n",
              "                                          \n",
              "       'Positive' Class : 0               \n",
              "                                          "
            ]
          },
          "metadata": {}
        }
      ]
    }
  ]
}