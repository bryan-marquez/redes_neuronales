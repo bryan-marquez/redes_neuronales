{
  "nbformat": 4,
  "nbformat_minor": 0,
  "metadata": {
    "colab": {
      "provenance": [],
      "toc_visible": true,
      "authorship_tag": "ABX9TyPqPyamDjqrN09JS3KiykP0"
    },
    "kernelspec": {
      "name": "ir",
      "display_name": "R"
    },
    "language_info": {
      "name": "R"
    }
  },
  "cells": [
    {
      "cell_type": "markdown",
      "source": [
        "# Exportaciones / Regresión con Redes Neuronales en R"
      ],
      "metadata": {
        "id": "qobTYj1pisap"
      }
    },
    {
      "cell_type": "markdown",
      "source": [
        "# 1 Análisis Exploratorio de los Datos (EDA)"
      ],
      "metadata": {
        "id": "yNie8wzeixfJ"
      }
    },
    {
      "cell_type": "markdown",
      "source": [
        "# 1.1 Carga de Librerías"
      ],
      "metadata": {
        "id": "9v8WP3yHjRFE"
      }
    },
    {
      "cell_type": "code",
      "execution_count": null,
      "metadata": {
        "colab": {
          "base_uri": "https://localhost:8080/"
        },
        "id": "u7U3EvTDiQp6",
        "outputId": "a2410bb6-9d2e-498c-82e1-a8dc0bf95d5d"
      },
      "outputs": [
        {
          "output_type": "stream",
          "name": "stderr",
          "text": [
            "Installing package into ‘/usr/local/lib/R/site-library’\n",
            "(as ‘lib’ is unspecified)\n",
            "\n",
            "also installing the dependencies ‘Rcpp’, ‘RcppTOML’, ‘here’, ‘png’, ‘config’, ‘tfautograph’, ‘reticulate’, ‘tensorflow’, ‘tfruns’, ‘zeallot’\n",
            "\n",
            "\n"
          ]
        }
      ],
      "source": [
        "# Instalamos Keras y Tensorflow\n",
        "\n",
        "install.packages(\"keras\")"
      ]
    },
    {
      "cell_type": "code",
      "source": [
        "install.packages(\"caret\")"
      ],
      "metadata": {
        "colab": {
          "base_uri": "https://localhost:8080/"
        },
        "id": "luXfYUooitwg",
        "outputId": "b19c3e90-ec85-412f-b513-ba1a567b3afa"
      },
      "execution_count": null,
      "outputs": [
        {
          "output_type": "stream",
          "name": "stderr",
          "text": [
            "Installing package into ‘/usr/local/lib/R/site-library’\n",
            "(as ‘lib’ is unspecified)\n",
            "\n",
            "also installing the dependencies ‘listenv’, ‘parallelly’, ‘future’, ‘globals’, ‘future.apply’, ‘numDeriv’, ‘progressr’, ‘SQUAREM’, ‘lava’, ‘prodlim’, ‘proxy’, ‘iterators’, ‘gower’, ‘hardhat’, ‘ipred’, ‘timeDate’, ‘e1071’, ‘foreach’, ‘ModelMetrics’, ‘plyr’, ‘pROC’, ‘recipes’, ‘reshape2’\n",
            "\n",
            "\n"
          ]
        }
      ]
    },
    {
      "cell_type": "code",
      "source": [
        "install.packages(\"RANN\")"
      ],
      "metadata": {
        "colab": {
          "base_uri": "https://localhost:8080/"
        },
        "id": "vFeLV76ijyIw",
        "outputId": "551a9685-44bc-473a-c8a2-555d66fcd27d"
      },
      "execution_count": null,
      "outputs": [
        {
          "output_type": "stream",
          "name": "stderr",
          "text": [
            "Installing package into ‘/usr/local/lib/R/site-library’\n",
            "(as ‘lib’ is unspecified)\n",
            "\n"
          ]
        }
      ]
    },
    {
      "cell_type": "code",
      "source": [
        "install.packages(\"performanceEstimation\")"
      ],
      "metadata": {
        "colab": {
          "base_uri": "https://localhost:8080/"
        },
        "id": "OeC5IHJnkxnx",
        "outputId": "f1718ef2-cef6-4eee-e9d7-7e529612331f"
      },
      "execution_count": null,
      "outputs": [
        {
          "output_type": "stream",
          "name": "stderr",
          "text": [
            "Installing package into ‘/usr/local/lib/R/site-library’\n",
            "(as ‘lib’ is unspecified)\n",
            "\n",
            "also installing the dependencies ‘BBmisc’, ‘checkmate’, ‘parallelMap’\n",
            "\n",
            "\n"
          ]
        }
      ]
    },
    {
      "cell_type": "code",
      "source": [
        "install.packages(\"Metrics\")"
      ],
      "metadata": {
        "colab": {
          "base_uri": "https://localhost:8080/"
        },
        "id": "h0mizcpD2h0q",
        "outputId": "24847aec-dba3-46f4-de5b-2974c328ef35"
      },
      "execution_count": null,
      "outputs": [
        {
          "output_type": "stream",
          "name": "stderr",
          "text": [
            "Installing package into ‘/usr/local/lib/R/site-library’\n",
            "(as ‘lib’ is unspecified)\n",
            "\n"
          ]
        }
      ]
    },
    {
      "cell_type": "code",
      "source": [
        "# Cargamos las liberías a utilizar\n",
        "\n",
        "library(dplyr)\n",
        "library(keras)\n",
        "library(caret)\n",
        "library(RANN)\n",
        "library(performanceEstimation)\n",
        "library(Metrics)"
      ],
      "metadata": {
        "colab": {
          "base_uri": "https://localhost:8080/"
        },
        "id": "V_M_mp-nkyiR",
        "outputId": "fc91deaa-99b9-41b6-aee6-84bde45d513a"
      },
      "execution_count": null,
      "outputs": [
        {
          "output_type": "stream",
          "name": "stderr",
          "text": [
            "\n",
            "Attaching package: ‘Metrics’\n",
            "\n",
            "\n",
            "The following objects are masked from ‘package:caret’:\n",
            "\n",
            "    precision, recall\n",
            "\n",
            "\n"
          ]
        }
      ]
    },
    {
      "cell_type": "markdown",
      "source": [
        "# 1.2 Carga de Datos"
      ],
      "metadata": {
        "id": "jjFfeTZ5lDTS"
      }
    },
    {
      "cell_type": "code",
      "source": [
        "# Cargamos los datos\n",
        "archivo <- \"/content/sample_data/Exportaciones.csv\"\n",
        "export <- read.csv(archivo)\n",
        "head(export)"
      ],
      "metadata": {
        "colab": {
          "base_uri": "https://localhost:8080/",
          "height": 286
        },
        "id": "HG6RmtxUk8QB",
        "outputId": "43cd44b4-c336-429d-e0cb-e8d4f9734ae7"
      },
      "execution_count": null,
      "outputs": [
        {
          "output_type": "display_data",
          "data": {
            "text/html": [
              "<table class=\"dataframe\">\n",
              "<caption>A data.frame: 6 × 10</caption>\n",
              "<thead>\n",
              "\t<tr><th></th><th scope=col>Id.Empresas</th><th scope=col>Id.Frutas</th><th scope=col>Id.Cliente</th><th scope=col>Cantidad</th><th scope=col>Anio</th><th scope=col>Ventas.EEUU</th><th scope=col>Ventas.China</th><th scope=col>Ventas.Espana</th><th scope=col>Ventas.Francia</th><th scope=col>Ventas.Canada</th></tr>\n",
              "\t<tr><th></th><th scope=col>&lt;int&gt;</th><th scope=col>&lt;int&gt;</th><th scope=col>&lt;int&gt;</th><th scope=col>&lt;int&gt;</th><th scope=col>&lt;int&gt;</th><th scope=col>&lt;int&gt;</th><th scope=col>&lt;int&gt;</th><th scope=col>&lt;int&gt;</th><th scope=col>&lt;int&gt;</th><th scope=col>&lt;int&gt;</th></tr>\n",
              "</thead>\n",
              "<tbody>\n",
              "\t<tr><th scope=row>1</th><td>1</td><td>6</td><td>1</td><td>1859</td><td>2017</td><td>2</td><td>3</td><td>1</td><td>3</td><td>4</td></tr>\n",
              "\t<tr><th scope=row>2</th><td>2</td><td>6</td><td>5</td><td>1564</td><td>2015</td><td>5</td><td>3</td><td>2</td><td>3</td><td>2</td></tr>\n",
              "\t<tr><th scope=row>3</th><td>4</td><td>5</td><td>5</td><td>1377</td><td>2014</td><td>5</td><td>3</td><td>2</td><td>2</td><td>1</td></tr>\n",
              "\t<tr><th scope=row>4</th><td>2</td><td>5</td><td>5</td><td>1546</td><td>2018</td><td>3</td><td>4</td><td>3</td><td>3</td><td>3</td></tr>\n",
              "\t<tr><th scope=row>5</th><td>7</td><td>2</td><td>1</td><td>1287</td><td>2019</td><td>5</td><td>3</td><td>1</td><td>2</td><td>5</td></tr>\n",
              "\t<tr><th scope=row>6</th><td>7</td><td>6</td><td>4</td><td>2077</td><td>2017</td><td>5</td><td>4</td><td>2</td><td>3</td><td>2</td></tr>\n",
              "</tbody>\n",
              "</table>\n"
            ],
            "text/markdown": "\nA data.frame: 6 × 10\n\n| <!--/--> | Id.Empresas &lt;int&gt; | Id.Frutas &lt;int&gt; | Id.Cliente &lt;int&gt; | Cantidad &lt;int&gt; | Anio &lt;int&gt; | Ventas.EEUU &lt;int&gt; | Ventas.China &lt;int&gt; | Ventas.Espana &lt;int&gt; | Ventas.Francia &lt;int&gt; | Ventas.Canada &lt;int&gt; |\n|---|---|---|---|---|---|---|---|---|---|---|\n| 1 | 1 | 6 | 1 | 1859 | 2017 | 2 | 3 | 1 | 3 | 4 |\n| 2 | 2 | 6 | 5 | 1564 | 2015 | 5 | 3 | 2 | 3 | 2 |\n| 3 | 4 | 5 | 5 | 1377 | 2014 | 5 | 3 | 2 | 2 | 1 |\n| 4 | 2 | 5 | 5 | 1546 | 2018 | 3 | 4 | 3 | 3 | 3 |\n| 5 | 7 | 2 | 1 | 1287 | 2019 | 5 | 3 | 1 | 2 | 5 |\n| 6 | 7 | 6 | 4 | 2077 | 2017 | 5 | 4 | 2 | 3 | 2 |\n\n",
            "text/latex": "A data.frame: 6 × 10\n\\begin{tabular}{r|llllllllll}\n  & Id.Empresas & Id.Frutas & Id.Cliente & Cantidad & Anio & Ventas.EEUU & Ventas.China & Ventas.Espana & Ventas.Francia & Ventas.Canada\\\\\n  & <int> & <int> & <int> & <int> & <int> & <int> & <int> & <int> & <int> & <int>\\\\\n\\hline\n\t1 & 1 & 6 & 1 & 1859 & 2017 & 2 & 3 & 1 & 3 & 4\\\\\n\t2 & 2 & 6 & 5 & 1564 & 2015 & 5 & 3 & 2 & 3 & 2\\\\\n\t3 & 4 & 5 & 5 & 1377 & 2014 & 5 & 3 & 2 & 2 & 1\\\\\n\t4 & 2 & 5 & 5 & 1546 & 2018 & 3 & 4 & 3 & 3 & 3\\\\\n\t5 & 7 & 2 & 1 & 1287 & 2019 & 5 & 3 & 1 & 2 & 5\\\\\n\t6 & 7 & 6 & 4 & 2077 & 2017 & 5 & 4 & 2 & 3 & 2\\\\\n\\end{tabular}\n",
            "text/plain": [
              "  Id.Empresas Id.Frutas Id.Cliente Cantidad Anio Ventas.EEUU Ventas.China\n",
              "1 1           6         1          1859     2017 2           3           \n",
              "2 2           6         5          1564     2015 5           3           \n",
              "3 4           5         5          1377     2014 5           3           \n",
              "4 2           5         5          1546     2018 3           4           \n",
              "5 7           2         1          1287     2019 5           3           \n",
              "6 7           6         4          2077     2017 5           4           \n",
              "  Ventas.Espana Ventas.Francia Ventas.Canada\n",
              "1 1             3              4            \n",
              "2 2             3              2            \n",
              "3 2             2              1            \n",
              "4 3             3              3            \n",
              "5 1             2              5            \n",
              "6 2             3              2            "
            ]
          },
          "metadata": {}
        }
      ]
    },
    {
      "cell_type": "code",
      "source": [
        "# Mostramos el número de filas y columnas\n",
        "cat(\"export:\", dim(export))"
      ],
      "metadata": {
        "colab": {
          "base_uri": "https://localhost:8080/"
        },
        "id": "64D3oasKlcG7",
        "outputId": "1a66f6a0-8f70-4607-b5b5-acccfcde90d2"
      },
      "execution_count": null,
      "outputs": [
        {
          "output_type": "stream",
          "name": "stdout",
          "text": [
            "export: 16600 10"
          ]
        }
      ]
    },
    {
      "cell_type": "markdown",
      "source": [
        "# 1.3 Estadística Descriptiva"
      ],
      "metadata": {
        "id": "1QCHdfmWmezz"
      }
    },
    {
      "cell_type": "code",
      "source": [
        "# Resumimos las variables numéricas y categóricas\n",
        "summary(export)"
      ],
      "metadata": {
        "colab": {
          "base_uri": "https://localhost:8080/",
          "height": 260
        },
        "id": "vzQu0-2bld0S",
        "outputId": "ecb65ff2-2c77-41e2-a2da-02c3153cebae"
      },
      "execution_count": null,
      "outputs": [
        {
          "output_type": "display_data",
          "data": {
            "text/plain": [
              "  Id.Empresas      Id.Frutas       Id.Cliente       Cantidad         Anio     \n",
              " Min.   :1.000   Min.   :1.000   Min.   :1.000   Min.   : 800   Min.   :2010  \n",
              " 1st Qu.:2.000   1st Qu.:2.000   1st Qu.:2.000   1st Qu.:1203   1st Qu.:2012  \n",
              " Median :4.000   Median :4.000   Median :3.000   Median :1607   Median :2015  \n",
              " Mean   :4.004   Mean   :4.007   Mean   :2.999   Mean   :1603   Mean   :2015  \n",
              " 3rd Qu.:6.000   3rd Qu.:6.000   3rd Qu.:4.000   3rd Qu.:1998   3rd Qu.:2018  \n",
              " Max.   :7.000   Max.   :7.000   Max.   :5.000   Max.   :2400   Max.   :2020  \n",
              "  Ventas.EEUU     Ventas.China   Ventas.Espana  Ventas.Francia Ventas.Canada \n",
              " Min.   :1.000   Min.   :3.000   Min.   :1.00   Min.   :2.0    Min.   :1.00  \n",
              " 1st Qu.:2.000   1st Qu.:3.000   1st Qu.:1.00   1st Qu.:2.0    1st Qu.:2.00  \n",
              " Median :3.000   Median :3.000   Median :2.00   Median :2.5    Median :3.00  \n",
              " Mean   :2.988   Mean   :3.496   Mean   :2.01   Mean   :2.5    Mean   :3.01  \n",
              " 3rd Qu.:4.000   3rd Qu.:4.000   3rd Qu.:3.00   3rd Qu.:3.0    3rd Qu.:4.00  \n",
              " Max.   :5.000   Max.   :4.000   Max.   :3.00   Max.   :3.0    Max.   :5.00  "
            ]
          },
          "metadata": {}
        }
      ]
    },
    {
      "cell_type": "code",
      "source": [
        "# Elaboramos la matriz de correlación\n",
        "corr <- cor(export)\n",
        "corr"
      ],
      "metadata": {
        "colab": {
          "base_uri": "https://localhost:8080/",
          "height": 380
        },
        "id": "Lt9H_JpXmnki",
        "outputId": "d1fe5d4e-8e9b-49e9-81fe-65f15ff9fd80"
      },
      "execution_count": null,
      "outputs": [
        {
          "output_type": "display_data",
          "data": {
            "text/html": [
              "<table class=\"dataframe\">\n",
              "<caption>A matrix: 10 × 10 of type dbl</caption>\n",
              "<thead>\n",
              "\t<tr><th></th><th scope=col>Id.Empresas</th><th scope=col>Id.Frutas</th><th scope=col>Id.Cliente</th><th scope=col>Cantidad</th><th scope=col>Anio</th><th scope=col>Ventas.EEUU</th><th scope=col>Ventas.China</th><th scope=col>Ventas.Espana</th><th scope=col>Ventas.Francia</th><th scope=col>Ventas.Canada</th></tr>\n",
              "</thead>\n",
              "<tbody>\n",
              "\t<tr><th scope=row>Id.Empresas</th><td> 1.0000000000</td><td>-0.001034282</td><td>-0.0001485438</td><td> 0.0121048240</td><td> 0.003843669</td><td>-0.000497581</td><td> 0.016560538</td><td> 0.0061414850</td><td>-0.005434150</td><td>-0.003037466</td></tr>\n",
              "\t<tr><th scope=row>Id.Frutas</th><td>-0.0010342824</td><td> 1.000000000</td><td> 0.0069634463</td><td> 0.0008077170</td><td>-0.001785081</td><td> 0.001332195</td><td> 0.002414262</td><td>-0.0026258150</td><td> 0.004916004</td><td>-0.007813777</td></tr>\n",
              "\t<tr><th scope=row>Id.Cliente</th><td>-0.0001485438</td><td> 0.006963446</td><td> 1.0000000000</td><td> 0.0180169272</td><td>-0.002626322</td><td> 0.004130544</td><td> 0.004601351</td><td>-0.0069802684</td><td>-0.005885987</td><td> 0.007197351</td></tr>\n",
              "\t<tr><th scope=row>Cantidad</th><td> 0.0121048240</td><td> 0.000807717</td><td> 0.0180169272</td><td> 1.0000000000</td><td> 0.002424409</td><td> 0.010221204</td><td>-0.008945558</td><td>-0.0003976284</td><td>-0.010379281</td><td> 0.007001573</td></tr>\n",
              "\t<tr><th scope=row>Anio</th><td> 0.0038436694</td><td>-0.001785081</td><td>-0.0026263220</td><td> 0.0024244090</td><td> 1.000000000</td><td>-0.007039207</td><td> 0.013356126</td><td> 0.0059325817</td><td> 0.000438332</td><td>-0.003364466</td></tr>\n",
              "\t<tr><th scope=row>Ventas.EEUU</th><td>-0.0004975810</td><td> 0.001332195</td><td> 0.0041305438</td><td> 0.0102212044</td><td>-0.007039207</td><td> 1.000000000</td><td> 0.005596788</td><td> 0.0181401511</td><td> 0.010019204</td><td>-0.010051154</td></tr>\n",
              "\t<tr><th scope=row>Ventas.China</th><td> 0.0165605383</td><td> 0.002414262</td><td> 0.0046013507</td><td>-0.0089455584</td><td> 0.013356126</td><td> 0.005596788</td><td> 1.000000000</td><td> 0.0096108812</td><td> 0.004939950</td><td>-0.001342652</td></tr>\n",
              "\t<tr><th scope=row>Ventas.Espana</th><td> 0.0061414850</td><td>-0.002625815</td><td>-0.0069802684</td><td>-0.0003976284</td><td> 0.005932582</td><td> 0.018140151</td><td> 0.009610881</td><td> 1.0000000000</td><td> 0.005376555</td><td>-0.006113935</td></tr>\n",
              "\t<tr><th scope=row>Ventas.Francia</th><td>-0.0054341495</td><td> 0.004916004</td><td>-0.0058859870</td><td>-0.0103792807</td><td> 0.000438332</td><td> 0.010019204</td><td> 0.004939950</td><td> 0.0053765547</td><td> 1.000000000</td><td> 0.015600765</td></tr>\n",
              "\t<tr><th scope=row>Ventas.Canada</th><td>-0.0030374665</td><td>-0.007813777</td><td> 0.0071973514</td><td> 0.0070015732</td><td>-0.003364466</td><td>-0.010051154</td><td>-0.001342652</td><td>-0.0061139350</td><td> 0.015600765</td><td> 1.000000000</td></tr>\n",
              "</tbody>\n",
              "</table>\n"
            ],
            "text/markdown": "\nA matrix: 10 × 10 of type dbl\n\n| <!--/--> | Id.Empresas | Id.Frutas | Id.Cliente | Cantidad | Anio | Ventas.EEUU | Ventas.China | Ventas.Espana | Ventas.Francia | Ventas.Canada |\n|---|---|---|---|---|---|---|---|---|---|---|\n| Id.Empresas |  1.0000000000 | -0.001034282 | -0.0001485438 |  0.0121048240 |  0.003843669 | -0.000497581 |  0.016560538 |  0.0061414850 | -0.005434150 | -0.003037466 |\n| Id.Frutas | -0.0010342824 |  1.000000000 |  0.0069634463 |  0.0008077170 | -0.001785081 |  0.001332195 |  0.002414262 | -0.0026258150 |  0.004916004 | -0.007813777 |\n| Id.Cliente | -0.0001485438 |  0.006963446 |  1.0000000000 |  0.0180169272 | -0.002626322 |  0.004130544 |  0.004601351 | -0.0069802684 | -0.005885987 |  0.007197351 |\n| Cantidad |  0.0121048240 |  0.000807717 |  0.0180169272 |  1.0000000000 |  0.002424409 |  0.010221204 | -0.008945558 | -0.0003976284 | -0.010379281 |  0.007001573 |\n| Anio |  0.0038436694 | -0.001785081 | -0.0026263220 |  0.0024244090 |  1.000000000 | -0.007039207 |  0.013356126 |  0.0059325817 |  0.000438332 | -0.003364466 |\n| Ventas.EEUU | -0.0004975810 |  0.001332195 |  0.0041305438 |  0.0102212044 | -0.007039207 |  1.000000000 |  0.005596788 |  0.0181401511 |  0.010019204 | -0.010051154 |\n| Ventas.China |  0.0165605383 |  0.002414262 |  0.0046013507 | -0.0089455584 |  0.013356126 |  0.005596788 |  1.000000000 |  0.0096108812 |  0.004939950 | -0.001342652 |\n| Ventas.Espana |  0.0061414850 | -0.002625815 | -0.0069802684 | -0.0003976284 |  0.005932582 |  0.018140151 |  0.009610881 |  1.0000000000 |  0.005376555 | -0.006113935 |\n| Ventas.Francia | -0.0054341495 |  0.004916004 | -0.0058859870 | -0.0103792807 |  0.000438332 |  0.010019204 |  0.004939950 |  0.0053765547 |  1.000000000 |  0.015600765 |\n| Ventas.Canada | -0.0030374665 | -0.007813777 |  0.0071973514 |  0.0070015732 | -0.003364466 | -0.010051154 | -0.001342652 | -0.0061139350 |  0.015600765 |  1.000000000 |\n\n",
            "text/latex": "A matrix: 10 × 10 of type dbl\n\\begin{tabular}{r|llllllllll}\n  & Id.Empresas & Id.Frutas & Id.Cliente & Cantidad & Anio & Ventas.EEUU & Ventas.China & Ventas.Espana & Ventas.Francia & Ventas.Canada\\\\\n\\hline\n\tId.Empresas &  1.0000000000 & -0.001034282 & -0.0001485438 &  0.0121048240 &  0.003843669 & -0.000497581 &  0.016560538 &  0.0061414850 & -0.005434150 & -0.003037466\\\\\n\tId.Frutas & -0.0010342824 &  1.000000000 &  0.0069634463 &  0.0008077170 & -0.001785081 &  0.001332195 &  0.002414262 & -0.0026258150 &  0.004916004 & -0.007813777\\\\\n\tId.Cliente & -0.0001485438 &  0.006963446 &  1.0000000000 &  0.0180169272 & -0.002626322 &  0.004130544 &  0.004601351 & -0.0069802684 & -0.005885987 &  0.007197351\\\\\n\tCantidad &  0.0121048240 &  0.000807717 &  0.0180169272 &  1.0000000000 &  0.002424409 &  0.010221204 & -0.008945558 & -0.0003976284 & -0.010379281 &  0.007001573\\\\\n\tAnio &  0.0038436694 & -0.001785081 & -0.0026263220 &  0.0024244090 &  1.000000000 & -0.007039207 &  0.013356126 &  0.0059325817 &  0.000438332 & -0.003364466\\\\\n\tVentas.EEUU & -0.0004975810 &  0.001332195 &  0.0041305438 &  0.0102212044 & -0.007039207 &  1.000000000 &  0.005596788 &  0.0181401511 &  0.010019204 & -0.010051154\\\\\n\tVentas.China &  0.0165605383 &  0.002414262 &  0.0046013507 & -0.0089455584 &  0.013356126 &  0.005596788 &  1.000000000 &  0.0096108812 &  0.004939950 & -0.001342652\\\\\n\tVentas.Espana &  0.0061414850 & -0.002625815 & -0.0069802684 & -0.0003976284 &  0.005932582 &  0.018140151 &  0.009610881 &  1.0000000000 &  0.005376555 & -0.006113935\\\\\n\tVentas.Francia & -0.0054341495 &  0.004916004 & -0.0058859870 & -0.0103792807 &  0.000438332 &  0.010019204 &  0.004939950 &  0.0053765547 &  1.000000000 &  0.015600765\\\\\n\tVentas.Canada & -0.0030374665 & -0.007813777 &  0.0071973514 &  0.0070015732 & -0.003364466 & -0.010051154 & -0.001342652 & -0.0061139350 &  0.015600765 &  1.000000000\\\\\n\\end{tabular}\n",
            "text/plain": [
              "               Id.Empresas   Id.Frutas    Id.Cliente    Cantidad     \n",
              "Id.Empresas     1.0000000000 -0.001034282 -0.0001485438  0.0121048240\n",
              "Id.Frutas      -0.0010342824  1.000000000  0.0069634463  0.0008077170\n",
              "Id.Cliente     -0.0001485438  0.006963446  1.0000000000  0.0180169272\n",
              "Cantidad        0.0121048240  0.000807717  0.0180169272  1.0000000000\n",
              "Anio            0.0038436694 -0.001785081 -0.0026263220  0.0024244090\n",
              "Ventas.EEUU    -0.0004975810  0.001332195  0.0041305438  0.0102212044\n",
              "Ventas.China    0.0165605383  0.002414262  0.0046013507 -0.0089455584\n",
              "Ventas.Espana   0.0061414850 -0.002625815 -0.0069802684 -0.0003976284\n",
              "Ventas.Francia -0.0054341495  0.004916004 -0.0058859870 -0.0103792807\n",
              "Ventas.Canada  -0.0030374665 -0.007813777  0.0071973514  0.0070015732\n",
              "               Anio         Ventas.EEUU  Ventas.China Ventas.Espana\n",
              "Id.Empresas     0.003843669 -0.000497581  0.016560538  0.0061414850\n",
              "Id.Frutas      -0.001785081  0.001332195  0.002414262 -0.0026258150\n",
              "Id.Cliente     -0.002626322  0.004130544  0.004601351 -0.0069802684\n",
              "Cantidad        0.002424409  0.010221204 -0.008945558 -0.0003976284\n",
              "Anio            1.000000000 -0.007039207  0.013356126  0.0059325817\n",
              "Ventas.EEUU    -0.007039207  1.000000000  0.005596788  0.0181401511\n",
              "Ventas.China    0.013356126  0.005596788  1.000000000  0.0096108812\n",
              "Ventas.Espana   0.005932582  0.018140151  0.009610881  1.0000000000\n",
              "Ventas.Francia  0.000438332  0.010019204  0.004939950  0.0053765547\n",
              "Ventas.Canada  -0.003364466 -0.010051154 -0.001342652 -0.0061139350\n",
              "               Ventas.Francia Ventas.Canada\n",
              "Id.Empresas    -0.005434150   -0.003037466 \n",
              "Id.Frutas       0.004916004   -0.007813777 \n",
              "Id.Cliente     -0.005885987    0.007197351 \n",
              "Cantidad       -0.010379281    0.007001573 \n",
              "Anio            0.000438332   -0.003364466 \n",
              "Ventas.EEUU     0.010019204   -0.010051154 \n",
              "Ventas.China    0.004939950   -0.001342652 \n",
              "Ventas.Espana   0.005376555   -0.006113935 \n",
              "Ventas.Francia  1.000000000    0.015600765 \n",
              "Ventas.Canada   0.015600765    1.000000000 "
            ]
          },
          "metadata": {}
        }
      ]
    },
    {
      "cell_type": "markdown",
      "source": [
        "# 2 Preparación de los Datos"
      ],
      "metadata": {
        "id": "MZeZsqoem5Mz"
      }
    },
    {
      "cell_type": "markdown",
      "source": [
        "# 2.1 División de los Datos"
      ],
      "metadata": {
        "id": "QWU-1iwvoRfX"
      }
    },
    {
      "cell_type": "code",
      "source": [
        "# Dividimos los datos\n",
        "X <- select(export, -Cantidad) # quitamos la variable objetivo\n",
        "cat(\"X:\", dim(X))"
      ],
      "metadata": {
        "colab": {
          "base_uri": "https://localhost:8080/"
        },
        "id": "ZHkMMLwPntlj",
        "outputId": "878d2865-c152-4a0f-d0dd-4eb23869a266"
      },
      "execution_count": null,
      "outputs": [
        {
          "output_type": "stream",
          "name": "stdout",
          "text": [
            "X: 16600 9"
          ]
        }
      ]
    },
    {
      "cell_type": "markdown",
      "source": [
        "# 2.2 Escalamiento de Variables"
      ],
      "metadata": {
        "id": "Yp3lyNqTprCO"
      }
    },
    {
      "cell_type": "code",
      "source": [
        "# Estandarizamos los datos númericos con \"center\" y \"scale\"\n",
        "imputer <- preProcess(X, method = c(\"center\", \"scale\"))\n",
        "imputer"
      ],
      "metadata": {
        "colab": {
          "base_uri": "https://localhost:8080/",
          "height": 121
        },
        "id": "bWDV6ijApqad",
        "outputId": "4139aa2a-7870-4637-dbb3-24b07e81f81a"
      },
      "execution_count": null,
      "outputs": [
        {
          "output_type": "display_data",
          "data": {
            "text/plain": [
              "Created from 16600 samples and 9 variables\n",
              "\n",
              "Pre-processing:\n",
              "  - centered (9)\n",
              "  - ignored (0)\n",
              "  - scaled (9)\n"
            ]
          },
          "metadata": {}
        }
      ]
    },
    {
      "cell_type": "code",
      "source": [
        "# Transformamos los valores nulos y transformamos los datos númericos a media = 0 y sd = 1\n",
        "transformed <- predict(imputer, export)\n",
        "head(transformed)"
      ],
      "metadata": {
        "colab": {
          "base_uri": "https://localhost:8080/",
          "height": 286
        },
        "id": "wvbGjnRap5qM",
        "outputId": "89b8733f-bc1b-44b8-ad99-0883196403a6"
      },
      "execution_count": null,
      "outputs": [
        {
          "output_type": "display_data",
          "data": {
            "text/html": [
              "<table class=\"dataframe\">\n",
              "<caption>A data.frame: 6 × 10</caption>\n",
              "<thead>\n",
              "\t<tr><th></th><th scope=col>Id.Empresas</th><th scope=col>Id.Frutas</th><th scope=col>Id.Cliente</th><th scope=col>Cantidad</th><th scope=col>Anio</th><th scope=col>Ventas.EEUU</th><th scope=col>Ventas.China</th><th scope=col>Ventas.Espana</th><th scope=col>Ventas.Francia</th><th scope=col>Ventas.Canada</th></tr>\n",
              "\t<tr><th></th><th scope=col>&lt;dbl&gt;</th><th scope=col>&lt;dbl&gt;</th><th scope=col>&lt;dbl&gt;</th><th scope=col>&lt;int&gt;</th><th scope=col>&lt;dbl&gt;</th><th scope=col>&lt;dbl&gt;</th><th scope=col>&lt;dbl&gt;</th><th scope=col>&lt;dbl&gt;</th><th scope=col>&lt;dbl&gt;</th><th scope=col>&lt;dbl&gt;</th></tr>\n",
              "</thead>\n",
              "<tbody>\n",
              "\t<tr><th scope=row>1</th><td>-1.505214080</td><td> 0.9976776</td><td>-1.4154093</td><td>1859</td><td> 0.624489990</td><td>-0.699319388</td><td>-0.9912133</td><td>-1.23502370</td><td> 0.9999699</td><td> 0.698782719</td></tr>\n",
              "\t<tr><th scope=row>2</th><td>-1.004079830</td><td> 0.9976776</td><td> 1.4166035</td><td>1564</td><td>-0.008213714</td><td> 1.423835250</td><td>-0.9912133</td><td>-0.01244672</td><td> 0.9999699</td><td>-0.712470172</td></tr>\n",
              "\t<tr><th scope=row>3</th><td>-0.001811329</td><td> 0.4970443</td><td> 1.4166035</td><td>1377</td><td>-0.324565566</td><td> 1.423835250</td><td>-0.9912133</td><td>-0.01244672</td><td>-0.9999699</td><td>-1.418096617</td></tr>\n",
              "\t<tr><th scope=row>4</th><td>-1.004079830</td><td> 0.4970443</td><td> 1.4166035</td><td>1546</td><td> 0.940841842</td><td> 0.008398825</td><td> 1.0088038</td><td> 1.21013027</td><td> 0.9999699</td><td>-0.006843726</td></tr>\n",
              "\t<tr><th scope=row>5</th><td> 1.501591423</td><td>-1.0048553</td><td>-1.4154093</td><td>1287</td><td> 1.257193694</td><td> 1.423835250</td><td>-0.9912133</td><td>-1.23502370</td><td>-0.9999699</td><td> 1.404409164</td></tr>\n",
              "\t<tr><th scope=row>6</th><td> 1.501591423</td><td> 0.9976776</td><td> 0.7086003</td><td>2077</td><td> 0.624489990</td><td> 1.423835250</td><td> 1.0088038</td><td>-0.01244672</td><td> 0.9999699</td><td>-0.712470172</td></tr>\n",
              "</tbody>\n",
              "</table>\n"
            ],
            "text/markdown": "\nA data.frame: 6 × 10\n\n| <!--/--> | Id.Empresas &lt;dbl&gt; | Id.Frutas &lt;dbl&gt; | Id.Cliente &lt;dbl&gt; | Cantidad &lt;int&gt; | Anio &lt;dbl&gt; | Ventas.EEUU &lt;dbl&gt; | Ventas.China &lt;dbl&gt; | Ventas.Espana &lt;dbl&gt; | Ventas.Francia &lt;dbl&gt; | Ventas.Canada &lt;dbl&gt; |\n|---|---|---|---|---|---|---|---|---|---|---|\n| 1 | -1.505214080 |  0.9976776 | -1.4154093 | 1859 |  0.624489990 | -0.699319388 | -0.9912133 | -1.23502370 |  0.9999699 |  0.698782719 |\n| 2 | -1.004079830 |  0.9976776 |  1.4166035 | 1564 | -0.008213714 |  1.423835250 | -0.9912133 | -0.01244672 |  0.9999699 | -0.712470172 |\n| 3 | -0.001811329 |  0.4970443 |  1.4166035 | 1377 | -0.324565566 |  1.423835250 | -0.9912133 | -0.01244672 | -0.9999699 | -1.418096617 |\n| 4 | -1.004079830 |  0.4970443 |  1.4166035 | 1546 |  0.940841842 |  0.008398825 |  1.0088038 |  1.21013027 |  0.9999699 | -0.006843726 |\n| 5 |  1.501591423 | -1.0048553 | -1.4154093 | 1287 |  1.257193694 |  1.423835250 | -0.9912133 | -1.23502370 | -0.9999699 |  1.404409164 |\n| 6 |  1.501591423 |  0.9976776 |  0.7086003 | 2077 |  0.624489990 |  1.423835250 |  1.0088038 | -0.01244672 |  0.9999699 | -0.712470172 |\n\n",
            "text/latex": "A data.frame: 6 × 10\n\\begin{tabular}{r|llllllllll}\n  & Id.Empresas & Id.Frutas & Id.Cliente & Cantidad & Anio & Ventas.EEUU & Ventas.China & Ventas.Espana & Ventas.Francia & Ventas.Canada\\\\\n  & <dbl> & <dbl> & <dbl> & <int> & <dbl> & <dbl> & <dbl> & <dbl> & <dbl> & <dbl>\\\\\n\\hline\n\t1 & -1.505214080 &  0.9976776 & -1.4154093 & 1859 &  0.624489990 & -0.699319388 & -0.9912133 & -1.23502370 &  0.9999699 &  0.698782719\\\\\n\t2 & -1.004079830 &  0.9976776 &  1.4166035 & 1564 & -0.008213714 &  1.423835250 & -0.9912133 & -0.01244672 &  0.9999699 & -0.712470172\\\\\n\t3 & -0.001811329 &  0.4970443 &  1.4166035 & 1377 & -0.324565566 &  1.423835250 & -0.9912133 & -0.01244672 & -0.9999699 & -1.418096617\\\\\n\t4 & -1.004079830 &  0.4970443 &  1.4166035 & 1546 &  0.940841842 &  0.008398825 &  1.0088038 &  1.21013027 &  0.9999699 & -0.006843726\\\\\n\t5 &  1.501591423 & -1.0048553 & -1.4154093 & 1287 &  1.257193694 &  1.423835250 & -0.9912133 & -1.23502370 & -0.9999699 &  1.404409164\\\\\n\t6 &  1.501591423 &  0.9976776 &  0.7086003 & 2077 &  0.624489990 &  1.423835250 &  1.0088038 & -0.01244672 &  0.9999699 & -0.712470172\\\\\n\\end{tabular}\n",
            "text/plain": [
              "  Id.Empresas  Id.Frutas  Id.Cliente Cantidad Anio         Ventas.EEUU \n",
              "1 -1.505214080  0.9976776 -1.4154093 1859      0.624489990 -0.699319388\n",
              "2 -1.004079830  0.9976776  1.4166035 1564     -0.008213714  1.423835250\n",
              "3 -0.001811329  0.4970443  1.4166035 1377     -0.324565566  1.423835250\n",
              "4 -1.004079830  0.4970443  1.4166035 1546      0.940841842  0.008398825\n",
              "5  1.501591423 -1.0048553 -1.4154093 1287      1.257193694  1.423835250\n",
              "6  1.501591423  0.9976776  0.7086003 2077      0.624489990  1.423835250\n",
              "  Ventas.China Ventas.Espana Ventas.Francia Ventas.Canada\n",
              "1 -0.9912133   -1.23502370    0.9999699      0.698782719 \n",
              "2 -0.9912133   -0.01244672    0.9999699     -0.712470172 \n",
              "3 -0.9912133   -0.01244672   -0.9999699     -1.418096617 \n",
              "4  1.0088038    1.21013027    0.9999699     -0.006843726 \n",
              "5 -0.9912133   -1.23502370   -0.9999699      1.404409164 \n",
              "6  1.0088038   -0.01244672    0.9999699     -0.712470172 "
            ]
          },
          "metadata": {}
        }
      ]
    },
    {
      "cell_type": "markdown",
      "source": [
        "# 2.3 Remuestreo de los Datos"
      ],
      "metadata": {
        "id": "hQmZ_RYUrn6j"
      }
    },
    {
      "cell_type": "code",
      "source": [
        "# Dividimos los datos en entrenamiento y prueba\n",
        "trainIndex <- createDataPartition(transformed$Cantidad, p = 0.7, list = FALSE)\n",
        "dataTrain <- transformed[trainIndex, ]\n",
        "cat(\"dataTrain:\", dim(dataTrain))\n",
        "dataTest <- transformed[-trainIndex, ]\n",
        "cat(\"\\ndataTest:\", dim(dataTest))"
      ],
      "metadata": {
        "colab": {
          "base_uri": "https://localhost:8080/"
        },
        "id": "sJfLlHgiqE27",
        "outputId": "bd8f04fe-1692-4015-b08e-604ba551fbfb"
      },
      "execution_count": null,
      "outputs": [
        {
          "output_type": "stream",
          "name": "stdout",
          "text": [
            "dataTrain: 11621 10\n",
            "dataTest: 4979 10"
          ]
        }
      ]
    },
    {
      "cell_type": "code",
      "source": [
        "# Dividimos los datos en X y y\n",
        "X_train <- select(dataTrain, -Cantidad)\n",
        "X_train <- as.matrix(X_train)\n",
        "cat(\"X_train:\", dim(X_train))\n",
        "y_train <- as.numeric(as.matrix(dataTrain$Cantidad))\n",
        "cat(\"\\ny_train:\", length(y_train))\n",
        "\n",
        "X_test <- select(dataTest, -Cantidad)\n",
        "X_test <- as.matrix(X_test)\n",
        "cat(\"\\nX_test:\", dim(X_test))\n",
        "y_test <- as.numeric(as.matrix(dataTest$Cantidad))\n",
        "cat(\"\\ny_test:\", length(y_test))"
      ],
      "metadata": {
        "colab": {
          "base_uri": "https://localhost:8080/"
        },
        "id": "JACovYi5sYRB",
        "outputId": "55fa5fd4-9887-4f34-dcef-3cc0040ba07d"
      },
      "execution_count": null,
      "outputs": [
        {
          "output_type": "stream",
          "name": "stdout",
          "text": [
            "X_train: 11621 9\n",
            "y_train: 11621\n",
            "X_test: 4979 9\n",
            "y_test: 4979"
          ]
        }
      ]
    },
    {
      "cell_type": "markdown",
      "source": [
        "# 3 Modelado"
      ],
      "metadata": {
        "id": "PdBfxGEHs2y9"
      }
    },
    {
      "cell_type": "markdown",
      "source": [
        "# 3.1 Secuencial"
      ],
      "metadata": {
        "id": "7dcwQaeUs4Lq"
      }
    },
    {
      "cell_type": "code",
      "source": [
        "# Definimos el modelo de capas con Keras relu (regresión)\n",
        "model <- keras_model_sequential() %>%\n",
        "  layer_dense(units = 6, activation = \"relu\", input_shape = ncol(X_train)) %>%\n",
        "  layer_dense(units = 3, activation = \"relu\") %>%\n",
        "  layer_dense(units = 1, activation = \"relu\")"
      ],
      "metadata": {
        "id": "NN_4n8hCs32D"
      },
      "execution_count": null,
      "outputs": []
    },
    {
      "cell_type": "code",
      "source": [
        "# Compilamos el modelo Keras mean_squared_error (regresión)\n",
        "model %>% compile(\n",
        "  optimizer = \"adam\",\n",
        "  loss = \"mean_squared_error\",\n",
        "  metrics = c(\"mse\")\n",
        ")"
      ],
      "metadata": {
        "id": "-PDH5ki8tziE"
      },
      "execution_count": null,
      "outputs": []
    },
    {
      "cell_type": "code",
      "source": [
        "# Ajustamos el modelo Keras en los datos de entrenamiento y validamos con los datos de prueba\n",
        "history <- model %>% fit(X_train, y_train, epochs = 10, batch_size = 2, validation_data = list(X_test, y_test))\n",
        "history"
      ],
      "metadata": {
        "colab": {
          "base_uri": "https://localhost:8080/",
          "height": 121
        },
        "id": "kiqpwGpXuDe1",
        "outputId": "30089aea-7b6f-42db-c745-9c1686f52b56"
      },
      "execution_count": null,
      "outputs": [
        {
          "output_type": "display_data",
          "data": {
            "text/plain": [
              "\n",
              "Final epoch (plot to see history):\n",
              "    loss: 213,472\n",
              "     mse: 213,472\n",
              "val_loss: 211,582\n",
              " val_mse: 211,582 "
            ]
          },
          "metadata": {}
        }
      ]
    },
    {
      "cell_type": "code",
      "source": [
        "plot(history)"
      ],
      "metadata": {
        "colab": {
          "base_uri": "https://localhost:8080/",
          "height": 437
        },
        "id": "yPXxQj4mvlK9",
        "outputId": "69940640-b271-4356-e934-59179f704db4"
      },
      "execution_count": null,
      "outputs": [
        {
          "output_type": "display_data",
          "data": {
            "text/plain": [
              "plot without title"
            ],
            "image/png": "[encoded data removed]"
          },
          "metadata": {
            "image/png": {
              "width": 420,
              "height": 420
            }
          }
        }
      ]
    },
    {
      "cell_type": "code",
      "source": [
        "# Evaluamos el modelo Keras de los estimadores\n",
        "metrics <- model %>% evaluate(X_train, y_train,)\n",
        "metrics"
      ],
      "metadata": {
        "colab": {
          "base_uri": "https://localhost:8080/",
          "height": 34
        },
        "id": "d7sSfYGmvmO4",
        "outputId": "263000f1-7e55-42ae-e443-fc485faecf25"
      },
      "execution_count": null,
      "outputs": [
        {
          "output_type": "display_data",
          "data": {
            "text/html": [
              "<style>\n",
              ".dl-inline {width: auto; margin:0; padding: 0}\n",
              ".dl-inline>dt, .dl-inline>dd {float: none; width: auto; display: inline-block}\n",
              ".dl-inline>dt::after {content: \":\\0020\"; padding-right: .5ex}\n",
              ".dl-inline>dt:not(:first-of-type) {padding-left: .5ex}\n",
              "</style><dl class=dl-inline><dt>loss</dt><dd>212899.109375</dd><dt>mse</dt><dd>212899.109375</dd></dl>\n"
            ],
            "text/markdown": "loss\n:   212899.109375mse\n:   212899.109375\n\n",
            "text/latex": "\\begin{description*}\n\\item[loss] 212899.109375\n\\item[mse] 212899.109375\n\\end{description*}\n",
            "text/plain": [
              "    loss      mse \n",
              "212899.1 212899.1 "
            ]
          },
          "metadata": {}
        }
      ]
    },
    {
      "cell_type": "code",
      "source": [
        "# Hacemos predicciones sobre los datos de prueba\n",
        "y_pred <- model %>% predict(X_test)\n",
        "head(y_pred)"
      ],
      "metadata": {
        "colab": {
          "base_uri": "https://localhost:8080/",
          "height": 257
        },
        "id": "6433vjitvttH",
        "outputId": "f231d7f7-611f-4170-fa7d-de2100faf2c9"
      },
      "execution_count": null,
      "outputs": [
        {
          "output_type": "display_data",
          "data": {
            "text/html": [
              "<table class=\"dataframe\">\n",
              "<caption>A matrix: 6 × 1 of type dbl</caption>\n",
              "<tbody>\n",
              "\t<tr><td>1592.605</td></tr>\n",
              "\t<tr><td>1611.435</td></tr>\n",
              "\t<tr><td>1594.454</td></tr>\n",
              "\t<tr><td>1601.678</td></tr>\n",
              "\t<tr><td>1633.456</td></tr>\n",
              "\t<tr><td>1583.348</td></tr>\n",
              "</tbody>\n",
              "</table>\n"
            ],
            "text/markdown": "\nA matrix: 6 × 1 of type dbl\n\n| 1592.605 |\n| 1611.435 |\n| 1594.454 |\n| 1601.678 |\n| 1633.456 |\n| 1583.348 |\n\n",
            "text/latex": "A matrix: 6 × 1 of type dbl\n\\begin{tabular}{l}\n\t 1592.605\\\\\n\t 1611.435\\\\\n\t 1594.454\\\\\n\t 1601.678\\\\\n\t 1633.456\\\\\n\t 1583.348\\\\\n\\end{tabular}\n",
            "text/plain": [
              "     [,1]    \n",
              "[1,] 1592.605\n",
              "[2,] 1611.435\n",
              "[3,] 1594.454\n",
              "[4,] 1601.678\n",
              "[5,] 1633.456\n",
              "[6,] 1583.348"
            ]
          },
          "metadata": {}
        }
      ]
    },
    {
      "cell_type": "markdown",
      "source": [
        "# 3.2 Evaluación del Modelo\n",
        "\n"
      ],
      "metadata": {
        "id": "yefG-v-PwVnO"
      }
    },
    {
      "cell_type": "code",
      "source": [
        "# Obtenemos las princiales métricas de la Regresión de los predictores\n",
        "\n",
        "cat(\"MAE:\", mae(y_test, y_pred))\n",
        "cat(\"\\nMSE:\", mse(y_test, y_pred))\n",
        "cat(\"\\nRMSE:\", rmse(y_test, y_pred))"
      ],
      "metadata": {
        "colab": {
          "base_uri": "https://localhost:8080/"
        },
        "id": "rVkSA7mHwXKE",
        "outputId": "89859d30-f618-4973-8b24-10e467cd467e"
      },
      "execution_count": null,
      "outputs": [
        {
          "output_type": "stream",
          "name": "stdout",
          "text": [
            "MAE: 398.7753\n",
            "MSE: 211581.8\n",
            "RMSE: 459.9802"
          ]
        }
      ]
    },
    {
      "cell_type": "code",
      "source": [],
      "metadata": {
        "id": "mQVx9CqQ1mDz"
      },
      "execution_count": null,
      "outputs": []
    }
  ]
}