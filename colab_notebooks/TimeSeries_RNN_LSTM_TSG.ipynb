{
  "nbformat": 4,
  "nbformat_minor": 0,
  "metadata": {
    "colab": {
      "provenance": [],
      "collapsed_sections": [],
      "toc_visible": true,
      "authorship_tag": "ABX9TyMXn85aYPq2x80/hk2DwF3u"
    },
    "kernelspec": {
      "name": "python3",
      "display_name": "Python 3"
    },
    "language_info": {
      "name": "python"
    }
  },
  "cells": [
    {
      "cell_type": "markdown",
      "source": [
        "# Pronóstico de Series Temporales / RNN - LSTM"
      ],
      "metadata": {
        "id": "xlDksO-nMQCb"
      }
    },
    {
      "cell_type": "markdown",
      "source": [
        "# 1 Carga de Datos"
      ],
      "metadata": {
        "id": "wiu1RLu-MZ-z"
      }
    },
    {
      "cell_type": "code",
      "execution_count": null,
      "metadata": {
        "id": "9l3iSDZkNzrV"
      },
      "outputs": [],
      "source": [
        "# Importamos las librerías a utilizar\n",
        "\n",
        "import pandas as pd\n",
        "import numpy as np\n",
        "import matplotlib.pyplot as plt"
      ]
    },
    {
      "cell_type": "code",
      "source": [
        "# Cargamos el set de datos\n",
        "\n",
        "df = pd.read_csv(\"/content/AirPassengers.csv\")\n",
        "df.head()"
      ],
      "metadata": {
        "colab": {
          "base_uri": "https://localhost:8080/",
          "height": 206
        },
        "id": "WL1Fzz1XPEXl",
        "outputId": "35432c03-0574-4ceb-900a-2ce538612cac"
      },
      "execution_count": null,
      "outputs": [
        {
          "output_type": "execute_result",
          "data": {
            "text/plain": [
              "     Month  Passengers\n",
              "0  1949-01         112\n",
              "1  1949-02         118\n",
              "2  1949-03         132\n",
              "3  1949-04         129\n",
              "4  1949-05         121"
            ],
            "text/html": [
              "\n",
              "  <div id=\"df-ddd6f42a-efe6-4e72-ba15-fdf12152c589\">\n",
              "    <div class=\"colab-df-container\">\n",
              "      <div>\n",
              "<style scoped>\n",
              "    .dataframe tbody tr th:only-of-type {\n",
              "        vertical-align: middle;\n",
              "    }\n",
              "\n",
              "    .dataframe tbody tr th {\n",
              "        vertical-align: top;\n",
              "    }\n",
              "\n",
              "    .dataframe thead th {\n",
              "        text-align: right;\n",
              "    }\n",
              "</style>\n",
              "<table border=\"1\" class=\"dataframe\">\n",
              "  <thead>\n",
              "    <tr style=\"text-align: right;\">\n",
              "      <th></th>\n",
              "      <th>Month</th>\n",
              "      <th>Passengers</th>\n",
              "    </tr>\n",
              "  </thead>\n",
              "  <tbody>\n",
              "    <tr>\n",
              "      <th>0</th>\n",
              "      <td>1949-01</td>\n",
              "      <td>112</td>\n",
              "    </tr>\n",
              "    <tr>\n",
              "      <th>1</th>\n",
              "      <td>1949-02</td>\n",
              "      <td>118</td>\n",
              "    </tr>\n",
              "    <tr>\n",
              "      <th>2</th>\n",
              "      <td>1949-03</td>\n",
              "      <td>132</td>\n",
              "    </tr>\n",
              "    <tr>\n",
              "      <th>3</th>\n",
              "      <td>1949-04</td>\n",
              "      <td>129</td>\n",
              "    </tr>\n",
              "    <tr>\n",
              "      <th>4</th>\n",
              "      <td>1949-05</td>\n",
              "      <td>121</td>\n",
              "    </tr>\n",
              "  </tbody>\n",
              "</table>\n",
              "</div>\n",
              "      <button class=\"colab-df-convert\" onclick=\"convertToInteractive('df-ddd6f42a-efe6-4e72-ba15-fdf12152c589')\"\n",
              "              title=\"Convert this dataframe to an interactive table.\"\n",
              "              style=\"display:none;\">\n",
              "        \n",
              "  <svg xmlns=\"http://www.w3.org/2000/svg\" height=\"24px\"viewBox=\"0 0 24 24\"\n",
              "       width=\"24px\">\n",
              "    <path d=\"M0 0h24v24H0V0z\" fill=\"none\"/>\n",
              "    <path d=\"M18.56 5.44l.94 2.06.94-2.06 2.06-.94-2.06-.94-.94-2.06-.94 2.06-2.06.94zm-11 1L8.5 8.5l.94-2.06 2.06-.94-2.06-.94L8.5 2.5l-.94 2.06-2.06.94zm10 10l.94 2.06.94-2.06 2.06-.94-2.06-.94-.94-2.06-.94 2.06-2.06.94z\"/><path d=\"M17.41 7.96l-1.37-1.37c-.4-.4-.92-.59-1.43-.59-.52 0-1.04.2-1.43.59L10.3 9.45l-7.72 7.72c-.78.78-.78 2.05 0 2.83L4 21.41c.39.39.9.59 1.41.59.51 0 1.02-.2 1.41-.59l7.78-7.78 2.81-2.81c.8-.78.8-2.07 0-2.86zM5.41 20L4 18.59l7.72-7.72 1.47 1.35L5.41 20z\"/>\n",
              "  </svg>\n",
              "      </button>\n",
              "      \n",
              "  <style>\n",
              "    .colab-df-container {\n",
              "      display:flex;\n",
              "      flex-wrap:wrap;\n",
              "      gap: 12px;\n",
              "    }\n",
              "\n",
              "    .colab-df-convert {\n",
              "      background-color: #E8F0FE;\n",
              "      border: none;\n",
              "      border-radius: 50%;\n",
              "      cursor: pointer;\n",
              "      display: none;\n",
              "      fill: #1967D2;\n",
              "      height: 32px;\n",
              "      padding: 0 0 0 0;\n",
              "      width: 32px;\n",
              "    }\n",
              "\n",
              "    .colab-df-convert:hover {\n",
              "      background-color: #E2EBFA;\n",
              "      box-shadow: 0px 1px 2px rgba(60, 64, 67, 0.3), 0px 1px 3px 1px rgba(60, 64, 67, 0.15);\n",
              "      fill: #174EA6;\n",
              "    }\n",
              "\n",
              "    [theme=dark] .colab-df-convert {\n",
              "      background-color: #3B4455;\n",
              "      fill: #D2E3FC;\n",
              "    }\n",
              "\n",
              "    [theme=dark] .colab-df-convert:hover {\n",
              "      background-color: #434B5C;\n",
              "      box-shadow: 0px 1px 3px 1px rgba(0, 0, 0, 0.15);\n",
              "      filter: drop-shadow(0px 1px 2px rgba(0, 0, 0, 0.3));\n",
              "      fill: #FFFFFF;\n",
              "    }\n",
              "  </style>\n",
              "\n",
              "      <script>\n",
              "        const buttonEl =\n",
              "          document.querySelector('#df-ddd6f42a-efe6-4e72-ba15-fdf12152c589 button.colab-df-convert');\n",
              "        buttonEl.style.display =\n",
              "          google.colab.kernel.accessAllowed ? 'block' : 'none';\n",
              "\n",
              "        async function convertToInteractive(key) {\n",
              "          const element = document.querySelector('#df-ddd6f42a-efe6-4e72-ba15-fdf12152c589');\n",
              "          const dataTable =\n",
              "            await google.colab.kernel.invokeFunction('convertToInteractive',\n",
              "                                                     [key], {});\n",
              "          if (!dataTable) return;\n",
              "\n",
              "          const docLinkHtml = 'Like what you see? Visit the ' +\n",
              "            '<a target=\"_blank\" href=https://colab.research.google.com/notebooks/data_table.ipynb>data table notebook</a>'\n",
              "            + ' to learn more about interactive tables.';\n",
              "          element.innerHTML = '';\n",
              "          dataTable['output_type'] = 'display_data';\n",
              "          await google.colab.output.renderOutput(dataTable, element);\n",
              "          const docLink = document.createElement('div');\n",
              "          docLink.innerHTML = docLinkHtml;\n",
              "          element.appendChild(docLink);\n",
              "        }\n",
              "      </script>\n",
              "    </div>\n",
              "  </div>\n",
              "  "
            ]
          },
          "metadata": {},
          "execution_count": 2
        }
      ]
    },
    {
      "cell_type": "code",
      "source": [
        "# Obtenemos una descripción de los datos\n",
        "\n",
        "df.info()"
      ],
      "metadata": {
        "colab": {
          "base_uri": "https://localhost:8080/"
        },
        "id": "_w2dN-iZP7Fq",
        "outputId": "a9aa7f47-f248-48fb-e7a0-00807304a08e"
      },
      "execution_count": null,
      "outputs": [
        {
          "output_type": "stream",
          "name": "stdout",
          "text": [
            "<class 'pandas.core.frame.DataFrame'>\n",
            "RangeIndex: 144 entries, 0 to 143\n",
            "Data columns (total 2 columns):\n",
            " #   Column      Non-Null Count  Dtype \n",
            "---  ------      --------------  ----- \n",
            " 0   Month       144 non-null    object\n",
            " 1   Passengers  144 non-null    int64 \n",
            "dtypes: int64(1), object(1)\n",
            "memory usage: 2.4+ KB\n"
          ]
        }
      ]
    },
    {
      "cell_type": "markdown",
      "source": [
        "# 2 Preparación de los Datos"
      ],
      "metadata": {
        "id": "N0zJh_UhMqI7"
      }
    },
    {
      "cell_type": "code",
      "source": [
        "# Convertimos la variable de objeto a fecha\n",
        "\n",
        "df.Month = pd.to_datetime(df.Month)\n",
        "df.info()"
      ],
      "metadata": {
        "colab": {
          "base_uri": "https://localhost:8080/"
        },
        "id": "xr7rddGEQ4kl",
        "outputId": "b307e686-173a-45d3-b2f7-571196122d68"
      },
      "execution_count": null,
      "outputs": [
        {
          "output_type": "stream",
          "name": "stdout",
          "text": [
            "<class 'pandas.core.frame.DataFrame'>\n",
            "RangeIndex: 144 entries, 0 to 143\n",
            "Data columns (total 2 columns):\n",
            " #   Column      Non-Null Count  Dtype         \n",
            "---  ------      --------------  -----         \n",
            " 0   Month       144 non-null    datetime64[ns]\n",
            " 1   Passengers  144 non-null    int64         \n",
            "dtypes: datetime64[ns](1), int64(1)\n",
            "memory usage: 2.4 KB\n"
          ]
        }
      ]
    },
    {
      "cell_type": "code",
      "source": [
        "# Indexamos la columna de fecha y específicamos una frecuencia mensual\n",
        "\n",
        "df = df.set_index(\"Month\")\n",
        "df.index.freq = 'MS'\n",
        "df.head()"
      ],
      "metadata": {
        "colab": {
          "base_uri": "https://localhost:8080/",
          "height": 237
        },
        "id": "WrT3ADj1cao9",
        "outputId": "eccfd4c3-2a37-4c1d-9858-d1228066295c"
      },
      "execution_count": null,
      "outputs": [
        {
          "output_type": "execute_result",
          "data": {
            "text/plain": [
              "            Passengers\n",
              "Month                 \n",
              "1949-01-01         112\n",
              "1949-02-01         118\n",
              "1949-03-01         132\n",
              "1949-04-01         129\n",
              "1949-05-01         121"
            ],
            "text/html": [
              "\n",
              "  <div id=\"df-18d956f6-97f0-4386-aec7-b7e4424454ff\">\n",
              "    <div class=\"colab-df-container\">\n",
              "      <div>\n",
              "<style scoped>\n",
              "    .dataframe tbody tr th:only-of-type {\n",
              "        vertical-align: middle;\n",
              "    }\n",
              "\n",
              "    .dataframe tbody tr th {\n",
              "        vertical-align: top;\n",
              "    }\n",
              "\n",
              "    .dataframe thead th {\n",
              "        text-align: right;\n",
              "    }\n",
              "</style>\n",
              "<table border=\"1\" class=\"dataframe\">\n",
              "  <thead>\n",
              "    <tr style=\"text-align: right;\">\n",
              "      <th></th>\n",
              "      <th>Passengers</th>\n",
              "    </tr>\n",
              "    <tr>\n",
              "      <th>Month</th>\n",
              "      <th></th>\n",
              "    </tr>\n",
              "  </thead>\n",
              "  <tbody>\n",
              "    <tr>\n",
              "      <th>1949-01-01</th>\n",
              "      <td>112</td>\n",
              "    </tr>\n",
              "    <tr>\n",
              "      <th>1949-02-01</th>\n",
              "      <td>118</td>\n",
              "    </tr>\n",
              "    <tr>\n",
              "      <th>1949-03-01</th>\n",
              "      <td>132</td>\n",
              "    </tr>\n",
              "    <tr>\n",
              "      <th>1949-04-01</th>\n",
              "      <td>129</td>\n",
              "    </tr>\n",
              "    <tr>\n",
              "      <th>1949-05-01</th>\n",
              "      <td>121</td>\n",
              "    </tr>\n",
              "  </tbody>\n",
              "</table>\n",
              "</div>\n",
              "      <button class=\"colab-df-convert\" onclick=\"convertToInteractive('df-18d956f6-97f0-4386-aec7-b7e4424454ff')\"\n",
              "              title=\"Convert this dataframe to an interactive table.\"\n",
              "              style=\"display:none;\">\n",
              "        \n",
              "  <svg xmlns=\"http://www.w3.org/2000/svg\" height=\"24px\"viewBox=\"0 0 24 24\"\n",
              "       width=\"24px\">\n",
              "    <path d=\"M0 0h24v24H0V0z\" fill=\"none\"/>\n",
              "    <path d=\"M18.56 5.44l.94 2.06.94-2.06 2.06-.94-2.06-.94-.94-2.06-.94 2.06-2.06.94zm-11 1L8.5 8.5l.94-2.06 2.06-.94-2.06-.94L8.5 2.5l-.94 2.06-2.06.94zm10 10l.94 2.06.94-2.06 2.06-.94-2.06-.94-.94-2.06-.94 2.06-2.06.94z\"/><path d=\"M17.41 7.96l-1.37-1.37c-.4-.4-.92-.59-1.43-.59-.52 0-1.04.2-1.43.59L10.3 9.45l-7.72 7.72c-.78.78-.78 2.05 0 2.83L4 21.41c.39.39.9.59 1.41.59.51 0 1.02-.2 1.41-.59l7.78-7.78 2.81-2.81c.8-.78.8-2.07 0-2.86zM5.41 20L4 18.59l7.72-7.72 1.47 1.35L5.41 20z\"/>\n",
              "  </svg>\n",
              "      </button>\n",
              "      \n",
              "  <style>\n",
              "    .colab-df-container {\n",
              "      display:flex;\n",
              "      flex-wrap:wrap;\n",
              "      gap: 12px;\n",
              "    }\n",
              "\n",
              "    .colab-df-convert {\n",
              "      background-color: #E8F0FE;\n",
              "      border: none;\n",
              "      border-radius: 50%;\n",
              "      cursor: pointer;\n",
              "      display: none;\n",
              "      fill: #1967D2;\n",
              "      height: 32px;\n",
              "      padding: 0 0 0 0;\n",
              "      width: 32px;\n",
              "    }\n",
              "\n",
              "    .colab-df-convert:hover {\n",
              "      background-color: #E2EBFA;\n",
              "      box-shadow: 0px 1px 2px rgba(60, 64, 67, 0.3), 0px 1px 3px 1px rgba(60, 64, 67, 0.15);\n",
              "      fill: #174EA6;\n",
              "    }\n",
              "\n",
              "    [theme=dark] .colab-df-convert {\n",
              "      background-color: #3B4455;\n",
              "      fill: #D2E3FC;\n",
              "    }\n",
              "\n",
              "    [theme=dark] .colab-df-convert:hover {\n",
              "      background-color: #434B5C;\n",
              "      box-shadow: 0px 1px 3px 1px rgba(0, 0, 0, 0.15);\n",
              "      filter: drop-shadow(0px 1px 2px rgba(0, 0, 0, 0.3));\n",
              "      fill: #FFFFFF;\n",
              "    }\n",
              "  </style>\n",
              "\n",
              "      <script>\n",
              "        const buttonEl =\n",
              "          document.querySelector('#df-18d956f6-97f0-4386-aec7-b7e4424454ff button.colab-df-convert');\n",
              "        buttonEl.style.display =\n",
              "          google.colab.kernel.accessAllowed ? 'block' : 'none';\n",
              "\n",
              "        async function convertToInteractive(key) {\n",
              "          const element = document.querySelector('#df-18d956f6-97f0-4386-aec7-b7e4424454ff');\n",
              "          const dataTable =\n",
              "            await google.colab.kernel.invokeFunction('convertToInteractive',\n",
              "                                                     [key], {});\n",
              "          if (!dataTable) return;\n",
              "\n",
              "          const docLinkHtml = 'Like what you see? Visit the ' +\n",
              "            '<a target=\"_blank\" href=https://colab.research.google.com/notebooks/data_table.ipynb>data table notebook</a>'\n",
              "            + ' to learn more about interactive tables.';\n",
              "          element.innerHTML = '';\n",
              "          dataTable['output_type'] = 'display_data';\n",
              "          await google.colab.output.renderOutput(dataTable, element);\n",
              "          const docLink = document.createElement('div');\n",
              "          docLink.innerHTML = docLinkHtml;\n",
              "          element.appendChild(docLink);\n",
              "        }\n",
              "      </script>\n",
              "    </div>\n",
              "  </div>\n",
              "  "
            ]
          },
          "metadata": {},
          "execution_count": 5
        }
      ]
    },
    {
      "cell_type": "code",
      "source": [
        "# Graficamos los datos\n",
        "\n",
        "df.plot(figsize=(18,9))\n",
        "plt.show()"
      ],
      "metadata": {
        "colab": {
          "base_uri": "https://localhost:8080/",
          "height": 551
        },
        "id": "iMU7UR3CONcT",
        "outputId": "131a435f-9f2c-451b-e1e5-de7f45214379"
      },
      "execution_count": null,
      "outputs": [
        {
          "output_type": "display_data",
          "data": {
            "text/plain": [
              "<Figure size 1296x648 with 1 Axes>"
            ],
            "image/png": "[encoded data removed]"
          },
          "metadata": {
            "needs_background": "light"
          }
        }
      ]
    },
    {
      "cell_type": "code",
      "source": [
        "# Graficamos los componentes de tendencia y estacionalidad \n",
        "\n",
        "from statsmodels.tsa.seasonal import seasonal_decompose\n",
        "\n",
        "decompose = seasonal_decompose(df['Passengers'])\n",
        "decompose.plot(); "
      ],
      "metadata": {
        "colab": {
          "base_uri": "https://localhost:8080/",
          "height": 297
        },
        "id": "FYP6wL9-O5Ux",
        "outputId": "3a809353-3e37-40c5-8d47-ef1e9993b291"
      },
      "execution_count": null,
      "outputs": [
        {
          "output_type": "display_data",
          "data": {
            "text/plain": [
              "<Figure size 432x288 with 4 Axes>"
            ],
            "image/png": "[encoded data removed]"
          },
          "metadata": {
            "needs_background": "light"
          }
        }
      ]
    },
    {
      "cell_type": "code",
      "source": [
        "# Dividimos los datos de entrenamiento y prueba\n",
        "\n",
        "train = df[:len(df)-12] # 12 meses\n",
        "test = df[len(df)-12:]\n",
        "\n",
        "print(train.shape)\n",
        "print(test.shape)"
      ],
      "metadata": {
        "id": "jAktvV28oCHm",
        "colab": {
          "base_uri": "https://localhost:8080/"
        },
        "outputId": "1b7a0f49-90fa-4b0d-9b18-1801418e7fd0"
      },
      "execution_count": null,
      "outputs": [
        {
          "output_type": "stream",
          "name": "stdout",
          "text": [
            "(132, 1)\n",
            "(12, 1)\n"
          ]
        }
      ]
    },
    {
      "cell_type": "code",
      "source": [
        "# Normalizamos los datos entre 0 y 1\n",
        "\n",
        "from sklearn.preprocessing import MinMaxScaler\n",
        "\n",
        "scaler = MinMaxScaler()\n",
        "\n",
        "scaler.fit(train)\n",
        "scaled_train = scaler.transform(train)\n",
        "scaled_test = scaler.transform(test)"
      ],
      "metadata": {
        "id": "kPI_xhx9cGr3"
      },
      "execution_count": null,
      "outputs": []
    },
    {
      "cell_type": "code",
      "source": [
        "# Generamos la serie de tiempo\n",
        "\n",
        "from keras.preprocessing.sequence import TimeseriesGenerator\n",
        "\n",
        "n_input = 12\n",
        "n_features = 1\n",
        "\n",
        "generator = TimeseriesGenerator(scaled_train, scaled_train, length=n_input, batch_size=1)"
      ],
      "metadata": {
        "id": "berXskzsSdKx"
      },
      "execution_count": null,
      "outputs": []
    },
    {
      "cell_type": "markdown",
      "source": [
        "# 3 Modelado de la Red"
      ],
      "metadata": {
        "id": "YwG_FEtRUdxe"
      }
    },
    {
      "cell_type": "code",
      "source": [
        "# Definimos el modeleo LSTM\n",
        "\n",
        "from keras.models import Sequential\n",
        "from keras.layers import Dense\n",
        "from keras.layers import LSTM\n",
        "\n",
        "model = Sequential()\n",
        "model.add(LSTM(100, activation='relu', input_shape=(n_input, n_features)))\n",
        "model.add(Dense(1))"
      ],
      "metadata": {
        "id": "cmtSBqrFUbBv"
      },
      "execution_count": null,
      "outputs": []
    },
    {
      "cell_type": "code",
      "source": [
        "# Obtenemos un resumen del modelo\n",
        "\n",
        "model.summary()"
      ],
      "metadata": {
        "colab": {
          "base_uri": "https://localhost:8080/"
        },
        "id": "Fap_4hNeXpcL",
        "outputId": "975a8e50-6d12-4f88-ca7d-5882c44489c1"
      },
      "execution_count": null,
      "outputs": [
        {
          "output_type": "stream",
          "name": "stdout",
          "text": [
            "Model: \"sequential\"\n",
            "_________________________________________________________________\n",
            " Layer (type)                Output Shape              Param #   \n",
            "=================================================================\n",
            " lstm (LSTM)                 (None, 100)               40800     \n",
            "                                                                 \n",
            " dense (Dense)               (None, 1)                 101       \n",
            "                                                                 \n",
            "=================================================================\n",
            "Total params: 40,901\n",
            "Trainable params: 40,901\n",
            "Non-trainable params: 0\n",
            "_________________________________________________________________\n"
          ]
        }
      ]
    },
    {
      "cell_type": "code",
      "source": [
        "# Compilamos el modelo\n",
        "\n",
        "model.compile(\n",
        "    loss='mse',\n",
        "    optimizer='adam',\n",
        ")"
      ],
      "metadata": {
        "id": "KV5sQpfkXsMC"
      },
      "execution_count": null,
      "outputs": []
    },
    {
      "cell_type": "code",
      "source": [
        "# Ajustamos el modelo\n",
        "\n",
        "historial = model.fit(generator, epochs=100, batch_size=1)"
      ],
      "metadata": {
        "colab": {
          "base_uri": "https://localhost:8080/"
        },
        "id": "tJM1VWAAX9Ui",
        "outputId": "3fbb5ac3-68a7-479c-ba31-1a141d697545"
      },
      "execution_count": null,
      "outputs": [
        {
          "output_type": "stream",
          "name": "stdout",
          "text": [
            "Epoch 1/100\n",
            "120/120 [==============================] - 3s 6ms/step - loss: 0.0388\n",
            "Epoch 2/100\n",
            "120/120 [==============================] - 1s 6ms/step - loss: 0.0123\n",
            "Epoch 3/100\n",
            "120/120 [==============================] - 1s 6ms/step - loss: 0.0109\n",
            "Epoch 4/100\n",
            "120/120 [==============================] - 1s 6ms/step - loss: 0.0125\n",
            "Epoch 5/100\n",
            "120/120 [==============================] - 1s 6ms/step - loss: 0.0098\n",
            "Epoch 6/100\n",
            "120/120 [==============================] - 1s 6ms/step - loss: 0.0084\n",
            "Epoch 7/100\n",
            "120/120 [==============================] - 1s 5ms/step - loss: 0.0077\n",
            "Epoch 8/100\n",
            "120/120 [==============================] - 1s 5ms/step - loss: 0.0069\n",
            "Epoch 9/100\n",
            "120/120 [==============================] - 1s 5ms/step - loss: 0.0063\n",
            "Epoch 10/100\n",
            "120/120 [==============================] - 1s 5ms/step - loss: 0.0041\n",
            "Epoch 11/100\n",
            "120/120 [==============================] - 1s 6ms/step - loss: 0.0041\n",
            "Epoch 12/100\n",
            "120/120 [==============================] - 1s 5ms/step - loss: 0.0054\n",
            "Epoch 13/100\n",
            "120/120 [==============================] - 1s 6ms/step - loss: 0.0045\n",
            "Epoch 14/100\n",
            "120/120 [==============================] - 1s 5ms/step - loss: 0.0030\n",
            "Epoch 15/100\n",
            "120/120 [==============================] - 1s 5ms/step - loss: 0.0031\n",
            "Epoch 16/100\n",
            "120/120 [==============================] - 1s 7ms/step - loss: 0.0024\n",
            "Epoch 17/100\n",
            "120/120 [==============================] - 1s 7ms/step - loss: 0.0023\n",
            "Epoch 18/100\n",
            "120/120 [==============================] - 1s 6ms/step - loss: 0.0030\n",
            "Epoch 19/100\n",
            "120/120 [==============================] - 1s 6ms/step - loss: 0.0030\n",
            "Epoch 20/100\n",
            "120/120 [==============================] - 1s 5ms/step - loss: 0.0043\n",
            "Epoch 21/100\n",
            "120/120 [==============================] - 1s 6ms/step - loss: 0.0026\n",
            "Epoch 22/100\n",
            "120/120 [==============================] - 1s 6ms/step - loss: 0.0020\n",
            "Epoch 23/100\n",
            "120/120 [==============================] - 1s 5ms/step - loss: 0.0019\n",
            "Epoch 24/100\n",
            "120/120 [==============================] - 1s 5ms/step - loss: 0.0018\n",
            "Epoch 25/100\n",
            "120/120 [==============================] - 1s 5ms/step - loss: 0.0019\n",
            "Epoch 26/100\n",
            "120/120 [==============================] - 1s 5ms/step - loss: 0.0020\n",
            "Epoch 27/100\n",
            "120/120 [==============================] - 1s 6ms/step - loss: 0.0021\n",
            "Epoch 28/100\n",
            "120/120 [==============================] - 1s 6ms/step - loss: 0.0016\n",
            "Epoch 29/100\n",
            "120/120 [==============================] - 1s 6ms/step - loss: 0.0019\n",
            "Epoch 30/100\n",
            "120/120 [==============================] - 1s 6ms/step - loss: 0.0025\n",
            "Epoch 31/100\n",
            "120/120 [==============================] - 1s 6ms/step - loss: 0.0024\n",
            "Epoch 32/100\n",
            "120/120 [==============================] - 1s 6ms/step - loss: 0.0016\n",
            "Epoch 33/100\n",
            "120/120 [==============================] - 1s 5ms/step - loss: 0.0019\n",
            "Epoch 34/100\n",
            "120/120 [==============================] - 1s 6ms/step - loss: 0.0029\n",
            "Epoch 35/100\n",
            "120/120 [==============================] - 1s 6ms/step - loss: 0.0017\n",
            "Epoch 36/100\n",
            "120/120 [==============================] - 1s 6ms/step - loss: 0.0016\n",
            "Epoch 37/100\n",
            "120/120 [==============================] - 1s 6ms/step - loss: 0.0017\n",
            "Epoch 38/100\n",
            "120/120 [==============================] - 1s 6ms/step - loss: 0.0018\n",
            "Epoch 39/100\n",
            "120/120 [==============================] - 1s 6ms/step - loss: 0.0019\n",
            "Epoch 40/100\n",
            "120/120 [==============================] - 1s 6ms/step - loss: 0.0017\n",
            "Epoch 41/100\n",
            "120/120 [==============================] - 1s 6ms/step - loss: 0.0020\n",
            "Epoch 42/100\n",
            "120/120 [==============================] - 1s 5ms/step - loss: 0.0022\n",
            "Epoch 43/100\n",
            "120/120 [==============================] - 1s 6ms/step - loss: 0.0017\n",
            "Epoch 44/100\n",
            "120/120 [==============================] - 1s 6ms/step - loss: 0.0018\n",
            "Epoch 45/100\n",
            "120/120 [==============================] - 1s 6ms/step - loss: 0.0016\n",
            "Epoch 46/100\n",
            "120/120 [==============================] - 1s 6ms/step - loss: 0.0025\n",
            "Epoch 47/100\n",
            "120/120 [==============================] - 1s 5ms/step - loss: 0.0018\n",
            "Epoch 48/100\n",
            "120/120 [==============================] - 1s 6ms/step - loss: 0.0019\n",
            "Epoch 49/100\n",
            "120/120 [==============================] - 1s 6ms/step - loss: 0.0016\n",
            "Epoch 50/100\n",
            "120/120 [==============================] - 1s 6ms/step - loss: 0.0019\n",
            "Epoch 51/100\n",
            "120/120 [==============================] - 1s 6ms/step - loss: 0.0015\n",
            "Epoch 52/100\n",
            "120/120 [==============================] - 1s 6ms/step - loss: 0.0013\n",
            "Epoch 53/100\n",
            "120/120 [==============================] - 1s 6ms/step - loss: 0.0014\n",
            "Epoch 54/100\n",
            "120/120 [==============================] - 1s 6ms/step - loss: 0.0017\n",
            "Epoch 55/100\n",
            "120/120 [==============================] - 1s 6ms/step - loss: 0.0020\n",
            "Epoch 56/100\n",
            "120/120 [==============================] - 1s 5ms/step - loss: 0.0013\n",
            "Epoch 57/100\n",
            "120/120 [==============================] - 1s 5ms/step - loss: 0.0014\n",
            "Epoch 58/100\n",
            "120/120 [==============================] - 1s 6ms/step - loss: 0.0014\n",
            "Epoch 59/100\n",
            "120/120 [==============================] - 1s 6ms/step - loss: 0.0019\n",
            "Epoch 60/100\n",
            "120/120 [==============================] - 1s 6ms/step - loss: 0.0016\n",
            "Epoch 61/100\n",
            "120/120 [==============================] - 1s 6ms/step - loss: 0.0017\n",
            "Epoch 62/100\n",
            "120/120 [==============================] - 1s 5ms/step - loss: 0.0017\n",
            "Epoch 63/100\n",
            "120/120 [==============================] - 1s 6ms/step - loss: 0.0015\n",
            "Epoch 64/100\n",
            "120/120 [==============================] - 1s 5ms/step - loss: 0.0013\n",
            "Epoch 65/100\n",
            "120/120 [==============================] - 1s 6ms/step - loss: 0.0021\n",
            "Epoch 66/100\n",
            "120/120 [==============================] - 1s 6ms/step - loss: 0.0017\n",
            "Epoch 67/100\n",
            "120/120 [==============================] - 1s 6ms/step - loss: 0.0014\n",
            "Epoch 68/100\n",
            "120/120 [==============================] - 1s 6ms/step - loss: 0.0014\n",
            "Epoch 69/100\n",
            "120/120 [==============================] - 1s 6ms/step - loss: 0.0018\n",
            "Epoch 70/100\n",
            "120/120 [==============================] - 1s 6ms/step - loss: 0.0016\n",
            "Epoch 71/100\n",
            "120/120 [==============================] - 1s 6ms/step - loss: 0.0017\n",
            "Epoch 72/100\n",
            "120/120 [==============================] - 1s 5ms/step - loss: 0.0013\n",
            "Epoch 73/100\n",
            "120/120 [==============================] - 1s 5ms/step - loss: 0.0014\n",
            "Epoch 74/100\n",
            "120/120 [==============================] - 1s 5ms/step - loss: 0.0016\n",
            "Epoch 75/100\n",
            "120/120 [==============================] - 1s 6ms/step - loss: 0.0020\n",
            "Epoch 76/100\n",
            "120/120 [==============================] - 1s 6ms/step - loss: 0.0017\n",
            "Epoch 77/100\n",
            "120/120 [==============================] - 1s 6ms/step - loss: 0.0018\n",
            "Epoch 78/100\n",
            "120/120 [==============================] - 1s 6ms/step - loss: 0.0018\n",
            "Epoch 79/100\n",
            "120/120 [==============================] - 1s 5ms/step - loss: 0.0015\n",
            "Epoch 80/100\n",
            "120/120 [==============================] - 1s 5ms/step - loss: 0.0016\n",
            "Epoch 81/100\n",
            "120/120 [==============================] - 1s 6ms/step - loss: 0.0017\n",
            "Epoch 82/100\n",
            "120/120 [==============================] - 1s 6ms/step - loss: 0.0015\n",
            "Epoch 83/100\n",
            "120/120 [==============================] - 1s 6ms/step - loss: 0.0011\n",
            "Epoch 84/100\n",
            "120/120 [==============================] - 1s 6ms/step - loss: 0.0017\n",
            "Epoch 85/100\n",
            "120/120 [==============================] - 1s 6ms/step - loss: 0.0019\n",
            "Epoch 86/100\n",
            "120/120 [==============================] - 1s 6ms/step - loss: 0.0014\n",
            "Epoch 87/100\n",
            "120/120 [==============================] - 1s 5ms/step - loss: 0.0014\n",
            "Epoch 88/100\n",
            "120/120 [==============================] - 1s 6ms/step - loss: 0.0016\n",
            "Epoch 89/100\n",
            "120/120 [==============================] - 1s 6ms/step - loss: 0.0014\n",
            "Epoch 90/100\n",
            "120/120 [==============================] - 1s 5ms/step - loss: 0.0015\n",
            "Epoch 91/100\n",
            "120/120 [==============================] - 1s 6ms/step - loss: 0.0015\n",
            "Epoch 92/100\n",
            "120/120 [==============================] - 1s 5ms/step - loss: 0.0013\n",
            "Epoch 93/100\n",
            "120/120 [==============================] - 1s 6ms/step - loss: 0.0014\n",
            "Epoch 94/100\n",
            "120/120 [==============================] - 1s 5ms/step - loss: 0.0011\n",
            "Epoch 95/100\n",
            "120/120 [==============================] - 1s 6ms/step - loss: 0.0014\n",
            "Epoch 96/100\n",
            "120/120 [==============================] - 1s 6ms/step - loss: 0.0014\n",
            "Epoch 97/100\n",
            "120/120 [==============================] - 1s 6ms/step - loss: 0.0018\n",
            "Epoch 98/100\n",
            "120/120 [==============================] - 1s 6ms/step - loss: 0.0014\n",
            "Epoch 99/100\n",
            "120/120 [==============================] - 1s 6ms/step - loss: 0.0014\n",
            "Epoch 100/100\n",
            "120/120 [==============================] - 1s 6ms/step - loss: 0.0015\n"
          ]
        }
      ]
    },
    {
      "cell_type": "code",
      "source": [
        "# Graficamos la evolución de la pérdida en el modelo\n",
        "\n",
        "plt.plot(historial.history['loss'])\n",
        "plt.show()"
      ],
      "metadata": {
        "colab": {
          "base_uri": "https://localhost:8080/",
          "height": 266
        },
        "id": "Ufo8mo11YpHy",
        "outputId": "4c50e7f6-1cd4-4e0c-e230-0db2c2b347f8"
      },
      "execution_count": null,
      "outputs": [
        {
          "output_type": "display_data",
          "data": {
            "text/plain": [
              "<Figure size 432x288 with 1 Axes>"
            ],
            "image/png": "[encoded data removed]"
          },
          "metadata": {
            "needs_background": "light"
          }
        }
      ]
    },
    {
      "cell_type": "code",
      "source": [
        "# Probamos las predicciones\n",
        "\n",
        "last_train_batch = scaled_train[-12:]\n",
        "last_train_batch = last_train_batch.reshape((1, n_input, n_features))"
      ],
      "metadata": {
        "id": "AwGFh4tvZxa5"
      },
      "execution_count": null,
      "outputs": []
    },
    {
      "cell_type": "code",
      "source": [
        "model.predict(last_train_batch)"
      ],
      "metadata": {
        "colab": {
          "base_uri": "https://localhost:8080/"
        },
        "id": "7VGApan4a7ly",
        "outputId": "e9a9c77a-c391-4279-9e26-b7c1dac69482"
      },
      "execution_count": null,
      "outputs": [
        {
          "output_type": "execute_result",
          "data": {
            "text/plain": [
              "array([[0.6590798]], dtype=float32)"
            ]
          },
          "metadata": {},
          "execution_count": 17
        }
      ]
    },
    {
      "cell_type": "code",
      "source": [
        "scaled_test[0]"
      ],
      "metadata": {
        "colab": {
          "base_uri": "https://localhost:8080/"
        },
        "id": "yZqdhrnBbEET",
        "outputId": "8668158d-27dd-440d-cafd-05768343479c"
      },
      "execution_count": null,
      "outputs": [
        {
          "output_type": "execute_result",
          "data": {
            "text/plain": [
              "array([0.68791209])"
            ]
          },
          "metadata": {},
          "execution_count": 18
        }
      ]
    },
    {
      "cell_type": "code",
      "source": [
        "# Realizamos las predicciones\n",
        "\n",
        "test_predictions = []\n",
        "\n",
        "first_eval_batch = scaled_train[-n_input:]\n",
        "current_batch = first_eval_batch.reshape((1, n_input, n_features))\n",
        "\n",
        "for i in range(len(test)):\n",
        "  # obtenemos la predicción del primer lote (batch)\n",
        "  current_pred = model.predict(current_batch)[0]\n",
        "  # agregamos la predicción en el arreglo (array)\n",
        "  test_predictions.append(current_pred)\n",
        "  # usamos la predicción para actualizar el lote y remover el primer valor\n",
        "  current_batch = np.append(current_batch[:,1:,:], [[current_pred]], axis=1)"
      ],
      "metadata": {
        "id": "crjK0tLueWj4"
      },
      "execution_count": null,
      "outputs": []
    },
    {
      "cell_type": "code",
      "source": [
        "# Invertimos el normalizado\n",
        "\n",
        "true_predictions = scaler.inverse_transform(test_predictions)"
      ],
      "metadata": {
        "id": "P3lmRch2icN0"
      },
      "execution_count": null,
      "outputs": []
    },
    {
      "cell_type": "code",
      "source": [
        "# Agregamos las predicciones al set de datos de prueba\n",
        "\n",
        "test['Predictions'] = true_predictions"
      ],
      "metadata": {
        "colab": {
          "base_uri": "https://localhost:8080/"
        },
        "id": "0l4CdNfskKUq",
        "outputId": "7afad8fb-9751-47c6-b6de-235e74a9c3ff"
      },
      "execution_count": null,
      "outputs": [
        {
          "output_type": "stream",
          "name": "stderr",
          "text": [
            "/usr/local/lib/python3.7/dist-packages/ipykernel_launcher.py:3: SettingWithCopyWarning: \n",
            "A value is trying to be set on a copy of a slice from a DataFrame.\n",
            "Try using .loc[row_indexer,col_indexer] = value instead\n",
            "\n",
            "See the caveats in the documentation: https://pandas.pydata.org/pandas-docs/stable/user_guide/indexing.html#returning-a-view-versus-a-copy\n",
            "  This is separate from the ipykernel package so we can avoid doing imports until\n"
          ]
        }
      ]
    },
    {
      "cell_type": "code",
      "source": [
        "test.head()"
      ],
      "metadata": {
        "colab": {
          "base_uri": "https://localhost:8080/",
          "height": 237
        },
        "id": "dAZONT7AkP5R",
        "outputId": "1b9e9b51-6267-4650-8fc7-76cdbd2ca4ba"
      },
      "execution_count": null,
      "outputs": [
        {
          "output_type": "execute_result",
          "data": {
            "text/plain": [
              "            Passengers  Predictions\n",
              "Month                              \n",
              "1960-01-01         417   403.881305\n",
              "1960-02-01         391   399.471655\n",
              "1960-03-01         419   430.942540\n",
              "1960-04-01         461   445.065583\n",
              "1960-05-01         472   471.526407"
            ],
            "text/html": [
              "\n",
              "  <div id=\"df-c46d4ed4-8211-4a4d-9341-7034cb6a1299\">\n",
              "    <div class=\"colab-df-container\">\n",
              "      <div>\n",
              "<style scoped>\n",
              "    .dataframe tbody tr th:only-of-type {\n",
              "        vertical-align: middle;\n",
              "    }\n",
              "\n",
              "    .dataframe tbody tr th {\n",
              "        vertical-align: top;\n",
              "    }\n",
              "\n",
              "    .dataframe thead th {\n",
              "        text-align: right;\n",
              "    }\n",
              "</style>\n",
              "<table border=\"1\" class=\"dataframe\">\n",
              "  <thead>\n",
              "    <tr style=\"text-align: right;\">\n",
              "      <th></th>\n",
              "      <th>Passengers</th>\n",
              "      <th>Predictions</th>\n",
              "    </tr>\n",
              "    <tr>\n",
              "      <th>Month</th>\n",
              "      <th></th>\n",
              "      <th></th>\n",
              "    </tr>\n",
              "  </thead>\n",
              "  <tbody>\n",
              "    <tr>\n",
              "      <th>1960-01-01</th>\n",
              "      <td>417</td>\n",
              "      <td>403.881305</td>\n",
              "    </tr>\n",
              "    <tr>\n",
              "      <th>1960-02-01</th>\n",
              "      <td>391</td>\n",
              "      <td>399.471655</td>\n",
              "    </tr>\n",
              "    <tr>\n",
              "      <th>1960-03-01</th>\n",
              "      <td>419</td>\n",
              "      <td>430.942540</td>\n",
              "    </tr>\n",
              "    <tr>\n",
              "      <th>1960-04-01</th>\n",
              "      <td>461</td>\n",
              "      <td>445.065583</td>\n",
              "    </tr>\n",
              "    <tr>\n",
              "      <th>1960-05-01</th>\n",
              "      <td>472</td>\n",
              "      <td>471.526407</td>\n",
              "    </tr>\n",
              "  </tbody>\n",
              "</table>\n",
              "</div>\n",
              "      <button class=\"colab-df-convert\" onclick=\"convertToInteractive('df-c46d4ed4-8211-4a4d-9341-7034cb6a1299')\"\n",
              "              title=\"Convert this dataframe to an interactive table.\"\n",
              "              style=\"display:none;\">\n",
              "        \n",
              "  <svg xmlns=\"http://www.w3.org/2000/svg\" height=\"24px\"viewBox=\"0 0 24 24\"\n",
              "       width=\"24px\">\n",
              "    <path d=\"M0 0h24v24H0V0z\" fill=\"none\"/>\n",
              "    <path d=\"M18.56 5.44l.94 2.06.94-2.06 2.06-.94-2.06-.94-.94-2.06-.94 2.06-2.06.94zm-11 1L8.5 8.5l.94-2.06 2.06-.94-2.06-.94L8.5 2.5l-.94 2.06-2.06.94zm10 10l.94 2.06.94-2.06 2.06-.94-2.06-.94-.94-2.06-.94 2.06-2.06.94z\"/><path d=\"M17.41 7.96l-1.37-1.37c-.4-.4-.92-.59-1.43-.59-.52 0-1.04.2-1.43.59L10.3 9.45l-7.72 7.72c-.78.78-.78 2.05 0 2.83L4 21.41c.39.39.9.59 1.41.59.51 0 1.02-.2 1.41-.59l7.78-7.78 2.81-2.81c.8-.78.8-2.07 0-2.86zM5.41 20L4 18.59l7.72-7.72 1.47 1.35L5.41 20z\"/>\n",
              "  </svg>\n",
              "      </button>\n",
              "      \n",
              "  <style>\n",
              "    .colab-df-container {\n",
              "      display:flex;\n",
              "      flex-wrap:wrap;\n",
              "      gap: 12px;\n",
              "    }\n",
              "\n",
              "    .colab-df-convert {\n",
              "      background-color: #E8F0FE;\n",
              "      border: none;\n",
              "      border-radius: 50%;\n",
              "      cursor: pointer;\n",
              "      display: none;\n",
              "      fill: #1967D2;\n",
              "      height: 32px;\n",
              "      padding: 0 0 0 0;\n",
              "      width: 32px;\n",
              "    }\n",
              "\n",
              "    .colab-df-convert:hover {\n",
              "      background-color: #E2EBFA;\n",
              "      box-shadow: 0px 1px 2px rgba(60, 64, 67, 0.3), 0px 1px 3px 1px rgba(60, 64, 67, 0.15);\n",
              "      fill: #174EA6;\n",
              "    }\n",
              "\n",
              "    [theme=dark] .colab-df-convert {\n",
              "      background-color: #3B4455;\n",
              "      fill: #D2E3FC;\n",
              "    }\n",
              "\n",
              "    [theme=dark] .colab-df-convert:hover {\n",
              "      background-color: #434B5C;\n",
              "      box-shadow: 0px 1px 3px 1px rgba(0, 0, 0, 0.15);\n",
              "      filter: drop-shadow(0px 1px 2px rgba(0, 0, 0, 0.3));\n",
              "      fill: #FFFFFF;\n",
              "    }\n",
              "  </style>\n",
              "\n",
              "      <script>\n",
              "        const buttonEl =\n",
              "          document.querySelector('#df-c46d4ed4-8211-4a4d-9341-7034cb6a1299 button.colab-df-convert');\n",
              "        buttonEl.style.display =\n",
              "          google.colab.kernel.accessAllowed ? 'block' : 'none';\n",
              "\n",
              "        async function convertToInteractive(key) {\n",
              "          const element = document.querySelector('#df-c46d4ed4-8211-4a4d-9341-7034cb6a1299');\n",
              "          const dataTable =\n",
              "            await google.colab.kernel.invokeFunction('convertToInteractive',\n",
              "                                                     [key], {});\n",
              "          if (!dataTable) return;\n",
              "\n",
              "          const docLinkHtml = 'Like what you see? Visit the ' +\n",
              "            '<a target=\"_blank\" href=https://colab.research.google.com/notebooks/data_table.ipynb>data table notebook</a>'\n",
              "            + ' to learn more about interactive tables.';\n",
              "          element.innerHTML = '';\n",
              "          dataTable['output_type'] = 'display_data';\n",
              "          await google.colab.output.renderOutput(dataTable, element);\n",
              "          const docLink = document.createElement('div');\n",
              "          docLink.innerHTML = docLinkHtml;\n",
              "          element.appendChild(docLink);\n",
              "        }\n",
              "      </script>\n",
              "    </div>\n",
              "  </div>\n",
              "  "
            ]
          },
          "metadata": {},
          "execution_count": 36
        }
      ]
    },
    {
      "cell_type": "markdown",
      "source": [
        "# 4 Evaluación del Modelo"
      ],
      "metadata": {
        "id": "9PucwaY_lrFa"
      }
    },
    {
      "cell_type": "code",
      "source": [
        "# Obtenemos las métricas del modelo\n",
        "\n",
        "from sklearn.metrics import mean_squared_error\n",
        "from math import sqrt\n",
        "\n",
        "rmse = sqrt(mean_squared_error(test['Passengers'], test['Predictions']))\n",
        "print(rmse)"
      ],
      "metadata": {
        "colab": {
          "base_uri": "https://localhost:8080/"
        },
        "id": "TO6QukIOlIgR",
        "outputId": "6eca39d1-3917-48e6-d71e-45c3831b32d5"
      },
      "execution_count": null,
      "outputs": [
        {
          "output_type": "stream",
          "name": "stdout",
          "text": [
            "14.272350821536754\n"
          ]
        }
      ]
    },
    {
      "cell_type": "code",
      "source": [
        "# Graficamos las predicciones y los valores reales\n",
        "\n",
        "test.plot(figsize=(18,9))\n",
        "plt.show()"
      ],
      "metadata": {
        "colab": {
          "base_uri": "https://localhost:8080/",
          "height": 563
        },
        "id": "ii2puftwkhkx",
        "outputId": "2b9a00d0-33ca-4bd3-98dd-ed5e713e4453"
      },
      "execution_count": null,
      "outputs": [
        {
          "output_type": "display_data",
          "data": {
            "text/plain": [
              "<Figure size 1296x648 with 1 Axes>"
            ],
            "image/png": "[encoded data removed]"
          },
          "metadata": {
            "needs_background": "light"
          }
        }
      ]
    },
    {
      "cell_type": "code",
      "source": [],
      "metadata": {
        "id": "Nr5g8T4Fo_NH"
      },
      "execution_count": null,
      "outputs": []
    }
  ]
}